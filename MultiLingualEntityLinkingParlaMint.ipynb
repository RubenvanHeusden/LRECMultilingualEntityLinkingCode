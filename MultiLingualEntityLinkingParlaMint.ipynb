{
 "cells": [
  {
   "cell_type": "markdown",
   "id": "fa80bc2b",
   "metadata": {},
   "source": [
    "# Multilingual Entity Linking in ParlaMint"
   ]
  },
  {
   "cell_type": "markdown",
   "id": "4713e809",
   "metadata": {},
   "source": [
    "This notebook contains all the code used in the epxeriments in the Workshop paper \"Entity Linking in the ParlaMint corpus\". Although the language files were too big to be included on GitHub, they are available through Surfdrive on request.\n",
    "\n",
    "The notebook contains both a small comparison between the systems as well as the implementations of the methods used to retrieve results from the 3 API's respectively. The notebook shows the experiments conducted in the order in which they are discussed in the paper."
   ]
  },
  {
   "cell_type": "markdown",
   "id": "2bfe38f2",
   "metadata": {},
   "source": [
    "## Index\n",
    "1. [Spelling errors in ParlaMint](#spelling_errors)\n",
    "2. [Setting up the systems](#system_setup)\n",
    "   - 2.1 [DBPedia](#dbpedia_setup)\n",
    "   - 2.2 [WikiData](#wikidata_setup)\n",
    "   - 2.3 [YAGO](#yago_setup)\n",
    "3. [Comparison on Local Politicians](#experiment_1)\n",
    "4. [Lemmatization]\n",
    "5. [Aliasing]\n"
   ]
  },
  {
   "cell_type": "markdown",
   "id": "6e253f4b",
   "metadata": {
    "tags": []
   },
   "source": [
    "# Systems\n",
    "\n",
    "All the three systems used in this research can be are available online, and they can either be downloaded entirely, or be used through an API. below are the websites for all three systems. All three systems can work with multiple languages, although the language support is not the same for all three systems.\n",
    "\n",
    "- https://www.dbpedia-spotlight.org\n",
    "- https://yago-knowledge.org\n",
    "- https://www.wikidata.org/wiki/Wikidata:Main_Page"
   ]
  },
  {
   "cell_type": "code",
   "execution_count": 1,
   "id": "f8699898",
   "metadata": {},
   "outputs": [],
   "source": [
    "# Imports\n",
    "# imports\n",
    "import re\n",
    "import os\n",
    "import json\n",
    "import random\n",
    "import requests\n",
    "import numpy as np\n",
    "import pandas as pd\n",
    "from typing import List, Dict, Union\n",
    "from tqdm import tqdm\n",
    "import networkx as nx\n",
    "from collections import Counter\n",
    "import matplotlib.pyplot as plt\n",
    "from collections import defaultdict, Counter\n",
    "%matplotlib inline"
   ]
  },
  {
   "cell_type": "code",
   "execution_count": 2,
   "id": "a73aa691",
   "metadata": {},
   "outputs": [],
   "source": [
    "# Inladen data\n",
    "# Loading of datasets and construction of corpora\n",
    "# dataset loading\n",
    "data_dir = '../Projects/ParlaMintLREpaper/data_with_lemma'\n",
    "\n",
    "all_csv_files = os.listdir(data_dir)\n",
    "if '.DS_Store' in all_csv_files:\n",
    "    all_csv_files.remove('.DS_Store')\n",
    "\n",
    "# Nu gaan we de dataframes aan elkaar plakken, zodat we er weer makkelijk mee kunnen werken.\n",
    "combined_df = pd.concat([pd.read_csv(os.path.join(data_dir, country_file), quotechar='|', infer_datetime_format=True) for country_file in all_csv_files])\n",
    "\n"
   ]
  },
  {
   "cell_type": "markdown",
   "id": "b7ad598c",
   "metadata": {},
   "source": [
    "Below is a small table with the languages that are officialy supported by the three systems."
   ]
  },
  {
   "cell_type": "markdown",
   "id": "8a949ff1",
   "metadata": {},
   "source": [
    "| Language | DBPedia| WikiData | YAGO |\n",
    "| --- | --- | --- | --- |\n",
    "| English | $\\checkmark$ | $\\checkmark$ | $\\checkmark$ |\n",
    "| Dutch | $\\checkmark$ | $\\checkmark$ |  $\\checkmark$ |\n",
    "| French| $\\checkmark$ | $\\checkmark$ | $\\checkmark$ |\n",
    "| Polish | $\\times$ | $\\checkmark$ | $\\checkmark$ |\n",
    "| Czech | $\\times$ | $\\checkmark$ | $\\checkmark$ |\n",
    "| Hungarian | $\\checkmark$ | $\\checkmark$ | $?$ |\n",
    "| Italian | $\\checkmark$ | $\\checkmark$ | $\\checkmark$ |\n",
    "| Spanish | $\\checkmark$ | $\\checkmark$ | $\\checkmark$ |\n",
    "| Icelandic | $\\times$ | $\\checkmark$ | $\\checkmark$ |\n",
    "| Danish | $\\times$ | $\\checkmark$ | $\\checkmark$ |\n",
    "| Croatian | $\\times$ | $\\checkmark$ | $\\checkmark$ |\n",
    "| Latvian| $\\times$ | $\\checkmark$ | $\\checkmark$ |\n",
    "| Lithuanian | $\\times$ | $\\checkmark$ | $\\checkmark$ |\n",
    "| Turkish| $\\checkmark$ | $\\checkmark$ | $\\checkmark$ |"
   ]
  },
  {
   "cell_type": "markdown",
   "id": "1c81f158-a3fd-47cb-ab6f-c2804e010ac4",
   "metadata": {},
   "source": [
    "<a id='spelling_errors'></a>"
   ]
  },
  {
   "cell_type": "markdown",
   "id": "36bbadec",
   "metadata": {},
   "source": [
    "## Experiment 0: Detecting spelling mistakes in the ParlaMint Entities"
   ]
  },
  {
   "cell_type": "markdown",
   "id": "2dc3dfde",
   "metadata": {},
   "source": [
    "Although spelling mistakes are quite rare in the ParlaMint subdatasets because of the careful curation of the parliamentary proceedings, spelling mistakes do show up in rare occassions. To get some statistics on the amount of spelling mistakes happening, we calculated string similarities between the PERS entities in a country and checked for high similarity of an entity that occurred often with an entity that was very similar that did not occur often. We then manually check if they are actually mistakes. For the similarity measure we use the cosine similarity with TF-IDF character ngrams, as it is a simple and fast distance measure. This serves simply as a tool to extract some examples of spelling mistakes"
   ]
  },
  {
   "cell_type": "code",
   "execution_count": 3,
   "id": "c9dfbbeb",
   "metadata": {},
   "outputs": [],
   "source": [
    "from sklearn.feature_extraction.text import TfidfVectorizer"
   ]
  },
  {
   "cell_type": "code",
   "execution_count": 4,
   "id": "58632ec9",
   "metadata": {},
   "outputs": [],
   "source": [
    "dutch_df = combined_df[combined_df.lang == 'NL']\n",
    "dutch_persons = dutch_df[dutch_df.type == 'PER']"
   ]
  },
  {
   "cell_type": "code",
   "execution_count": 5,
   "id": "05c64c88",
   "metadata": {},
   "outputs": [],
   "source": [
    "unique_persons = dutch_persons.string.str.lower().unique().tolist()"
   ]
  },
  {
   "cell_type": "code",
   "execution_count": 6,
   "id": "3fc0bec4",
   "metadata": {},
   "outputs": [],
   "source": [
    "vectorizer = TfidfVectorizer(analyzer='char', ngram_range=(2, 4))"
   ]
  },
  {
   "cell_type": "code",
   "execution_count": 7,
   "id": "0373f57e",
   "metadata": {},
   "outputs": [],
   "source": [
    "person_vectors = vectorizer.fit_transform(unique_persons)\n",
    "person_similarities = (person_vectors @ person_vectors.T).todense() # as these vectors are L2 normalized, cosine similarity is now equal to taking the dot product\n",
    "# we don't want to end up with just the entity itself as most similart, so we set the diagonal to 0.\n",
    "np.fill_diagonal(person_similarities, 0)"
   ]
  },
  {
   "cell_type": "code",
   "execution_count": 8,
   "id": "3449440a",
   "metadata": {},
   "outputs": [],
   "source": [
    "most_similar_names = person_similarities.argmax(axis=1)"
   ]
  },
  {
   "cell_type": "code",
   "execution_count": 9,
   "id": "34ebe90a",
   "metadata": {},
   "outputs": [],
   "source": [
    "most_similar_pairs = {unique_persons[i]: unique_persons[most_similar_names[i].item(0)] for i in range(len(unique_persons))}"
   ]
  },
  {
   "cell_type": "code",
   "execution_count": 10,
   "id": "78557ec5",
   "metadata": {},
   "outputs": [],
   "source": [
    "# oettinger - ottinger\n",
    "# pechtold - pechtol\n",
    "# segers - seger\n",
    "# eijsink - leijsink\n",
    "# rutte - ruttem"
   ]
  },
  {
   "cell_type": "code",
   "execution_count": 11,
   "id": "810e037d",
   "metadata": {},
   "outputs": [],
   "source": [
    "person_occurrences = dutch_persons['string'].str.lower().value_counts()"
   ]
  },
  {
   "cell_type": "markdown",
   "id": "c06855fa",
   "metadata": {},
   "source": [
    "<a id='system_setup'></a>"
   ]
  },
  {
   "cell_type": "markdown",
   "id": "296fc771",
   "metadata": {},
   "source": [
    "# Setting up the EL systems"
   ]
  },
  {
   "cell_type": "markdown",
   "id": "f354b396",
   "metadata": {},
   "source": [
    "In this part of the code, DBPedia, WikiData and YAGO are set up so that they can work through python code. To make the implementation more clean, a base class is set up, from which all of the systems inherit, as they share much of the same underlying structure."
   ]
  },
  {
   "cell_type": "code",
   "execution_count": 23,
   "id": "55c95e80",
   "metadata": {},
   "outputs": [],
   "source": [
    "from abc import ABC, abstractmethod"
   ]
  },
  {
   "cell_type": "code",
   "execution_count": 24,
   "id": "64449c4b",
   "metadata": {},
   "outputs": [],
   "source": [
    "class QueryKnowledgeBase(ABC):\n",
    "    \"\"\"\n",
    "    This class defines a generic way of quering a querying a knowledge base..\n",
    "    \n",
    "    \"\"\"\n",
    "    def __init__(self):\n",
    "        pass\n",
    "    \n",
    "    @abstractmethod\n",
    "    def build_query(self):\n",
    "        pass\n",
    "    \n",
    "    def batch_queries(self, sleep_time: float):\n",
    "        \"\"\"\n",
    "        :param: sleep_time: (float) This parameter is a float representing the\n",
    "        interval between consecutive queries in seconds.\n",
    "        \"\"\"\n",
    "    @abstractmethod\n",
    "    def resolve_entity(self):\n",
    "        pass\n",
    "    \n",
    "    def send_query(self, api_url, params=None):\n",
    "\n",
    "        api_response = requests.post(api_url, headers={'accept': 'application/json'}, params=params)\n",
    "        return api_response.json()\n",
    "        \n",
    "    @abstractmethod\n",
    "    def return_results(self, detailed: bool = False):\n",
    "        pass"
   ]
  },
  {
   "cell_type": "markdown",
   "id": "4eb50caf-b8de-4385-803f-0bde386aded4",
   "metadata": {},
   "source": [
    "<a id='dbpedia_setup'></a>"
   ]
  },
  {
   "cell_type": "markdown",
   "id": "87c398ec-5e50-4cd5-ae97-59a1a2a90a60",
   "metadata": {},
   "source": [
    "## DBPedia"
   ]
  },
  {
   "cell_type": "code",
   "execution_count": 25,
   "id": "89ef8a00",
   "metadata": {},
   "outputs": [],
   "source": [
    "class QueryDBPedia(QueryKnowledgeBase):\n",
    "    \"\"\"\n",
    "    Because of several limitations of DBPedia (discussed in detail below) a multi-step resolution process is used\n",
    "    to obtain the best possible performance of the system.\n",
    "\n",
    "    1. Entity Recognition\n",
    "        1.1 Send a query to the entity recogntion system, together with the language of the entity.\n",
    "\n",
    "        1.2 If this query does not return an entity, we will use the 'search' functionality of \n",
    "        DBPedia, which can be used to search entities. However, this functionality is only implemented\n",
    "        for English, and can produce wildly inaccurate predictions for other languages. For this reason\n",
    "        we check whether the original entity is contained in the output.\n",
    "\n",
    "        1.3 If both methods fail to produce an entity, we revert to the entity with spaces replaced\n",
    "        by underscores, the default format of DBPedia resources. 'Mark Rutte' -> 'Mark Rutte'\n",
    "\n",
    "    2. Entity Retrieval\n",
    "        2.1 The entity name retrieved from step 1 is used to retrieve entity information from the DBPedia\n",
    "        knowledge base. Because not all languages are supported in DBPedia in some languages seem to be broken\n",
    "        ('italy' for example), the entity is first searched in the English version.\n",
    "\n",
    "        2.2 If this does not work, the method back off to the native language of the entities and retries.\n",
    "\n",
    "\n",
    "    3. ID Retrieval\n",
    "        3.1 In order to link entities to a knowledge base, we retrieve the Q-items present in the WikiData system.\n",
    "        These items are sometimes also linked in DBPedia. If these exist, we will retrieve those.\n",
    "        3.2 If these do not esit, we attempt to retrieve a wikipeida article link, and use an wikiata API call\n",
    "        to retrieve the corresponding Q-Item\n",
    "    \"\"\"\n",
    "        \n",
    "    def __init__(self):\n",
    "        super().__init__()\n",
    "        self.id = \"DBPEDIA\"\n",
    "        \n",
    "    def entity_recognition(self, entity: str, lang: str) -> str:\n",
    "        # this list doesnt contain all languages supported in the demo, as some of these dont work in the API\n",
    "        if lang not in ['ca', 'de', 'fr', 'hu', 'nl', 'ro']:\n",
    "            # try live, and see if this works\n",
    "            lang = 'en' # default to english\n",
    "            dbpedia_sparql_endpoint = 'http://dbpedia.org/sparql/'\n",
    "\n",
    "        else:\n",
    "            dbpedia_sparql_endpoint = 'http://%s.dbpedia.org/sparql/' % lang\n",
    "\n",
    "\n",
    "        dbpedia_search_endpoint = 'https://lookup.dbpedia.org/api/search'\n",
    "\n",
    "        # First do a search for the entity if this doesnt work we go ahead and use english search\n",
    "        search_params = {\n",
    "            'query': entity,\n",
    "            'format': 'json'\n",
    "        }\n",
    "        \n",
    "        entity_recognition_params = {\n",
    "            'text': entity\n",
    "        }\n",
    "\n",
    "\n",
    "        dbpedia_query_url = 'https://api.dbpedia-spotlight.org/%s/candidates' % lang\n",
    "        response = requests.post(dbpedia_query_url, headers={'accept': 'application/json',\n",
    "                                                            'confidence': str(confidence)}, data=params).json()        \n",
    "\n",
    "        if type(response['annotation'].get('surfaceForm')) == list and (type(response['annotation'].get('surfaceForm'))):\n",
    "            uri_label = response['annotation']['surfaceForm'][0]['resource']['@uri']\n",
    "\n",
    "        elif response['annotation'].get('surfaceForm', None):\n",
    "            uri_label = response['annotation']['surfaceForm']['resource']['@uri']\n",
    "\n",
    "        if (not response['annotation'].get('surfaceForm', None)) or (uri_label != entity.replace(' ', '_')):\n",
    "            search_response = requests.post(dbpedia_search_endpoint, headers={'accept': 'application/json'}, data=s_params).json()\n",
    "            if search_response['docs']:\n",
    "                uri_label = search_response['docs'][0]['resource'][0].split('/')[-1]\n",
    "                if use_raw_entity:\n",
    "                    if uri_label != entity.replace(' ', '_'):\n",
    "                        uri_label = entity.replace(' ', '_')\n",
    "            else:\n",
    "                if use_raw_entity:\n",
    "                    uri_label = entity.replace(' ', '_')\n",
    "                else:\n",
    "                    return None\n",
    "\n",
    "\n",
    "        \n",
    "        \n",
    "        \n",
    "    def build_query(self):\n",
    "        pass\n",
    "        \n",
    "    def return_results(self):\n",
    "        pass\n",
    "    \n",
    "    def resolve_entity(self):\n",
    "        pass\n",
    "    "
   ]
  },
  {
   "cell_type": "code",
   "execution_count": 26,
   "id": "8404615c",
   "metadata": {},
   "outputs": [],
   "source": [
    "# Het opzetten van de drie systemen\n",
    "# dbpedia\n",
    "\n",
    "def get_dbpedia_result(entity, lang, return_string=False, confidence=0.50, use_raw_entity=False):\n",
    "    # This is the match in dbpedia we will have to use a SPARQL query next to fetch the wikidata Q ID\n",
    "    # I include english itslef here as well to make sure we don't add 'en' to urls because that doenst work well\n",
    "    if lang not in ['ca', 'de', 'fr', 'hu', 'nl', 'ro']:\n",
    "        lang = 'en' # default to english\n",
    "        dbpedia_sparql_endpoint = 'http://dbpedia.org/sparql/'\n",
    "\n",
    "    else:\n",
    "        dbpedia_sparql_endpoint = 'http://%s.dbpedia.org/sparql/' % lang\n",
    "            \n",
    "    \n",
    "    dbpedia_search_endpoint = 'https://lookup.dbpedia.org/api/search'\n",
    "    \n",
    "    entity_research_links = {item: \"NULL\" for item in entity}\n",
    "\n",
    "    # First we try candidates, because this one is more conservative and will not usally get false positive\n",
    "    \n",
    "    # First we have to prep our entities to work with the candidates API\n",
    "    entity_string_list = \" \".join(entity)\n",
    "    \n",
    "    params = {'text': entity_string_list}\n",
    "    dbpedia_query_url = 'https://api.dbpedia-spotlight.org/%s/candidates' % lang\n",
    "    response = requests.post(dbpedia_query_url, headers={'accept': 'application/json',\n",
    "                                                        'confidence': str(confidence)}, data=params).json()['annotation']['surfaceForm']       \n",
    "    \n",
    "\n",
    "    for found_entity in response:\n",
    "        found_name = found_entity['resource']['@label']\n",
    "        found_uri = found_entity['resource']['@uri']\n",
    "        if entity_research_links.get(found_name, None):\n",
    "            entity_research_links[found_name] = found_uri\n",
    "\n",
    "    # get the people who'se names have not yet been resolved\n",
    "    unresolved_entity_names = [key for key, value in entity_research_links.items() if value == \"NULL\"]\n",
    "\n",
    "    for entity in tqdm(unresolved_entity_names):\n",
    "        search_params = {'query': entity, 'format': 'json'}\n",
    "        search_result = requests.post(dbpedia_search_endpoint, headers={'accept': 'application/json'}, data=search_params).json()['docs']\n",
    "        if search_result:\n",
    "            search_name = search_result[0]['resource'][0].split('/')[-1]\n",
    "            entity_research_links[entity] = search_name\n",
    "    \n",
    "    unresolved_entity_names_2 = [key for key, value in entity_research_links.items() if value == \"NULL\"]\n",
    "    \n",
    "    for item in unresolved_entity_names_2:\n",
    "        entity_research_links[item] = item.replace(\" \", '_')\n",
    "    \n",
    "    # To get the best results we have to de multiple retrieval attempts, we will first try to get the\n",
    "    # entity from the main dbpedia database, as this gives us the most information, if this is not \n",
    "    # possible, we will go to a language specific version.\n",
    "    \n",
    "    sparql_query_1 = \"\"\"\n",
    "    SELECT distinct ?wikidata_concept\n",
    "    WHERE {<http://dbpedia.org/resource/%s> owl:sameAs ?wikidata_concept .\n",
    "    FILTER(REGEX(STR(?wikidata_concept), \"Q([0-9]+)\"))\n",
    "    }\n",
    "    LIMIT 1\n",
    "    \"\"\"\n",
    "    main_dbpedia_response = requests.get('http://dbpedia.org/sparql/',\n",
    "                                            params = {'format': 'json',\n",
    "                                                      'query': sparql_query_1 % uri_label}).json()\n",
    "    \n",
    "    if main_dbpedia_response['results']['bindings']:\n",
    "        q_number = main_dbpedia_response['results']['bindings'][0]['wikidata_concept']['value'].split('/')[-1]\n",
    "    else:\n",
    "        # Back off to the local entity and find the Q number or wikilink here\n",
    "        sparql_query_2 = \"\"\"\n",
    "        PREFIX foaf: <http://xmlns.com/foaf/0.1/> \n",
    "        SELECT distinct ?wikidata_concept ?wikipage ?q_number\n",
    "        WHERE { ?wikidata_concept foaf:name \"%s\"@%s .\n",
    "            OPTIONAL {?wikidata_concept foaf:isPrimaryTopicOf ?wikipage}\n",
    "            OPTIONAL {?wikidata_concept owl:sameAs ?q_number\n",
    "            FILTER(REGEX(STR(?q_number), \"Q([0-9]+)\", \"s\"))\n",
    "            }\n",
    "        }\n",
    "        LIMIT 1\n",
    "        \"\"\"\n",
    "        wikilink_response = requests.get(dbpedia_sparql_endpoint,\n",
    "                                                params = {'format': 'json',\n",
    "                                                          'query': sparql_query_2 % (uri_label.replace('_', ' '), lang)}).json()\n",
    "        if wikilink_response['results']['bindings']:\n",
    "            if not wikilink_response['results']['bindings'][0].get('wikipage', None):\n",
    "                return None\n",
    "            wikipage = wikilink_response['results']['bindings'][0]['wikipage']['value']\n",
    "            find_q_item_params = {\n",
    "            'action': 'query',\n",
    "            'prop': 'pageprops',\n",
    "            'ppprop': 'wikibase_item',\n",
    "            'redirects': 1,\n",
    "            'format': 'json',\n",
    "            'titles': wikipage.split('/')[-1]}\n",
    "            lang_wiki = wikipage.split('http://')[1][:2]\n",
    "\n",
    "            q_params_url = 'https://%s.wikipedia.org/w/api.php' % lang_wiki\n",
    "\n",
    "            new_q_number = requests.post(q_params_url, params=find_q_item_params, headers={'Content-Type': 'application/json'}).json()\n",
    "            q_number = list(new_q_number['query']['pages'].values())[0]['pageprops']['wikibase_item']\n",
    "        else:\n",
    "            return None\n",
    "        \n",
    "    if not return_string:\n",
    "        return q_number\n",
    "    else:\n",
    "        return (uri_label, q_number) \n"
   ]
  },
  {
   "cell_type": "markdown",
   "id": "9b042cf4-185d-4bdc-8ff5-3bc3095b87bc",
   "metadata": {},
   "source": [
    "<a id='wikidata_setup'></a>"
   ]
  },
  {
   "cell_type": "markdown",
   "id": "6f92f32b-b783-45f8-8f92-a269d1a75da0",
   "metadata": {},
   "source": [
    "## WikiData"
   ]
  },
  {
   "cell_type": "code",
   "execution_count": 32,
   "id": "20bc8872",
   "metadata": {},
   "outputs": [],
   "source": [
    "class QueryWikiData(QueryKnowledgeBase):\n",
    "    \"\"\"\n",
    "    This class supports batch querying, which is significantly faster than issuing\n",
    "    multiple queries seperately, when retrieving multiple entities.\n",
    "    \n",
    "    \"\"\"\n",
    "    \n",
    "    def __init__(self):\n",
    "        super().__init__()\n",
    "        self.api_endpoint = 'https://query.wikidata.org/sparql'\n",
    "        self.id = \"WIKIDATA\"\n",
    "        \n",
    "    def instantiate_sparql_query(self, entity: str, lang: str) -> str:\n",
    "        \"\"\"\n",
    "        :param: entity (str): string specifying the entity that is searched for. \n",
    "        :param: lang (str): Language in which the entity is searched for.\n",
    "        \n",
    "        \"\"\"\n",
    "        \n",
    "        sparql_query = \"\"\"        SELECT * WHERE {\n",
    "          VALUES ?searchTerm { %s }\n",
    "          SERVICE wikibase:mwapi {\n",
    "              bd:serviceParam wikibase:endpoint \"www.wikidata.org\";\n",
    "                              wikibase:api \"EntitySearch\";\n",
    "                              wikibase:limit \"once\" ;\n",
    "                              mwapi:search ?searchTerm;\n",
    "                                mwapi:limit 1;\n",
    "                              mwapi:language \"%s\".\n",
    "              ?item wikibase:apiOutputItem mwapi:item.\n",
    "              ?num wikibase:apiOrdinal true.\n",
    "          }\n",
    "        }\n",
    "        \"\"\" % (entity, lang)\n",
    "        \n",
    "        return sparql_query\n",
    "\n",
    "   \n",
    "\n",
    "    def build_query(self, entity: Union[str, List], lang: str):\n",
    "        \"\"\"\n",
    "        :param: entity (str): string specifying the entity that is searched for. \n",
    "        :param: lang (str): Language in which the entity is searched for.\n",
    "        \n",
    "        \"\"\"\n",
    "        # support both single entity retrieval and batch entity retrieval\n",
    "        if type(entity) == str:\n",
    "            entity = [entity]\n",
    "        \n",
    "        string_entities = \" \".join(['\"%s\"' % item for item in entity])\n",
    "        query_params = {'format': 'json', 'query': self.instantiate_sparql_query(string_entities, lang)}\n",
    "        return query_params\n",
    "    \n",
    "    \n",
    "    def return_results(self, result_json: dict, input_queries: str) -> List[Dict]:\n",
    "        \"\"\"\n",
    "        :param: result_json (dict): dictionary containing the API response\n",
    "        from WikiData. The result is in the form {'vars': [], 'results':{'bindings': []}}\n",
    "        :param: input_queries (str): Because WikiData does not return anything when an entity is not\n",
    "        retrieved, we need the input query to find whether something was returned for that specific search term.\n",
    "        \"\"\"\n",
    "        \n",
    "        results = []\n",
    "        \n",
    "        # check wheter we got a response\n",
    "        if not result_json['results']['bindings']:\n",
    "            return None\n",
    "        \n",
    "        returned_items = result_json['results']['bindings']\n",
    "        filtered_results = {result['searchTerm']['value']: result['item']['value'].split('/')[-1] for result in returned_items}\n",
    "        \n",
    "        output = [filtered_results.get(query, \"NIL\") for query in input_queries]\n",
    "        \n",
    "        assert len(output) == len(input_queries)\n",
    "        \n",
    "        return output\n",
    "        \n",
    "    \n",
    "    def resolve_entity(self, entity: Union[str, List], lang: str) -> List[Dict]:\n",
    "        \"\"\"\n",
    "        :param: entity (str): string specifying the entity that is searched for. \n",
    "        :param: lang (str): Language in which the entity is searched for.\n",
    "        \n",
    "        \"\"\"\n",
    "        sparql_query = self.build_query(entity, lang)\n",
    "        query_results_json = self.send_query(self.api_endpoint, params=sparql_query)\n",
    "        formatted_response = self.return_results(query_results_json, entity)\n",
    "        return formatted_response\n",
    "    \n",
    "        "
   ]
  },
  {
   "cell_type": "code",
   "execution_count": 33,
   "id": "be6ecfb3",
   "metadata": {},
   "outputs": [],
   "source": [
    "wikidata_resolver = QueryWikiData()"
   ]
  },
  {
   "cell_type": "code",
   "execution_count": 34,
   "id": "7d458061",
   "metadata": {},
   "outputs": [],
   "source": [
    "ent = wikidata_resolver.resolve_entity(['Europa', 'ff', 'sdfsdf'], 'bg')"
   ]
  },
  {
   "cell_type": "code",
   "execution_count": 35,
   "id": "7562ac2f",
   "metadata": {},
   "outputs": [
    {
     "data": {
      "text/plain": [
       "['Q3143', 'Q184172', 'NIL']"
      ]
     },
     "execution_count": 35,
     "metadata": {},
     "output_type": "execute_result"
    }
   ],
   "source": [
    "ent"
   ]
  },
  {
   "cell_type": "markdown",
   "id": "f0ff3699-f8c7-4af3-a305-28c2beb2b722",
   "metadata": {},
   "source": [
    "<a id='yago_setup'></a>"
   ]
  },
  {
   "cell_type": "markdown",
   "id": "113b35cc-cad6-433c-807c-0013785ee4bc",
   "metadata": {},
   "source": [
    "## YAGO"
   ]
  },
  {
   "cell_type": "code",
   "execution_count": 36,
   "id": "513b9dd5",
   "metadata": {},
   "outputs": [],
   "source": [
    "class QueryYAGO(QueryKnowledgeBase):\n",
    "    \"\"\"\n",
    "    This class supports batch querying, which is significantly faster than issuing\n",
    "    multiple queries seperately, when retrieving multiple entities.\n",
    "    \n",
    "    \"\"\"\n",
    "    \n",
    "    def __init__(self):\n",
    "        super().__init__()\n",
    "        self.api_endpoint = 'https://yago-knowledge.org/sparql/query'\n",
    "        self.id = \"YAGO\"\n",
    "        \n",
    "    def instantiate_sparql_query(self, entity: str, number_of_queries: int) -> str:\n",
    "        \"\"\"\n",
    "        :param: entity (str): string specifying the entity that is searched for. \n",
    "        :param: number_of_queries (str): Number of queries, used to retrieve the Q numbers\n",
    "        \n",
    "        \"\"\"\n",
    "        \n",
    "        sparql_query = \"\"\"\n",
    "        PREFIX owl: <http://www.w3.org/2002/07/owl#>\n",
    "        PREFIX rdf: <http://www.w3.org/1999/02/22-rdf-syntax-ns#>\n",
    "        PREFIX rdfs: <http://www.w3.org/2000/01/rdf-schema#>\n",
    "        select  *\n",
    "        where {\n",
    "              values ?item { %s } \n",
    "              ?resource rdfs:label ?item .\n",
    "              ?resource owl:sameAs ?q_number\n",
    "            filter(regex(STR(?q_number), \"Q[0-9].+\", \"s\" )) \n",
    "            }  \n",
    "        LIMIT %d\n",
    "        \"\"\" % (entity, number_of_queries)\n",
    "        \n",
    "        return sparql_query\n",
    "\n",
    "   \n",
    "\n",
    "    def build_query(self, entity: Union[str, List], lang: str):\n",
    "        \"\"\"\n",
    "        :param: entity (str): string specifying the entity that is searched for. \n",
    "        :param: lang (str): Language in which the entity is searched for.\n",
    "        \n",
    "        \"\"\"\n",
    "        # support both single entity retrieval and batch entity retrieval\n",
    "        if type(entity) == str:\n",
    "            entity = [entity]\n",
    "        \n",
    "        string_entities = \" \".join(['\"%s\"@%s' % (item, lang) for item in entity])\n",
    "        query_params = {'format': 'json', 'query': self.instantiate_sparql_query(string_entities, len(entity))}\n",
    "        return query_params\n",
    "    \n",
    "    \n",
    "    def return_results(self, result_json: dict, input_queries: str) -> List[Dict]:\n",
    "        \"\"\"\n",
    "        :param: result_json (dict): dictionary containing the API response\n",
    "        from WikiData. The result is in the form {'vars': [], 'results':{'bindings': []}}\n",
    "        :param: input_queries (str): Because WikiData does not return anything when an entity is not\n",
    "        retrieved, we need the input query to find whether something was returned for that specific search term.\n",
    "        \"\"\"\n",
    "        \n",
    "        results = []\n",
    "        \n",
    "        # check wheter we got a response\n",
    "        if not result_json['results']['bindings']:\n",
    "            return None\n",
    "        \n",
    "        returned_items = result_json['results']['bindings']\n",
    "        filtered_results = {result['item']['value']: result['q_number']['value'].split('/')[-1] for result in returned_items}\n",
    "        \n",
    "        output = [filtered_results.get(query, \"NIL\") for query in input_queries]\n",
    "        \n",
    "        assert len(output) == len(input_queries)\n",
    "        \n",
    "        return output\n",
    "        \n",
    "    \n",
    "    def resolve_entity(self, entity: Union[str, List], lang: str) -> List[Dict]:\n",
    "        \"\"\"\n",
    "        :param: entity (str): string specifying the entity that is searched for. \n",
    "        :param: lang (str): Language in which the entity is searched for.\n",
    "        \n",
    "        \"\"\"\n",
    "        sparql_query = self.build_query(entity, lang)\n",
    "        query_results_json = self.send_query(self.api_endpoint, params=sparql_query)\n",
    "        formatted_response = self.return_results(query_results_json, entity)\n",
    "        return formatted_response\n",
    "    \n",
    "        "
   ]
  },
  {
   "cell_type": "code",
   "execution_count": 37,
   "id": "5e3e132e",
   "metadata": {},
   "outputs": [],
   "source": [
    "# instantiate a yago resolver\n",
    "yago_resolver = QueryYAGO()\n"
   ]
  },
  {
   "cell_type": "markdown",
   "id": "1511f4dd-4846-4fad-89cc-c0f3c6f2b531",
   "metadata": {},
   "source": [
    "## Experiment Setup"
   ]
  },
  {
   "cell_type": "code",
   "execution_count": 42,
   "id": "0bd81cc7",
   "metadata": {},
   "outputs": [],
   "source": [
    "from sklearn.metrics import accuracy_score\n",
    "class Experiment():\n",
    "    def __init__(self, systems=[\"DBPEDIA\", \"WIKIDATA\", \"YAGO\"], lang='en'):\n",
    "        systems_dict = {\"DBPEDIA\": QueryDBPedia(), \"WIKIDATA\": QueryWikiData(), \"YAGO\": QueryYAGO()}\n",
    "        self.used_systems = [systems_dict[system] for system in systems]\n",
    "        self.lang = lang\n",
    "        \n",
    "        # Determine if some language processing must be done\n",
    "        \n",
    "    def run_experiment(self, gold_standard_text: List[str]):\n",
    "        system_predictions = {}\n",
    "        \n",
    "        for system in self.used_systems:\n",
    "            system_out = system.resolve_entity(gold_standard_text, self.lang)\n",
    "            system_predictions[system.id] = system_out\n",
    "        return system_predictions\n",
    "\n",
    "    \n",
    "    def accuracy(self, pred_dict: Dict, gold_standard_labels: List[str]):\n",
    "        return {sys_id: accuracy_score(gold_standard_labels, pred_dict[sys_id]) for sys_id in pred_dict.keys()}\n",
    "        \n",
    "    def mistake_analysis(self, pred_dict: Dict, gold_standard_labels: List[str]):\n",
    "        # This method takes the output of the systems, and shows overlap and differences in mistakes\n",
    "        # add can also show what types of errors the systems made (wrong entities or NIL predictions)\n",
    "        # The code only works with two or three systems\n",
    "        \n",
    "        # First we need to make a dictionairy with the mistakes of all three systems\n",
    "        # Here we identify a mistake by using the index of the item that it didnt predict correctly.\n",
    "        \n",
    "        mistakes = defaultdict(list)\n",
    "        \n",
    "        for system, predictions in pred_dict.items():\n",
    "            for i in range(len(predictions)):\n",
    "                if predictions[i] != gold_standard_labels[i]:\n",
    "                    mistakes[system].append(predictions[i])\n",
    "        \n",
    "\n",
    "        wikidata = set(mistakes['WIKIDATA'])\n",
    "        dbpedia = set(mistakes['DBPEDIA'])\n",
    "        yago = set(mistakes['YAGO'])\n",
    "\n",
    "        a = len(wikidata - (yago | dbpedia))\n",
    "        b = len(dbpedia - (wikidata | yago))\n",
    "        c = len((wikidata & dbpedia) - yago)\n",
    "        d = len(yago - (wikidata | dbpedia))\n",
    "        e = len((yago & wikidata) - dbpedia)\n",
    "        f = len((yago & dbpedia) - wikidata)\n",
    "        g = len(yago & wikidata & dbpedia)\n",
    "\n",
    "        return (a, b, c, d, e, f, g), [\"WIKIDATA\", \"DBPEDIA\", \"YAGO\"]\n",
    "            \n",
    "            \n",
    "            \n",
    "            \n",
    "            \n",
    "        "
   ]
  },
  {
   "cell_type": "code",
   "execution_count": 43,
   "id": "08b4e120",
   "metadata": {},
   "outputs": [],
   "source": [
    "a = Experiment(systems=[\"YAGO\", \"WIKIDATA\"])"
   ]
  },
  {
   "cell_type": "code",
   "execution_count": 44,
   "id": "c2d523e3",
   "metadata": {},
   "outputs": [],
   "source": [
    "def get_entities_from_parlamint(ent_type, country=None, exclude_types=None):\n",
    "    assert ent_type in [\"international\", 'regional', 'local']\n",
    "    \n",
    "    filtered_combined_df = combined_df.drop_duplicates(subset=['lang', 'string'])\n",
    "    \n",
    "    if exclude_types:\n",
    "        filtered_combined_df = filtered_combined_df[~filtered_combined_df['type'].isin(exclude_types)]\n",
    "    \n",
    "    popularity_df = filtered_combined_df[['string', 'lang', 'lemma']]\n",
    "    \n",
    "    popular_ents = popularity_df.groupby('string')['lang'].nunique().to_dict()\n",
    "    popularity_df['lang_count'] = popularity_df['string'].map(popular_ents)\n",
    "    \n",
    "    \n",
    "    if ent_type == \"international\":\n",
    "        return popularity_df[(popularity_df['lang_count'] > 8) & (popularity_df['lang'] == country)]\n",
    "    elif ent_type == \"regional\":\n",
    "        return popularity_df[(( popularity_df['lang_count'] >= 2) & ( popularity_df['lang_count'] <= 4)) & (popularity_df['lang'] == country)]\n",
    "    else:\n",
    "        return popularity_df[(popularity_df['lang_count'] == 1) & (popularity_df['lang'] == country)]"
   ]
  },
  {
   "cell_type": "markdown",
   "id": "dfcdb514",
   "metadata": {},
   "source": [
    "# Experiment 1: Popular Entities test\n",
    "\n",
    "In this test we are first going to look at the international entities, than the regional entities and finally the local entities. For now I have just used the unordered lists within groups, not sorting on total number of occurrences, I can add this in later and see how that changes results.\n"
   ]
  },
  {
   "cell_type": "code",
   "execution_count": 410,
   "id": "5d8def6f",
   "metadata": {},
   "outputs": [
    {
     "name": "stderr",
     "output_type": "stream",
     "text": [
      "<ipython-input-365-ae4ab4ec3f94>:12: SettingWithCopyWarning: \n",
      "A value is trying to be set on a copy of a slice from a DataFrame.\n",
      "Try using .loc[row_indexer,col_indexer] = value instead\n",
      "\n",
      "See the caveats in the documentation: https://pandas.pydata.org/pandas-docs/stable/user_guide/indexing.html#returning-a-view-versus-a-copy\n",
      "  popularity_df['lang_count'] = popularity_df['string'].map(popular_ents)\n"
     ]
    }
   ],
   "source": [
    "international_ents_french = get_entities_from_parlamint('international', 'FR')[:20]['lemma'].tolist()"
   ]
  },
  {
   "cell_type": "code",
   "execution_count": 411,
   "id": "3208c2e0",
   "metadata": {},
   "outputs": [
    {
     "data": {
      "text/plain": [
       "['C',\n",
       " 'Paris',\n",
       " 'Europe',\n",
       " 'S',\n",
       " 'Macron',\n",
       " 'François Hollande',\n",
       " 'Emmanuel Macron',\n",
       " 'Venezuela',\n",
       " 'Sahel',\n",
       " 'Iran',\n",
       " 'Ford',\n",
       " 'Lyon',\n",
       " 'D',\n",
       " 'PISA',\n",
       " 'Albert',\n",
       " 'à',\n",
       " 'Rotterdam',\n",
       " 'le monde',\n",
       " 'Chicago',\n",
       " 'Jersey']"
      ]
     },
     "execution_count": 411,
     "metadata": {},
     "output_type": "execute_result"
    }
   ],
   "source": [
    "international_ents_french"
   ]
  },
  {
   "cell_type": "code",
   "execution_count": 412,
   "id": "98cfebdc",
   "metadata": {},
   "outputs": [],
   "source": [
    "gold_labels_french = ['NIL', 'Q90', 'Q46', 'NIL',\n",
    "                                    'Q3052772', 'Q157', 'Q3052772',\n",
    "                                    'Q717', 'Q66065',\n",
    "                                    'Q794', 'Q44294', 'Q456',\n",
    "                                    'NIL', 'Q13375', 'NIL',\n",
    "                                    'NIL', 'Q34370', 'Q12461',\n",
    "                                    'Q1297', 'Q1408']"
   ]
  },
  {
   "cell_type": "code",
   "execution_count": 268,
   "id": "0365a425",
   "metadata": {},
   "outputs": [
    {
     "name": "stdout",
     "output_type": "stream",
     "text": [
      "DBPEDIA accuracy is 0.45\n",
      "WIKIDATA accuracy is 0.70\n",
      "YAGO accuracy is 0.55\n"
     ]
    }
   ],
   "source": [
    "for sys in ['DBPEDIA', 'WIKIDATA', 'YAGO']:\n",
    "    \n",
    "    acc = accuracy(international_ent_results['gold'],\n",
    "                   international_ent_results[sys])\n",
    "    \n",
    "    print(\"%s accuracy is %.2f\" % (sys, acc))"
   ]
  },
  {
   "cell_type": "code",
   "execution_count": 413,
   "id": "2072a73e",
   "metadata": {},
   "outputs": [],
   "source": [
    "international_french_experiment = Experiment(systems=[\"WIKIDATA\", \"YAGO\"], lang='fr')"
   ]
  },
  {
   "cell_type": "code",
   "execution_count": 414,
   "id": "46ac404f",
   "metadata": {},
   "outputs": [],
   "source": [
    "french_results = international_french_experiment.run_experiment(international_ents_french)"
   ]
  },
  {
   "cell_type": "code",
   "execution_count": 416,
   "id": "4978d97d",
   "metadata": {},
   "outputs": [
    {
     "data": {
      "text/plain": [
       "{'WIKIDATA': 0.7, 'YAGO': 0.1}"
      ]
     },
     "execution_count": 416,
     "metadata": {},
     "output_type": "execute_result"
    }
   ],
   "source": [
    "international_french_experiment.accuracy(french_results, gold_labels_french)"
   ]
  },
  {
   "cell_type": "markdown",
   "id": "413152f8",
   "metadata": {},
   "source": [
    "<a id='experiment_1'></a>"
   ]
  },
  {
   "cell_type": "markdown",
   "id": "b20635ee",
   "metadata": {},
   "source": [
    "# Experiment 1: Local Politicians from Parlamint"
   ]
  },
  {
   "cell_type": "markdown",
   "id": "6f5f007c",
   "metadata": {},
   "source": [
    "In this experiment, we are going to emulate the case of linking names of politicians using the three systems described above. For this we use WikiData to extract members of parliament from countries, using 'MemberOf' relationships."
   ]
  },
  {
   "cell_type": "code",
   "execution_count": 47,
   "id": "8c38b9e7",
   "metadata": {},
   "outputs": [],
   "source": [
    "# The syntax here is taken from the https://www.wikidata.org/wiki/Wikidata:WikiProject_every_politicianhttps://www.wikidata.org/wiki/Wikidata:WikiProject_every_politician\n",
    "# Project, and copied from some examples of countries that used this query. \n",
    "# although it will not work perfectly for all countries, all these politicians have\n",
    "# wikidata entries (by definition) and therefore can be used as gold standard\n",
    "# As seen in the query, I filtered on currently active members, although this \n",
    "# might not be necessary. \n",
    "\n",
    "# TODO: I could also do this for 'ministers' only, this would only require a very small \n",
    "# change to the current code, as I would just have to replace 's:P39/wdt:P279*' (occupation)\n",
    "# with the q code of minister in a specific country.\n",
    "\n",
    "# Because some data on end dates is missing, the query will sometimes return policiticans \n",
    "# that are historical 'start data 1818' but still returned by our query. Although this is not \n",
    "# necessarily a problem, I added another filter that binds the start date to a more recent\n",
    "# date, to limit the number of results.\n",
    "\n",
    "# I also return in the native language when possible, to ensure a difficult enough linking later\n",
    "base_sparql_query = \"\"\"\n",
    "SELECT ?item ?itemLabel ?group ?groupLabel ?district ?districtLabel ?term ?termLabel ?start ?end\n",
    "WHERE \n",
    "{\n",
    "  ?item p:P39 ?statement .\n",
    "  ?statement ps:P39/wdt:P279* wd:%s ; pq:P580 ?start .\n",
    "  OPTIONAL { ?statement pq:P2937 ?term }\n",
    "  OPTIONAL { ?statement pq:P582  ?end }\n",
    "  OPTIONAL { ?statement pq:P768  ?district }\n",
    "  OPTIONAL { ?statement pq:P4100 ?group }\n",
    "  FILTER((!BOUND(?end) || ?end > NOW()) && (?start > \"2014-01-01T00:00:00+00:00\"^^xsd:dateTime) )\n",
    "  SERVICE wikibase:label { bd:serviceParam wikibase:language \"[AUTO_LANGUAGE],en\". }\n",
    "}\n",
    "ORDER BY ?start ?end\n",
    "\"\"\""
   ]
  },
  {
   "cell_type": "markdown",
   "id": "42bde5e4",
   "metadata": {},
   "source": [
    "Below are the the identifiers that we need to find the appropriate members of parliament for the respective parliaments."
   ]
  },
  {
   "cell_type": "code",
   "execution_count": 48,
   "id": "2d47cf02",
   "metadata": {},
   "outputs": [],
   "source": [
    "country_chambers_dict = {\n",
    "    'nl': {'Lower House': 'Q18887908', 'Upper House': 'Q19305384'},\n",
    "    'pl': {'Lower House': 'Q19269361', 'Upper House': 'Q20066605'},\n",
    "    'de': {'Lower House': 'Q1939555', 'Upper House': 'Q15835370'},\n",
    "    'fr': {'Lower House': 'Q3044918', 'Upper House': 'Q14828018'},\n",
    "    'cz': {'Lower House': 'Q19803234', 'Upper House': 'Q18941264'},\n",
    "    'en': {'Lower House': 'Q16707842', 'Upper House': 'Q18952564'},\n",
    "    'hu': {'Lower House': 'Q17590876'},\n",
    "    'dk': {'Lower House': 'Q12311817'},\n",
    "    'es': {'Upper House': 'Q18171345', 'Lower House': 'Q22998436'},\n",
    "    'hr': {'Lower House': 'Q18643511', 'Upper House': 'Q44419830'},\n",
    "    'it': {'Lower House': 'Q18558478', 'Upper House': 'Q13653224'},\n",
    "    'is': {'Lower House': 'Q21272959'},\n",
    "    'lt': {'Lower House': 'Q18507240'},\n",
    "    'lv': {'Lower House': 'Q21191589'},\n",
    "    'tr': {'Lower House': 'Q21030356'},\n",
    "    'be': {'Lower House': 'Q15705021'}\n",
    "}"
   ]
  },
  {
   "cell_type": "markdown",
   "id": "283dd448",
   "metadata": {},
   "source": [
    "Now we write a short method to extract the names of the entities we want to extract."
   ]
  },
  {
   "cell_type": "code",
   "execution_count": 49,
   "id": "9b976fa5",
   "metadata": {},
   "outputs": [],
   "source": [
    "# only lower chambers for now\n",
    "def get_gold_standard_for_countries():\n",
    "\n",
    "    output_dict = {}\n",
    "    \n",
    "    for country, chambers in tqdm(country_chambers_dict.items()):\n",
    "\n",
    "    #     for chamber,Q_number_chambers in chambers.items():\n",
    "\n",
    "    #         response = requests.get('https://query.wikidata.org/sparql', params = {'format': 'json', 'query': }).json()\n",
    "        response = requests.get('https://query.wikidata.org/sparql', params = {'format': 'json', 'query': base_sparql_query % chambers['Lower House']}).json()\n",
    "        politician_names = [(item['itemLabel']['value'], item['item']['value'].split('/')[-1]) for item in response['results']['bindings']]\n",
    "        \n",
    "        output_dict[country] = politician_names\n",
    "    \n",
    "    return output_dict"
   ]
  },
  {
   "cell_type": "code",
   "execution_count": 50,
   "id": "41e2ccbb",
   "metadata": {},
   "outputs": [
    {
     "name": "stderr",
     "output_type": "stream",
     "text": [
      "100%|██████████| 16/16 [00:44<00:00,  2.81s/it]\n"
     ]
    }
   ],
   "source": [
    "# Retrieve the members of parliament for all countries specified.\n",
    "politicians_gold_standard = get_gold_standard_for_countries()"
   ]
  },
  {
   "cell_type": "code",
   "execution_count": 51,
   "id": "daa7ce70",
   "metadata": {},
   "outputs": [
    {
     "data": {
      "image/png": "[encoded data removed]",
      "text/plain": [
       "<Figure size 432x288 with 1 Axes>"
      ]
     },
     "metadata": {
      "needs_background": "light"
     },
     "output_type": "display_data"
    }
   ],
   "source": [
    "# Show the number of entities retrieved for all the countries.\n",
    "number_of_politicians = {country: len(val) for country, val in politicians_gold_standard.items()}\n",
    "pd.Series(number_of_politicians).sort_values(ascending=False).plot(kind='bar', title=\"Number of politicians from 01-01-2014 onwards in all respective Lower Houses\",xlabel='Country',\n",
    "                                     ylabel='Number of politicians')\n",
    "plt.show()\n"
   ]
  },
  {
   "cell_type": "code",
   "execution_count": 352,
   "id": "38685308",
   "metadata": {},
   "outputs": [],
   "source": [
    "def run_systems_for_country(gold_standard_country, systems=['DBPEDIA', 'WIKIDATA', 'YAGO'], limit=None, language='en', sleeptime=1.0):\n",
    "    # Deze functie returned de predicties van de modellen\n",
    "    # met limit kunnen we hele grote aantallen politici limiten (zoals Duitsland met 700) zodat we \n",
    "    # niet teveel queries maken. We kunnen dit leeg laten om het over alles te runnen.\n",
    "    \n",
    "    results = {}\n",
    "\n",
    "    gold_standard_q_numbers = [item[1] for item in gold_standard_country][:limit]\n",
    "    gold_standard_labels = [item[0] for item in gold_standard_country][:limit]\n",
    "\n",
    "    for system in systems:\n",
    "\n",
    "        sys_results = make_queries(gold_standard_labels, language, system, sleeptime=sleeptime)\n",
    "\n",
    "        system_q_numbers = [item[1] if item else 'NIL' for item in sys_results]\n",
    "        system_labels = [item[0] if item else 'NIL' for item in sys_results]\n",
    "        \n",
    "        results[system] = system_q_numbers\n",
    "\n",
    "    return results"
   ]
  },
  {
   "cell_type": "code",
   "execution_count": 350,
   "id": "5f21616c",
   "metadata": {},
   "outputs": [],
   "source": [
    "def calculate_country_accuracy(country_gold_standard, country_predictions_dict, eval_type='acc', limit=None):\n",
    "    scores = {}\n",
    "    \n",
    "    gold_standard_q_numbers = [item[1] for item in country_gold_standard][:limit]\n",
    "    \n",
    "    for system, predictions in country_predictions_dict.items():\n",
    "        scores[system] = accuracy(gold_standard_q_numbers, predictions) \n",
    "    \n",
    "    return scores"
   ]
  },
  {
   "cell_type": "code",
   "execution_count": 1286,
   "id": "b391ae6d",
   "metadata": {},
   "outputs": [
    {
     "name": "stderr",
     "output_type": "stream",
     "text": [
      "\n",
      "  0%|          | 0/100 [00:00<?, ?it/s]\u001b[A\n",
      "  1%|          | 1/100 [00:01<02:05,  1.27s/it]\u001b[A\n",
      "  2%|▏         | 2/100 [00:02<02:06,  1.29s/it]\u001b[A\n",
      "  3%|▎         | 3/100 [00:03<02:03,  1.28s/it]\u001b[A\n",
      "  4%|▍         | 4/100 [00:05<02:01,  1.27s/it]\u001b[A\n",
      "  5%|▌         | 5/100 [00:06<01:59,  1.26s/it]\u001b[A\n",
      "  6%|▌         | 6/100 [00:07<01:59,  1.27s/it]\u001b[A\n",
      "  7%|▋         | 7/100 [00:09<02:01,  1.31s/it]\u001b[A\n",
      "  8%|▊         | 8/100 [00:10<02:00,  1.31s/it]\u001b[A\n",
      "  9%|▉         | 9/100 [00:11<01:57,  1.29s/it]\u001b[A\n",
      " 10%|█         | 10/100 [00:12<01:55,  1.29s/it]\u001b[A\n",
      " 11%|█         | 11/100 [00:14<01:53,  1.27s/it]\u001b[A\n",
      " 12%|█▏        | 12/100 [00:15<01:52,  1.27s/it]\u001b[A\n",
      " 13%|█▎        | 13/100 [00:16<01:50,  1.27s/it]\u001b[A\n",
      " 14%|█▍        | 14/100 [00:18<01:54,  1.33s/it]\u001b[A\n",
      " 15%|█▌        | 15/100 [00:19<01:51,  1.31s/it]\u001b[A\n",
      " 16%|█▌        | 16/100 [00:20<01:50,  1.32s/it]\u001b[A\n",
      " 17%|█▋        | 17/100 [00:21<01:48,  1.30s/it]\u001b[A\n",
      " 18%|█▊        | 18/100 [00:23<01:45,  1.29s/it]\u001b[A\n",
      " 19%|█▉        | 19/100 [00:24<01:48,  1.34s/it]\u001b[A\n",
      " 20%|██        | 20/100 [00:26<01:46,  1.33s/it]\u001b[A\n",
      " 21%|██        | 21/100 [00:27<01:43,  1.31s/it]\u001b[A\n",
      " 22%|██▏       | 22/100 [00:28<01:41,  1.30s/it]\u001b[A\n",
      " 23%|██▎       | 23/100 [00:29<01:41,  1.32s/it]\u001b[A\n",
      " 24%|██▍       | 24/100 [00:31<01:39,  1.31s/it]\u001b[A\n",
      " 25%|██▌       | 25/100 [00:32<01:39,  1.33s/it]\u001b[A\n",
      " 26%|██▌       | 26/100 [00:34<01:40,  1.36s/it]\u001b[A\n",
      " 27%|██▋       | 27/100 [00:35<01:41,  1.38s/it]\u001b[A\n",
      " 28%|██▊       | 28/100 [00:36<01:36,  1.34s/it]\u001b[A\n",
      " 29%|██▉       | 29/100 [00:37<01:33,  1.32s/it]\u001b[A\n",
      " 30%|███       | 30/100 [00:39<01:33,  1.33s/it]\u001b[A\n",
      " 31%|███       | 31/100 [00:40<01:30,  1.31s/it]\u001b[A\n",
      " 32%|███▏      | 32/100 [00:41<01:28,  1.30s/it]\u001b[A\n",
      " 33%|███▎      | 33/100 [00:43<01:26,  1.28s/it]\u001b[A\n",
      " 34%|███▍      | 34/100 [00:44<01:24,  1.28s/it]\u001b[A\n",
      " 35%|███▌      | 35/100 [00:45<01:22,  1.28s/it]\u001b[A\n",
      " 36%|███▌      | 36/100 [00:47<01:23,  1.30s/it]\u001b[A\n",
      " 37%|███▋      | 37/100 [00:48<01:22,  1.31s/it]\u001b[A\n",
      " 38%|███▊      | 38/100 [00:49<01:20,  1.30s/it]\u001b[A\n",
      " 39%|███▉      | 39/100 [00:51<01:21,  1.33s/it]\u001b[A\n",
      " 40%|████      | 40/100 [00:52<01:18,  1.30s/it]\u001b[A\n",
      " 41%|████      | 41/100 [00:53<01:16,  1.29s/it]\u001b[A\n",
      " 42%|████▏     | 42/100 [00:54<01:14,  1.28s/it]\u001b[A\n",
      " 43%|████▎     | 43/100 [00:56<01:12,  1.28s/it]\u001b[A\n",
      " 44%|████▍     | 44/100 [00:57<01:12,  1.29s/it]\u001b[A\n",
      " 45%|████▌     | 45/100 [00:58<01:11,  1.29s/it]\u001b[A\n",
      " 46%|████▌     | 46/100 [00:59<01:09,  1.28s/it]\u001b[A\n",
      " 47%|████▋     | 47/100 [01:01<01:07,  1.27s/it]\u001b[A\n",
      " 48%|████▊     | 48/100 [01:02<01:06,  1.27s/it]\u001b[A\n",
      " 49%|████▉     | 49/100 [01:03<01:04,  1.27s/it]\u001b[A\n",
      " 50%|█████     | 50/100 [01:04<01:03,  1.27s/it]\u001b[A\n",
      " 51%|█████     | 51/100 [01:06<01:02,  1.27s/it]\u001b[A\n",
      " 52%|█████▏    | 52/100 [01:07<01:00,  1.27s/it]\u001b[A\n",
      " 53%|█████▎    | 53/100 [01:08<01:01,  1.32s/it]\u001b[A\n",
      " 54%|█████▍    | 54/100 [01:10<01:00,  1.32s/it]\u001b[A\n",
      " 55%|█████▌    | 55/100 [01:11<01:02,  1.39s/it]\u001b[A\n",
      " 56%|█████▌    | 56/100 [01:13<01:00,  1.36s/it]\u001b[A\n",
      " 57%|█████▋    | 57/100 [01:14<00:57,  1.33s/it]\u001b[A\n",
      " 58%|█████▊    | 58/100 [01:15<00:55,  1.31s/it]\u001b[A\n",
      " 59%|█████▉    | 59/100 [01:16<00:52,  1.29s/it]\u001b[A\n",
      " 60%|██████    | 60/100 [01:18<00:51,  1.28s/it]\u001b[A\n",
      " 61%|██████    | 61/100 [01:19<00:50,  1.30s/it]\u001b[A\n",
      " 62%|██████▏   | 62/100 [01:20<00:49,  1.31s/it]\u001b[A\n",
      " 63%|██████▎   | 63/100 [01:22<00:49,  1.35s/it]\u001b[A\n",
      " 64%|██████▍   | 64/100 [01:23<00:48,  1.34s/it]\u001b[A\n",
      " 65%|██████▌   | 65/100 [01:24<00:46,  1.32s/it]\u001b[A\n",
      " 66%|██████▌   | 66/100 [01:26<00:44,  1.31s/it]\u001b[A\n",
      " 67%|██████▋   | 67/100 [01:27<00:42,  1.30s/it]\u001b[A\n",
      " 68%|██████▊   | 68/100 [01:28<00:41,  1.28s/it]\u001b[A\n",
      " 69%|██████▉   | 69/100 [01:29<00:39,  1.27s/it]\u001b[A\n",
      " 70%|███████   | 70/100 [01:31<00:37,  1.27s/it]\u001b[A\n",
      " 71%|███████   | 71/100 [01:32<00:38,  1.32s/it]\u001b[A\n",
      " 72%|███████▏  | 72/100 [01:33<00:37,  1.32s/it]\u001b[A\n",
      " 73%|███████▎  | 73/100 [01:35<00:35,  1.30s/it]\u001b[A\n",
      " 74%|███████▍  | 74/100 [01:36<00:33,  1.29s/it]\u001b[A\n",
      " 75%|███████▌  | 75/100 [01:37<00:32,  1.32s/it]\u001b[A\n",
      " 76%|███████▌  | 76/100 [01:39<00:31,  1.30s/it]\u001b[A\n",
      " 77%|███████▋  | 77/100 [01:40<00:29,  1.30s/it]\u001b[A\n",
      " 78%|███████▊  | 78/100 [01:41<00:29,  1.34s/it]\u001b[A\n",
      " 79%|███████▉  | 79/100 [01:43<00:27,  1.31s/it]\u001b[A\n",
      " 80%|████████  | 80/100 [01:44<00:25,  1.29s/it]\u001b[A\n",
      " 81%|████████  | 81/100 [01:45<00:25,  1.35s/it]\u001b[A\n",
      " 82%|████████▏ | 82/100 [01:47<00:24,  1.38s/it]\u001b[A\n",
      " 83%|████████▎ | 83/100 [01:48<00:22,  1.34s/it]\u001b[A\n",
      " 84%|████████▍ | 84/100 [01:49<00:21,  1.36s/it]\u001b[A\n",
      " 85%|████████▌ | 85/100 [01:51<00:19,  1.33s/it]\u001b[A\n",
      " 86%|████████▌ | 86/100 [01:52<00:18,  1.32s/it]\u001b[A\n",
      " 87%|████████▋ | 87/100 [01:54<00:18,  1.39s/it]\u001b[A\n",
      " 88%|████████▊ | 88/100 [01:55<00:16,  1.37s/it]\u001b[A\n",
      " 89%|████████▉ | 89/100 [01:56<00:14,  1.36s/it]\u001b[A\n",
      " 90%|█████████ | 90/100 [01:57<00:13,  1.32s/it]\u001b[A\n",
      " 91%|█████████ | 91/100 [01:59<00:11,  1.30s/it]\u001b[A\n",
      " 92%|█████████▏| 92/100 [02:00<00:10,  1.30s/it]\u001b[A\n",
      " 93%|█████████▎| 93/100 [02:01<00:09,  1.30s/it]\u001b[A\n",
      " 94%|█████████▍| 94/100 [02:03<00:07,  1.29s/it]\u001b[A\n",
      " 95%|█████████▌| 95/100 [02:04<00:06,  1.27s/it]\u001b[A\n",
      " 96%|█████████▌| 96/100 [02:05<00:05,  1.27s/it]\u001b[A\n",
      " 97%|█████████▋| 97/100 [02:06<00:03,  1.28s/it]\u001b[A\n",
      " 98%|█████████▊| 98/100 [02:08<00:02,  1.27s/it]\u001b[A\n",
      " 99%|█████████▉| 99/100 [02:09<00:01,  1.27s/it]\u001b[A\n",
      "100%|██████████| 100/100 [02:10<00:00,  1.31s/it]\u001b[A"
     ]
    },
    {
     "name": "stdout",
     "output_type": "stream",
     "text": [
      "('René Peters', 'Q29021764') Q43193445\n",
      "('Sophie Hermans', 'Q28860996') Q74468310\n",
      "{'WIKIDATA': [16, 30]}\n"
     ]
    },
    {
     "name": "stderr",
     "output_type": "stream",
     "text": [
      "\n"
     ]
    },
    {
     "ename": "KeyError",
     "evalue": "'DBPEDIA'",
     "output_type": "error",
     "traceback": [
      "\u001b[0;31m---------------------------------------------------------------------------\u001b[0m",
      "\u001b[0;31mKeyError\u001b[0m                                  Traceback (most recent call last)",
      "\u001b[0;32m<ipython-input-1286-776f0ebeb913>\u001b[0m in \u001b[0;36m<module>\u001b[0;34m\u001b[0m\n\u001b[1;32m     22\u001b[0m \u001b[0mprint\u001b[0m\u001b[0;34m(\u001b[0m\u001b[0msystem_mistakes\u001b[0m\u001b[0;34m)\u001b[0m\u001b[0;34m\u001b[0m\u001b[0;34m\u001b[0m\u001b[0m\n\u001b[1;32m     23\u001b[0m \u001b[0;31m# get the mistakes for all systems\u001b[0m\u001b[0;34m\u001b[0m\u001b[0;34m\u001b[0m\u001b[0;34m\u001b[0m\u001b[0m\n\u001b[0;32m---> 24\u001b[0;31m \u001b[0mvenn_diagram_systems\u001b[0m\u001b[0;34m(\u001b[0m\u001b[0msystem_mistakes\u001b[0m\u001b[0;34m)\u001b[0m\u001b[0;34m\u001b[0m\u001b[0;34m\u001b[0m\u001b[0m\n\u001b[0m\u001b[1;32m     25\u001b[0m \u001b[0mcalculate_country_accuracy\u001b[0m\u001b[0;34m(\u001b[0m\u001b[0mgold_standard_nl\u001b[0m\u001b[0;34m,\u001b[0m \u001b[0mnl_results\u001b[0m\u001b[0;34m,\u001b[0m \u001b[0meval_type\u001b[0m\u001b[0;34m=\u001b[0m\u001b[0;34m'acc'\u001b[0m\u001b[0;34m,\u001b[0m \u001b[0mlimit\u001b[0m\u001b[0;34m=\u001b[0m\u001b[0;36m100\u001b[0m\u001b[0;34m)\u001b[0m\u001b[0;34m\u001b[0m\u001b[0;34m\u001b[0m\u001b[0m\n\u001b[1;32m     26\u001b[0m \u001b[0;31m# first get the right data\u001b[0m\u001b[0;34m\u001b[0m\u001b[0;34m\u001b[0m\u001b[0;34m\u001b[0m\u001b[0m\n",
      "\u001b[0;32m<ipython-input-1016-6e4ee491a0b2>\u001b[0m in \u001b[0;36mvenn_diagram_systems\u001b[0;34m(systems_dict)\u001b[0m\n\u001b[1;32m     23\u001b[0m \u001b[0;34m\u001b[0m\u001b[0m\n\u001b[1;32m     24\u001b[0m     \u001b[0mwikidata\u001b[0m \u001b[0;34m=\u001b[0m \u001b[0mset\u001b[0m\u001b[0;34m(\u001b[0m\u001b[0msystems_dict\u001b[0m\u001b[0;34m[\u001b[0m\u001b[0;34m'WIKIDATA'\u001b[0m\u001b[0;34m]\u001b[0m\u001b[0;34m)\u001b[0m\u001b[0;34m\u001b[0m\u001b[0;34m\u001b[0m\u001b[0m\n\u001b[0;32m---> 25\u001b[0;31m     \u001b[0mdbpedia\u001b[0m \u001b[0;34m=\u001b[0m \u001b[0mset\u001b[0m\u001b[0;34m(\u001b[0m\u001b[0msystems_dict\u001b[0m\u001b[0;34m[\u001b[0m\u001b[0;34m'DBPEDIA'\u001b[0m\u001b[0;34m]\u001b[0m\u001b[0;34m)\u001b[0m\u001b[0;34m\u001b[0m\u001b[0;34m\u001b[0m\u001b[0m\n\u001b[0m\u001b[1;32m     26\u001b[0m     \u001b[0myago\u001b[0m \u001b[0;34m=\u001b[0m \u001b[0mset\u001b[0m\u001b[0;34m(\u001b[0m\u001b[0msystems_dict\u001b[0m\u001b[0;34m[\u001b[0m\u001b[0;34m'YAGO'\u001b[0m\u001b[0;34m]\u001b[0m\u001b[0;34m)\u001b[0m\u001b[0;34m\u001b[0m\u001b[0;34m\u001b[0m\u001b[0m\n\u001b[1;32m     27\u001b[0m \u001b[0;34m\u001b[0m\u001b[0m\n",
      "\u001b[0;31mKeyError\u001b[0m: 'DBPEDIA'"
     ]
    }
   ],
   "source": [
    "# single country test with a limit at 50, just to test the code\n",
    "# YAGO uses cs for czech instead of cz\n",
    "test_country = 'nl'\n",
    "gold_standard_nl = politicians_gold_standard[test_country]\n",
    "# remove duplicates\n",
    "# gold_standard_nl  = list(set(hungarian_gold_standard))\n",
    "    \n",
    "# NOTE: we moeten hier indices van fouten opslaan, zo kunnen we zien welke mensen de systemen fout hebben, en kunnen we ook zien\n",
    "# wie dat dan precies zijn.\n",
    "\n",
    "nl_results = run_systems_for_country(gold_standard_nl, systems=['WIKIDATA'], limit=100, language=test_country, sleeptime=0.5)\n",
    "system_mistakes = {}\n",
    "\n",
    "for system in ['WIKIDATA']:\n",
    "    mistakes = []\n",
    "    for i, (a, b) in enumerate(zip(gold_standard_nl, nl_results[system])):\n",
    "        if a[1] != b:\n",
    "            print(a, b)\n",
    "            mistakes.append(i)\n",
    "    system_mistakes[system] = mistakes\n",
    "            \n",
    "print(system_mistakes)\n",
    "# get the mistakes for all systems\n",
    "venn_diagram_systems(system_mistakes)\n",
    "calculate_country_accuracy(gold_standard_nl, nl_results, eval_type='acc', limit=100)\n",
    "# first get the right data\n"
   ]
  },
  {
   "cell_type": "code",
   "execution_count": 1301,
   "id": "aa0de871",
   "metadata": {},
   "outputs": [
    {
     "name": "stderr",
     "output_type": "stream",
     "text": [
      "<ipython-input-1301-65be646a4e04>:2: MatplotlibDeprecationWarning: savefig() got unexpected keyword argument \"output\" which is no longer supported as of 3.3 and will become an error two minor releases later\n",
      "  plt.savefig('venn_diag_systems_raw.pdf', output='pdf')\n"
     ]
    },
    {
     "data": {
      "image/png": "[encoded data removed]",
      "text/plain": [
       "<Figure size 432x288 with 1 Axes>"
      ]
     },
     "metadata": {},
     "output_type": "display_data"
    }
   ],
   "source": [
    "venn3_unweighted(subsets = totalled_counts, set_labels = ('Wikidata', 'DBPedia', 'YAGO'), alpha = 0.3)\n",
    "plt.savefig('venn_diag_systems_raw.pdf', output='pdf')\n",
    "plt.show()"
   ]
  },
  {
   "cell_type": "code",
   "execution_count": 1096,
   "id": "eda72bc0",
   "metadata": {},
   "outputs": [],
   "source": [
    "# and a normalized one\n",
    "normed_counts = (totalled_counts / totalled_counts.sum()).round(2)"
   ]
  },
  {
   "cell_type": "code",
   "execution_count": 1097,
   "id": "83a868cc",
   "metadata": {},
   "outputs": [
    {
     "data": {
      "image/png": "[encoded data removed]",
      "text/plain": [
       "<Figure size 432x288 with 1 Axes>"
      ]
     },
     "metadata": {},
     "output_type": "display_data"
    }
   ],
   "source": [
    "venn3_unweighted(subsets = normed_counts, set_labels = ('Wikidata', 'DBPedia', 'YAGO'), alpha = 0.3)\n",
    "plt.savefig('venn_diag_systems_normalized.png')\n",
    "plt.show()"
   ]
  },
  {
   "cell_type": "code",
   "execution_count": 1050,
   "id": "a38e5891",
   "metadata": {},
   "outputs": [],
   "source": [
    "# test the construction of a venn diagram\n",
    "from matplotlib_venn import venn3, venn3_circles, venn3_unweighted"
   ]
  },
  {
   "cell_type": "code",
   "execution_count": 1016,
   "id": "c0af9006",
   "metadata": {},
   "outputs": [],
   "source": [
    "# the creation of a venn diagram via this package is a bit tricky, as the different numbers are given in as a list where the order matters\n",
    "# I have made a list with with each item means and what I want in there.\n",
    "\n",
    "# 1. Only A\n",
    "# 2. Only B\n",
    "# 3. A and B\n",
    "# 4. Only C\n",
    "# 5. C and A \n",
    "# 6. C and B\n",
    "# 7. A, B and C\n",
    "\n",
    "# Translated to our case\n",
    "\n",
    "# 1. Only Wikidata\n",
    "# 2. Only DBpedia\n",
    "# 3. Wikidata and DBPedia\n",
    "# 4. Only YAGO\n",
    "# 5. YAGO and WikiData\n",
    "# 6. YAGO and DBPedia\n",
    "# 7. ALL\n",
    "\n",
    "    \n",
    "    # return venn3(subsets = (a, b, c, d, e, f, g), set_labels = ('Wikidata', 'DBPedia', 'YAGO'), alpha = 0.5)\n",
    "    \n",
    "    #return venn3_unweighted(subsets = (a, b, c, d, e, f, g), set_labels = ('Wikidata', 'DBPedia', 'YAGO'), alpha = 0.3)\n",
    "    \n",
    "    "
   ]
  },
  {
   "cell_type": "code",
   "execution_count": 1017,
   "id": "0aedb72f",
   "metadata": {},
   "outputs": [
    {
     "name": "stdout",
     "output_type": "stream",
     "text": [
      "(1, 0, 0, 40, 0, 2, 1)\n"
     ]
    },
    {
     "data": {
      "image/png": "[encoded data removed]",
      "text/plain": [
       "<Figure size 432x288 with 1 Axes>"
      ]
     },
     "metadata": {},
     "output_type": "display_data"
    }
   ],
   "source": [
    "v = venn_diagram_systems(system_mistakes)\n",
    "#v.get_patch_by_id('111').set_color('grey')"
   ]
  },
  {
   "cell_type": "code",
   "execution_count": null,
   "id": "c8fc8d2e",
   "metadata": {},
   "outputs": [],
   "source": [
    "# Ik twijfel een beetje over welke versie ik moet nemen, die venn3 is natuurlijk meer 'waarheidsgetrouw' maar die unweighted maakt het wat \n",
    "# makkelijker"
   ]
  },
  {
   "cell_type": "code",
   "execution_count": 948,
   "id": "a090257e",
   "metadata": {},
   "outputs": [
    {
     "data": {
      "image/png": "[encoded data removed]",
      "text/plain": [
       "<Figure size 432x288 with 1 Axes>"
      ]
     },
     "metadata": {},
     "output_type": "display_data"
    }
   ],
   "source": [
    "venn3(subsets = (20, 10, 12, 10, 9, 4, 3), set_labels = ('Group A', 'Group B', 'Group C'), alpha = 0.5);\n"
   ]
  },
  {
   "cell_type": "markdown",
   "id": "d1a92f74",
   "metadata": {},
   "source": [
    "Deze test ziet er goed uit, laten we het nu maar eens voor alle landen runnen!"
   ]
  },
  {
   "cell_type": "code",
   "execution_count": null,
   "id": "c9e0b854",
   "metadata": {},
   "outputs": [],
   "source": [
    "nl  0.16\t0.98\t0.92\n",
    "de\t0.52\t0.97\t0.74\n",
    "fr\t0.75\t0.96\t0.94\n",
    "cz\t0.15\t0.00\t0.00\n",
    "hu\t0.00\t0.92\t0.00\n",
    "en\t0.81\t0.91\t0.85\n",
    "it\t0.16\t0.95\t0.97\n",
    "is\t0.46\t1.00\t0.85\n",
    "Mean\t0.38\t0.85\t0.65\n",
    "Tabel met voor 9 landen de accuracy "
   ]
  },
  {
   "cell_type": "code",
   "execution_count": 31,
   "id": "de2eb9a1",
   "metadata": {},
   "outputs": [
    {
     "name": "stderr",
     "output_type": "stream",
     "text": [
      "  0%|          | 0/100 [00:00<?, ?it/s]"
     ]
    },
    {
     "name": "stdout",
     "output_type": "stream",
     "text": [
      "Currently processing the nl politicians\n"
     ]
    },
    {
     "name": "stderr",
     "output_type": "stream",
     "text": [
      "  0%|          | 0/100 [00:01<?, ?it/s]\n"
     ]
    },
    {
     "ename": "KeyboardInterrupt",
     "evalue": "",
     "output_type": "error",
     "traceback": [
      "\u001b[0;31m---------------------------------------------------------------------------\u001b[0m",
      "\u001b[0;31mKeyboardInterrupt\u001b[0m                         Traceback (most recent call last)",
      "\u001b[0;32m<ipython-input-31-5581ee517666>\u001b[0m in \u001b[0;36m<module>\u001b[0;34m\u001b[0m\n\u001b[1;32m      7\u001b[0m \u001b[0;32mfor\u001b[0m \u001b[0mcountry\u001b[0m\u001b[0;34m,\u001b[0m \u001b[0mgold_standard_country\u001b[0m \u001b[0;32min\u001b[0m \u001b[0mpoliticians_gold_standard\u001b[0m\u001b[0;34m.\u001b[0m\u001b[0mitems\u001b[0m\u001b[0;34m(\u001b[0m\u001b[0;34m)\u001b[0m\u001b[0;34m:\u001b[0m\u001b[0;34m\u001b[0m\u001b[0;34m\u001b[0m\u001b[0m\n\u001b[1;32m      8\u001b[0m     \u001b[0mprint\u001b[0m\u001b[0;34m(\u001b[0m\u001b[0;34m\"Currently processing the %s politicians\"\u001b[0m \u001b[0;34m%\u001b[0m \u001b[0mcountry\u001b[0m\u001b[0;34m)\u001b[0m\u001b[0;34m\u001b[0m\u001b[0;34m\u001b[0m\u001b[0m\n\u001b[0;32m----> 9\u001b[0;31m     country_results = run_systems_for_country(gold_standard_country, systems=['DBPEDIA','WIKIDATA', 'YAGO'], limit=label_limit, language=country,\n\u001b[0m\u001b[1;32m     10\u001b[0m                                              sleeptime=1.0)\n\u001b[1;32m     11\u001b[0m     \u001b[0mscores_country\u001b[0m \u001b[0;34m=\u001b[0m \u001b[0mcalculate_country_accuracy\u001b[0m\u001b[0;34m(\u001b[0m\u001b[0mgold_standard_country\u001b[0m\u001b[0;34m,\u001b[0m \u001b[0mcountry_results\u001b[0m\u001b[0;34m,\u001b[0m \u001b[0meval_type\u001b[0m\u001b[0;34m=\u001b[0m\u001b[0;34m'acc'\u001b[0m\u001b[0;34m,\u001b[0m \u001b[0mlimit\u001b[0m\u001b[0;34m=\u001b[0m\u001b[0mlabel_limit\u001b[0m\u001b[0;34m)\u001b[0m\u001b[0;34m\u001b[0m\u001b[0;34m\u001b[0m\u001b[0m\n",
      "\u001b[0;32m<ipython-input-27-f5037b080210>\u001b[0m in \u001b[0;36mrun_systems_for_country\u001b[0;34m(gold_standard_country, systems, limit, language, sleeptime)\u001b[0m\n\u001b[1;32m     11\u001b[0m     \u001b[0;32mfor\u001b[0m \u001b[0msystem\u001b[0m \u001b[0;32min\u001b[0m \u001b[0msystems\u001b[0m\u001b[0;34m:\u001b[0m\u001b[0;34m\u001b[0m\u001b[0;34m\u001b[0m\u001b[0m\n\u001b[1;32m     12\u001b[0m \u001b[0;34m\u001b[0m\u001b[0m\n\u001b[0;32m---> 13\u001b[0;31m         \u001b[0msys_results\u001b[0m \u001b[0;34m=\u001b[0m \u001b[0mmake_queries\u001b[0m\u001b[0;34m(\u001b[0m\u001b[0mgold_standard_labels\u001b[0m\u001b[0;34m,\u001b[0m \u001b[0mlanguage\u001b[0m\u001b[0;34m,\u001b[0m \u001b[0msystem\u001b[0m\u001b[0;34m,\u001b[0m \u001b[0msleeptime\u001b[0m\u001b[0;34m=\u001b[0m\u001b[0msleeptime\u001b[0m\u001b[0;34m)\u001b[0m\u001b[0;34m\u001b[0m\u001b[0;34m\u001b[0m\u001b[0m\n\u001b[0m\u001b[1;32m     14\u001b[0m \u001b[0;34m\u001b[0m\u001b[0m\n\u001b[1;32m     15\u001b[0m         \u001b[0msystem_q_numbers\u001b[0m \u001b[0;34m=\u001b[0m \u001b[0;34m[\u001b[0m\u001b[0mitem\u001b[0m\u001b[0;34m[\u001b[0m\u001b[0;36m1\u001b[0m\u001b[0;34m]\u001b[0m \u001b[0;32mif\u001b[0m \u001b[0mitem\u001b[0m \u001b[0;32melse\u001b[0m \u001b[0;34m'NIL'\u001b[0m \u001b[0;32mfor\u001b[0m \u001b[0mitem\u001b[0m \u001b[0;32min\u001b[0m \u001b[0msys_results\u001b[0m\u001b[0;34m]\u001b[0m\u001b[0;34m\u001b[0m\u001b[0;34m\u001b[0m\u001b[0m\n",
      "\u001b[0;32m<ipython-input-12-3d8a0d2425c0>\u001b[0m in \u001b[0;36mmake_queries\u001b[0;34m(list_of_entities, lang, system, sleeptime)\u001b[0m\n\u001b[1;32m     12\u001b[0m         \u001b[0;32mfor\u001b[0m \u001b[0mentity\u001b[0m \u001b[0;32min\u001b[0m \u001b[0mtqdm\u001b[0m\u001b[0;34m(\u001b[0m\u001b[0mlist_of_entities\u001b[0m\u001b[0;34m)\u001b[0m\u001b[0;34m:\u001b[0m\u001b[0;34m\u001b[0m\u001b[0;34m\u001b[0m\u001b[0m\n\u001b[1;32m     13\u001b[0m             \u001b[0mresults\u001b[0m\u001b[0;34m.\u001b[0m\u001b[0mappend\u001b[0m\u001b[0;34m(\u001b[0m\u001b[0mget_dbpedia_result\u001b[0m\u001b[0;34m(\u001b[0m\u001b[0mentity\u001b[0m\u001b[0;34m,\u001b[0m \u001b[0mlang\u001b[0m\u001b[0;34m,\u001b[0m \u001b[0mreturn_string\u001b[0m\u001b[0;34m=\u001b[0m\u001b[0;32mTrue\u001b[0m\u001b[0;34m)\u001b[0m\u001b[0;34m)\u001b[0m\u001b[0;34m\u001b[0m\u001b[0;34m\u001b[0m\u001b[0m\n\u001b[0;32m---> 14\u001b[0;31m             \u001b[0mtime\u001b[0m\u001b[0;34m.\u001b[0m\u001b[0msleep\u001b[0m\u001b[0;34m(\u001b[0m\u001b[0msleeptime\u001b[0m\u001b[0;34m)\u001b[0m\u001b[0;34m\u001b[0m\u001b[0;34m\u001b[0m\u001b[0m\n\u001b[0m\u001b[1;32m     15\u001b[0m \u001b[0;34m\u001b[0m\u001b[0m\n\u001b[1;32m     16\u001b[0m     \u001b[0;32melif\u001b[0m \u001b[0msystem\u001b[0m \u001b[0;34m==\u001b[0m \u001b[0;34m'WIKIDATA'\u001b[0m\u001b[0;34m:\u001b[0m\u001b[0;34m\u001b[0m\u001b[0;34m\u001b[0m\u001b[0m\n",
      "\u001b[0;31mKeyboardInterrupt\u001b[0m: "
     ]
    }
   ],
   "source": [
    "# TODO: mark whether a certain country / language is supported in the systems.\n",
    "\n",
    "complete_results = {}\n",
    "\n",
    "label_limit = 100\n",
    "\n",
    "for country, gold_standard_country in politicians_gold_standard.items():\n",
    "    print(\"Currently processing the %s politicians\" % country)\n",
    "    country_results = run_systems_for_country(gold_standard_country, systems=['DBPEDIA','WIKIDATA', 'YAGO'], limit=label_limit, language=country,\n",
    "                                             sleeptime=1.0)\n",
    "    scores_country = calculate_country_accuracy(gold_standard_country, country_results, eval_type='acc', limit=label_limit)\n",
    "    \n",
    "    complete_results[country] = scores_country\n",
    "    print(complete_results.keys())"
   ]
  },
  {
   "cell_type": "code",
   "execution_count": 118,
   "id": "6f55808e",
   "metadata": {},
   "outputs": [],
   "source": [
    "# pd.DataFrame(complete_results).T.round(2)"
   ]
  },
  {
   "cell_type": "code",
   "execution_count": 144,
   "id": "c3b59d4d",
   "metadata": {},
   "outputs": [],
   "source": [
    "results = {'nl': {'DBPEDIA': 0.37, 'WIKIDATA': 0.98, 'YAGO': 0.57},\n",
    " 'pl': {'DBPEDIA': 0.16216216216216217,\n",
    "  'WIKIDATA': 0.972972972972973,\n",
    "  'YAGO': 0.918918918918919},\n",
    " 'de': {'DBPEDIA': 0.52, 'WIKIDATA': 0.97, 'YAGO': 0.74},\n",
    " 'fr': {'DBPEDIA': 0.75, 'WIKIDATA': 0.96, 'YAGO': 0.94},\n",
    " 'cz': {'DBPEDIA': 0.15, 'WIKIDATA': 0.0, 'YAGO': 0.0},\n",
    " 'hu': {'DBPEDIA': 0.0, 'WIKIDATA': 0.92, 'YAGO': 0.0},\n",
    "'en': {'DBPEDIA': 0.81, 'WIKIDATA': 0.91, 'YAGO': 0.85},\n",
    "'it': {'DBPEDIA': 0.16, 'WIKIDATA': 0.95, 'YAGO': 0.97},\n",
    "'is': {'DBPEDIA': 0.46, 'WIKIDATA': 1.0, 'YAGO': 0.85}}"
   ]
  },
  {
   "cell_type": "code",
   "execution_count": 150,
   "id": "feee7f0f",
   "metadata": {},
   "outputs": [],
   "source": [
    "exp_2_results_df = pd.DataFrame(results).round(2).T\n",
    "exp_2_results_df.loc['Mean', :] = exp_2_results_df.mean(axis=0)"
   ]
  },
  {
   "cell_type": "code",
   "execution_count": 151,
   "id": "b975fa03",
   "metadata": {},
   "outputs": [
    {
     "data": {
      "text/html": [
       "<div>\n",
       "<style scoped>\n",
       "    .dataframe tbody tr th:only-of-type {\n",
       "        vertical-align: middle;\n",
       "    }\n",
       "\n",
       "    .dataframe tbody tr th {\n",
       "        vertical-align: top;\n",
       "    }\n",
       "\n",
       "    .dataframe thead th {\n",
       "        text-align: right;\n",
       "    }\n",
       "</style>\n",
       "<table border=\"1\" class=\"dataframe\">\n",
       "  <thead>\n",
       "    <tr style=\"text-align: right;\">\n",
       "      <th></th>\n",
       "      <th>DBPEDIA</th>\n",
       "      <th>WIKIDATA</th>\n",
       "      <th>YAGO</th>\n",
       "    </tr>\n",
       "  </thead>\n",
       "  <tbody>\n",
       "    <tr>\n",
       "      <th>nl</th>\n",
       "      <td>0.37</td>\n",
       "      <td>0.98</td>\n",
       "      <td>0.57</td>\n",
       "    </tr>\n",
       "    <tr>\n",
       "      <th>pl</th>\n",
       "      <td>0.16</td>\n",
       "      <td>0.97</td>\n",
       "      <td>0.92</td>\n",
       "    </tr>\n",
       "    <tr>\n",
       "      <th>de</th>\n",
       "      <td>0.52</td>\n",
       "      <td>0.97</td>\n",
       "      <td>0.74</td>\n",
       "    </tr>\n",
       "    <tr>\n",
       "      <th>fr</th>\n",
       "      <td>0.75</td>\n",
       "      <td>0.96</td>\n",
       "      <td>0.94</td>\n",
       "    </tr>\n",
       "    <tr>\n",
       "      <th>cz</th>\n",
       "      <td>0.15</td>\n",
       "      <td>0.00</td>\n",
       "      <td>0.00</td>\n",
       "    </tr>\n",
       "    <tr>\n",
       "      <th>hu</th>\n",
       "      <td>0.00</td>\n",
       "      <td>0.92</td>\n",
       "      <td>0.00</td>\n",
       "    </tr>\n",
       "    <tr>\n",
       "      <th>en</th>\n",
       "      <td>0.81</td>\n",
       "      <td>0.91</td>\n",
       "      <td>0.85</td>\n",
       "    </tr>\n",
       "    <tr>\n",
       "      <th>it</th>\n",
       "      <td>0.16</td>\n",
       "      <td>0.95</td>\n",
       "      <td>0.97</td>\n",
       "    </tr>\n",
       "    <tr>\n",
       "      <th>is</th>\n",
       "      <td>0.46</td>\n",
       "      <td>1.00</td>\n",
       "      <td>0.85</td>\n",
       "    </tr>\n",
       "    <tr>\n",
       "      <th>Mean</th>\n",
       "      <td>0.38</td>\n",
       "      <td>0.85</td>\n",
       "      <td>0.65</td>\n",
       "    </tr>\n",
       "  </tbody>\n",
       "</table>\n",
       "</div>"
      ],
      "text/plain": [
       "      DBPEDIA  WIKIDATA  YAGO\n",
       "nl       0.37      0.98  0.57\n",
       "pl       0.16      0.97  0.92\n",
       "de       0.52      0.97  0.74\n",
       "fr       0.75      0.96  0.94\n",
       "cz       0.15      0.00  0.00\n",
       "hu       0.00      0.92  0.00\n",
       "en       0.81      0.91  0.85\n",
       "it       0.16      0.95  0.97\n",
       "is       0.46      1.00  0.85\n",
       "Mean     0.38      0.85  0.65"
      ]
     },
     "execution_count": 151,
     "metadata": {},
     "output_type": "execute_result"
    }
   ],
   "source": [
    "exp_2_results_df.round(2)"
   ]
  },
  {
   "cell_type": "markdown",
   "id": "d76ffc16",
   "metadata": {},
   "source": [
    "## Experiment 2: Lemmatization"
   ]
  },
  {
   "cell_type": "markdown",
   "id": "2aacd09b-fc86-45a8-b9b1-b0a2a1d64ed2",
   "metadata": {},
   "source": [
    "In this experiment, we are going to look at lemmatization in ParlaMint. To do this, we try to find strings with lemma's that differ from the original string, meaning that lemmatization was performed. We then inspect the lemmatization for several countries to find out whether the lemmatization was correct or not."
   ]
  },
  {
   "cell_type": "code",
   "execution_count": 81,
   "id": "761d11b2",
   "metadata": {},
   "outputs": [],
   "source": [
    "org_ents = combined_df[(combined_df['lang'] == 'IS') & (combined_df['type'] == 'LOC')][['string', 'lemma']]"
   ]
  },
  {
   "cell_type": "code",
   "execution_count": 82,
   "id": "230c89cf",
   "metadata": {},
   "outputs": [],
   "source": [
    "org_ents['string'] = org_ents['string'].str.lower()\n",
    "org_ents['lemma'] = org_ents['lemma'].str.lower()"
   ]
  },
  {
   "cell_type": "code",
   "execution_count": 83,
   "id": "9b5379e6",
   "metadata": {},
   "outputs": [
    {
     "data": {
      "text/plain": [
       "string              lemma            \n",
       "íslandi             ísland               12651\n",
       "íslands             ísland                6558\n",
       "evrópu              evrópa                2653\n",
       "noregi              noregur               1357\n",
       "norðurlöndunum      norðurlönd             826\n",
       "                                         ...  \n",
       "norðurslóðum        norðurslóðir             1\n",
       "norðurslóðasvæðinu  norðurslóðasvæðið        1\n",
       "norðurslóðar        norðurslóð               1\n",
       "norðurslóða         norðurslóð               1\n",
       "a-hluta             a-hluti                  1\n",
       "Length: 3521, dtype: int64"
      ]
     },
     "execution_count": 83,
     "metadata": {},
     "output_type": "execute_result"
    }
   ],
   "source": [
    "org_ents[org_ents['string'] != org_ents['lemma']].value_counts()"
   ]
  },
  {
   "cell_type": "code",
   "execution_count": null,
   "id": "9d125d21",
   "metadata": {},
   "outputs": [],
   "source": [
    "person_df = combined_df[combined_df['type'] == 'PER']"
   ]
  },
  {
   "cell_type": "code",
   "execution_count": 804,
   "id": "2678f0d2",
   "metadata": {},
   "outputs": [
    {
     "name": "stdout",
     "output_type": "stream",
     "text": [
      "['Brexit', 'Trump', 'Macron', 'Salvini', 'Putin', 'Kennedy', 'Berlusconi', 'Erdogan', 'Emmanuel Macron', 'Merkel', 'David Cameron', 'Juncker', 'Donald Trump', 'Cameron', 'Obama', 'Boris Johnson', 'Tony Blair', 'David', 'John', 'Margaret Thatcher', 'Adam', 'Thomas', 'Theresa May', 'Michel Barnier', 'Hitler', 'Johnson', 'Donald Tusk', 'Churchill', 'Angela Merkel', 'Tusk', 'Maduro', 'Winston Churchill', 'Timmermans', 'Barnier', 'François Hollande', 'Ali', 'Hollande', 'Martin', 'Mogherini', 'Franco', 'Engels', 'Sarkozy', 'Orbán', 'Hyde', 'Thatcher', 'Charles Michel', 'Mussolini', 'Bush', 'Matteo Salvini', 'Shakespeare', 'Stalin', 'May', 'Nelson Mandela', 'Orban', 'Charlie', 'Einstein', 'Marx', 'Alex', 'Frans Timmermans', 'Anna', 'Keynes', 'Adam Smith', 'Greta Thunberg', 'Leonardo', 'Ursula von der Leyen', 'Federica Mogherini', 'John Kerry', 'Charles de Gaulle', 'Barack Obama', 'Mario Draghi', 'Jean-Claude Juncker', 'Roosevelt', 'Edward Snowden', 'Orwell', 'Hogan', 'Lavrov', 'Rousseau', 'Laura', 'Kofi Annan', 'Moscovici', 'Hillary Clinton', 'Daniel', 'Barbara', 'Eva', 'Soros', 'Le Pen', 'Snowden', 'Viktor Orbán', 'Gandhi', 'Ronald Reagan', 'Gabriel', 'Robin Hood', 'Bill Gates', 'Albert Einstein', 'Marine Le Pen', 'Reagan', 'Schulz', 'Margrethe Vestager', 'Christine Lagarde', 'Milton Friedman', 'Adolf Hitler', 'Schäuble', 'James Bond', 'Sara', 'Stiglitz', 'Piketty', 'Stoltenberg', 'Vestager', 'Karl Marx', 'Phil Hogan', 'Mao', 'Robespierre', 'Mozart', 'Albert', 'Thomas Piketty', 'George Bush', 'Justin Trudeau', 'Greta', 'Hannah Arendt', 'John Stuart Mill', 'Pierre Moscovici', 'Charlie Hebdo', 'Mike Pompeo', 'Helmut Kohl', 'Jens Stoltenberg', 'Hegel', 'Che Guevara', 'Oscar Wilde', 'Robert Schuman', 'Machiavelli', 'Kant', 'Darwin', 'Bill Clinton', 'Martin Schulz', 'Goethe', 'George Soros', 'Benjamin Franklin', 'Nietzsche', 'Kurz', 'Weber', 'Huntington', 'Philip Morris', 'Joseph Stiglitz', 'Fidel Castro', 'Cecilia Malmström', 'Henry Kissinger', 'Simone de Beauvoir', 'Konrad Adenauer', 'Bertolt Brecht', 'Bismarck', 'Friedman', 'Steve Jobs', 'Warren Buffett', 'Kissinger', 'Mark Twain', 'Mohamed', 'John Locke', 'Willy Brandt', 'Castro']\n"
     ]
    }
   ],
   "source": [
    "# Check International Entities\n",
    "international_entities = person_df.groupby('string')['lang'].nunique().sort_values(ascending=False)\n",
    "entity_size = person_df.groupby('string')['lang'].size().sort_values(ascending=False)\n",
    "largest_entities = international_entities[international_entities > 8]\n",
    "largest_entities_and_popular = entity_size.loc[entity_size.index.isin(largest_entities.index)]\n",
    "print(largest_entities_and_popular.index.tolist())"
   ]
  },
  {
   "cell_type": "code",
   "execution_count": 901,
   "id": "1f0e4ecf",
   "metadata": {},
   "outputs": [],
   "source": [
    "famous_surnames = ['Trump',\n",
    "                   'Macron',\n",
    "                   'Putin',\n",
    "                   'Erdogan',\n",
    "                   'Merkel',\n",
    "                   'Juncker',\n",
    "                   'Cameron',\n",
    "                   'Obama',\n",
    "                   'Hitler', \n",
    "                   'Tusk']\n",
    "\n",
    "famous_surnames_bulgarian = ['Тръмп',\n",
    "                   \"Макрон\",\n",
    "                   \"Путин\",\n",
    "                   \"Ердоган\",\n",
    "                   \"Меркел\",\n",
    "                   \"Юнкер\",\n",
    "                   \"Камерън\",\n",
    "                   \"Обама\",\n",
    "                   \"Хитлер\",\n",
    "                   'бивк']\n",
    "famous_surnames_latvian = []"
   ]
  },
  {
   "cell_type": "markdown",
   "id": "2d1dcbe2",
   "metadata": {},
   "source": [
    "We will use these entities to find them and any derivatives of their names in the afermentioned countries. We will then define 'canonical' for them, and count how often these occur, compared to the other variants"
   ]
  },
  {
   "cell_type": "code",
   "execution_count": 941,
   "id": "f9d69dd8",
   "metadata": {},
   "outputs": [],
   "source": [
    "canonical_forms = {'PL': [['Trump', 'Donald Trump'], ['Emmanuel Macron', 'Macron'],\n",
    "                         ['Putin', 'ładimir Putin'], ['Erdogan'], ['Angela Merkel', 'Angelą Merkel', 'Merkel'], ['Jean-Claude Juncker', 'Jean Juncker',\n",
    "                                                                                                                'Juncker'],\n",
    "                          ['David Cameron', 'Cameron'], ['Barack Obama' 'Obama'], ['Hitler-Stalin-Ribbentrop-Mołotow','Hitler', 'Adolf Hitler'],\n",
    "                          ['Donald Tusk', 'Michał Tusk', 'Riposta Tuska', 'Berezę Kartuską']],\n",
    "                  'CZ': [['Trump', 'Donald Trump'], ['Emmanuel Macron', 'Macron', 'Francie Macron'], ['Vladimír Putin', 'Putin'], ['Tayyip Erdogan',\n",
    "                                                                                                                                  'Erdogan'],\n",
    "                         ['Frau Merkel', 'Merkel', 'Angela Merkel'], ['Jean - Claude Juncker', 'Juncker'], ['Cameron Mc Kenna', 'Cameron', 'David Cameron'],\n",
    "                         ['Obama', 'Barack Obama', 'Obamacare'], ['Hitler', 'Adolf Hitler'], ['Donald Tusk', 'Tusk']],\n",
    "                  'BG': [['Тръмп', 'Доналд Тръмп'], ['Макрон', 'Емануел Макрон'], ['Путин', 'Владимир Путин'],\n",
    "                         [\"Ердоган\", 'Таип Реджеп Ердоган', 'Реджеп Тайип Ердоган'], ['Меркел', 'Ангела Меркел'], ['Жан-Клод Юнкер', 'Жан Клод Юнкер', 'Юнкер'],\n",
    "                         ['Дейвид Камерън', 'Камерън'], ['Обама', 'Барак Обама'], [\"Хитлер\", 'Адолф Хитлер'], []],\n",
    "                   \n",
    "                   'LV': [[], [], ['Putin', 'Putins'], ['Erdogans'], ['Angelas Merkeles'], [], [], ['Obamacare', 'Baraks Obama', 'Obamas'],\n",
    "                                     ['Hitlers', 'Ādolfs Hitlers'], []], 'IS': [['Donald Trump', 'hr. Trump', 'Trump', 'Trumps'], ['Macron', 'Emmanuel Macron', 'Macrons'], [], ['Erdogan'],\n",
    "                                                 ['Merkel', 'Angela Merkel', 'Merkels'], ['Juncker', 'Jean-Claude Juncker', 'Jean Claude Juncker'],\n",
    "                                                 ['David Cameron', 'Cameron'], ['Obama', 'Michelle Obama', 'Barack Obama'],\n",
    "                                                 ['Hitler', 'Adolf Hitler'], ['Tusk']],\n",
    "                  'HR': [['Donald Trump Bush', 'Sokol-Trump', 'Trump', 'Bio Trump', 'Donald Trump'],\n",
    "                         ['Macron', 'Merkel-Macron', 'Emmanuel Macron', 'Merkel Macron'],\n",
    "                         ['Putin I', 'Putin'], ['Recep Tayyip Erdogan', 'Erdogan'], ['Angela Merkel', 'A. Merkel',\n",
    "                                                                                    'Merkel-Macron', 'Merkel Macron'], ['Juncker',\n",
    "                                                                                                                       'Jean Claude Juncker',\n",
    "                                                                                                                       'Jan Cloud Juncker',\n",
    "                                                                                                                       'Komisije Juncker',\n",
    "                                                                                                                       'Jean-Claude Juncker'],\n",
    "                         ['David Cameron', 'Cameron'], ['Obama', 'Barak Obama', 'Barack Obama'], ['Hitler'], ['Adolf Hitler']],\n",
    "                   'NL': [['Trump', 'Donald Trump', 'POTUS Trump', 'Donald John Trump'], ['Emmanuel Macron', 'Macron'],\n",
    "                         ['Poetin', 'Vladimir Poetin', 'Putin'], ['Erdogan', 'Recep Tayyip Erdogan'],\n",
    "                          ['Merkel', 'Angela Merkel', 'Frau Merkel', 'Mutti Merkel'], ['Juncker', 'Jean-Claude Juncker', 'Claude Juncker',\n",
    "                                                                                       'Jean Claude Juncker'],\n",
    "                          ['David Cameron', 'Cameron'], ['Obama', 'Barack Obama', 'Michelle Obama', 'Barack Hussein Obama',\n",
    " 'Sint Obama'], ['Hitler', 'Adolf Hitler'],\n",
    "                          ['Donald Tusk', 'Donald Tusk', 'Elon Tusk']]}\n"
   ]
  },
  {
   "cell_type": "code",
   "execution_count": 852,
   "id": "33b9ac96",
   "metadata": {},
   "outputs": [],
   "source": [
    "# Nu gaan we voor al die entiteiten kijken hoe vaak ze worden gelemmatized.\n",
    "def get_entities_with_lemma(entity, country):\n",
    "    country_df = person_df[person_df['lang'] == country]\n",
    "    relevant_rows = country_df[country_df['string'].str.lower().str.contains(entity.lower())]\n",
    "    return relevant_rows"
   ]
  },
  {
   "cell_type": "code",
   "execution_count": 858,
   "id": "9c528a54",
   "metadata": {},
   "outputs": [
    {
     "data": {
      "text/html": [
       "<div>\n",
       "<style scoped>\n",
       "    .dataframe tbody tr th:only-of-type {\n",
       "        vertical-align: middle;\n",
       "    }\n",
       "\n",
       "    .dataframe tbody tr th {\n",
       "        vertical-align: top;\n",
       "    }\n",
       "\n",
       "    .dataframe thead th {\n",
       "        text-align: right;\n",
       "    }\n",
       "</style>\n",
       "<table border=\"1\" class=\"dataframe\">\n",
       "  <thead>\n",
       "    <tr style=\"text-align: right;\">\n",
       "      <th></th>\n",
       "      <th>id</th>\n",
       "      <th>string</th>\n",
       "      <th>type</th>\n",
       "      <th>lang</th>\n",
       "      <th>size</th>\n",
       "      <th>file</th>\n",
       "      <th>date</th>\n",
       "      <th>entity_pos</th>\n",
       "      <th>lemma</th>\n",
       "    </tr>\n",
       "  </thead>\n",
       "  <tbody>\n",
       "    <tr>\n",
       "      <th>962</th>\n",
       "      <td>seg235186.3.26</td>\n",
       "      <td>Donalda Trumpa</td>\n",
       "      <td>PER</td>\n",
       "      <td>PL</td>\n",
       "      <td>2</td>\n",
       "      <td>ParlaMint-PL_2017-04-07-sejm-39-3</td>\n",
       "      <td>2017-04-07 00:00:00</td>\n",
       "      <td>24166</td>\n",
       "      <td>Donald Trump</td>\n",
       "    </tr>\n",
       "    <tr>\n",
       "      <th>4309</th>\n",
       "      <td>seg665434.3.13</td>\n",
       "      <td>Trumpem</td>\n",
       "      <td>PER</td>\n",
       "      <td>PL</td>\n",
       "      <td>1</td>\n",
       "      <td>ParlaMint-PL_2017-07-18-senat-45-4</td>\n",
       "      <td>2017-07-18 00:00:00</td>\n",
       "      <td>37676</td>\n",
       "      <td>Trump</td>\n",
       "    </tr>\n",
       "    <tr>\n",
       "      <th>4704</th>\n",
       "      <td>seg665708.2.16</td>\n",
       "      <td>Trump</td>\n",
       "      <td>PER</td>\n",
       "      <td>PL</td>\n",
       "      <td>1</td>\n",
       "      <td>ParlaMint-PL_2017-07-18-senat-45-4</td>\n",
       "      <td>2017-07-18 00:00:00</td>\n",
       "      <td>51008</td>\n",
       "      <td>Trump</td>\n",
       "    </tr>\n",
       "    <tr>\n",
       "      <th>4824</th>\n",
       "      <td>seg665783.3.15</td>\n",
       "      <td>Trumpa</td>\n",
       "      <td>PER</td>\n",
       "      <td>PL</td>\n",
       "      <td>1</td>\n",
       "      <td>ParlaMint-PL_2017-07-18-senat-45-4</td>\n",
       "      <td>2017-07-18 00:00:00</td>\n",
       "      <td>56120</td>\n",
       "      <td>Trump</td>\n",
       "    </tr>\n",
       "    <tr>\n",
       "      <th>4983</th>\n",
       "      <td>seg665859.12.18</td>\n",
       "      <td>Trumpa</td>\n",
       "      <td>PER</td>\n",
       "      <td>PL</td>\n",
       "      <td>1</td>\n",
       "      <td>ParlaMint-PL_2017-07-18-senat-45-4</td>\n",
       "      <td>2017-07-18 00:00:00</td>\n",
       "      <td>59784</td>\n",
       "      <td>Trump</td>\n",
       "    </tr>\n",
       "    <tr>\n",
       "      <th>...</th>\n",
       "      <td>...</td>\n",
       "      <td>...</td>\n",
       "      <td>...</td>\n",
       "      <td>...</td>\n",
       "      <td>...</td>\n",
       "      <td>...</td>\n",
       "      <td>...</td>\n",
       "      <td>...</td>\n",
       "      <td>...</td>\n",
       "    </tr>\n",
       "    <tr>\n",
       "      <th>954485</th>\n",
       "      <td>seg208897.7.9</td>\n",
       "      <td>Donalda Trumpa</td>\n",
       "      <td>PER</td>\n",
       "      <td>PL</td>\n",
       "      <td>2</td>\n",
       "      <td>ParlaMint-PL_2017-02-09-sejm-35-2</td>\n",
       "      <td>2017-02-09 00:00:00</td>\n",
       "      <td>30004</td>\n",
       "      <td>Donald Trump</td>\n",
       "    </tr>\n",
       "    <tr>\n",
       "      <th>954509</th>\n",
       "      <td>seg208909.6.19</td>\n",
       "      <td>Donalda Trumpa</td>\n",
       "      <td>PER</td>\n",
       "      <td>PL</td>\n",
       "      <td>2</td>\n",
       "      <td>ParlaMint-PL_2017-02-09-sejm-35-2</td>\n",
       "      <td>2017-02-09 00:00:00</td>\n",
       "      <td>30444</td>\n",
       "      <td>Donald Trump</td>\n",
       "    </tr>\n",
       "    <tr>\n",
       "      <th>955730</th>\n",
       "      <td>seg209314.6.18</td>\n",
       "      <td>Donalda Trumpa</td>\n",
       "      <td>PER</td>\n",
       "      <td>PL</td>\n",
       "      <td>2</td>\n",
       "      <td>ParlaMint-PL_2017-02-09-sejm-35-2</td>\n",
       "      <td>2017-02-09 00:00:00</td>\n",
       "      <td>49623</td>\n",
       "      <td>Donald Trump</td>\n",
       "    </tr>\n",
       "    <tr>\n",
       "      <th>956283</th>\n",
       "      <td>seg209570.2.6</td>\n",
       "      <td>Trump</td>\n",
       "      <td>PER</td>\n",
       "      <td>PL</td>\n",
       "      <td>1</td>\n",
       "      <td>ParlaMint-PL_2017-02-09-sejm-35-2</td>\n",
       "      <td>2017-02-09 00:00:00</td>\n",
       "      <td>57218</td>\n",
       "      <td>Trump</td>\n",
       "    </tr>\n",
       "    <tr>\n",
       "      <th>956361</th>\n",
       "      <td>seg209611.1.11</td>\n",
       "      <td>Trump</td>\n",
       "      <td>PER</td>\n",
       "      <td>PL</td>\n",
       "      <td>1</td>\n",
       "      <td>ParlaMint-PL_2017-02-09-sejm-35-2</td>\n",
       "      <td>2017-02-09 00:00:00</td>\n",
       "      <td>58657</td>\n",
       "      <td>Trump</td>\n",
       "    </tr>\n",
       "  </tbody>\n",
       "</table>\n",
       "<p>177 rows × 9 columns</p>\n",
       "</div>"
      ],
      "text/plain": [
       "                     id          string type lang  size  \\\n",
       "962      seg235186.3.26  Donalda Trumpa  PER   PL     2   \n",
       "4309     seg665434.3.13         Trumpem  PER   PL     1   \n",
       "4704     seg665708.2.16           Trump  PER   PL     1   \n",
       "4824     seg665783.3.15          Trumpa  PER   PL     1   \n",
       "4983    seg665859.12.18          Trumpa  PER   PL     1   \n",
       "...                 ...             ...  ...  ...   ...   \n",
       "954485    seg208897.7.9  Donalda Trumpa  PER   PL     2   \n",
       "954509   seg208909.6.19  Donalda Trumpa  PER   PL     2   \n",
       "955730   seg209314.6.18  Donalda Trumpa  PER   PL     2   \n",
       "956283    seg209570.2.6           Trump  PER   PL     1   \n",
       "956361   seg209611.1.11           Trump  PER   PL     1   \n",
       "\n",
       "                                      file                 date  entity_pos  \\\n",
       "962      ParlaMint-PL_2017-04-07-sejm-39-3  2017-04-07 00:00:00       24166   \n",
       "4309    ParlaMint-PL_2017-07-18-senat-45-4  2017-07-18 00:00:00       37676   \n",
       "4704    ParlaMint-PL_2017-07-18-senat-45-4  2017-07-18 00:00:00       51008   \n",
       "4824    ParlaMint-PL_2017-07-18-senat-45-4  2017-07-18 00:00:00       56120   \n",
       "4983    ParlaMint-PL_2017-07-18-senat-45-4  2017-07-18 00:00:00       59784   \n",
       "...                                    ...                  ...         ...   \n",
       "954485   ParlaMint-PL_2017-02-09-sejm-35-2  2017-02-09 00:00:00       30004   \n",
       "954509   ParlaMint-PL_2017-02-09-sejm-35-2  2017-02-09 00:00:00       30444   \n",
       "955730   ParlaMint-PL_2017-02-09-sejm-35-2  2017-02-09 00:00:00       49623   \n",
       "956283   ParlaMint-PL_2017-02-09-sejm-35-2  2017-02-09 00:00:00       57218   \n",
       "956361   ParlaMint-PL_2017-02-09-sejm-35-2  2017-02-09 00:00:00       58657   \n",
       "\n",
       "               lemma  \n",
       "962     Donald Trump  \n",
       "4309           Trump  \n",
       "4704           Trump  \n",
       "4824           Trump  \n",
       "4983           Trump  \n",
       "...              ...  \n",
       "954485  Donald Trump  \n",
       "954509  Donald Trump  \n",
       "955730  Donald Trump  \n",
       "956283         Trump  \n",
       "956361         Trump  \n",
       "\n",
       "[177 rows x 9 columns]"
      ]
     },
     "execution_count": 858,
     "metadata": {},
     "output_type": "execute_result"
    }
   ],
   "source": [
    "get_entities_with_lemma('Trump', 'PL')"
   ]
  },
  {
   "cell_type": "code",
   "execution_count": 944,
   "id": "3ef076ec",
   "metadata": {},
   "outputs": [
    {
     "name": "stderr",
     "output_type": "stream",
     "text": [
      " 29%|██▊       | 2/7 [00:07<00:19,  4.00s/it]<ipython-input-944-36f9cbf09add>:21: RuntimeWarning: Mean of empty slice.\n",
      "  countries[country] = np.array(fix_rates).mean()\n",
      "100%|██████████| 7/7 [00:25<00:00,  3.64s/it]\n"
     ]
    }
   ],
   "source": [
    "# Turkey was left out of evaulation because of tagger problems\n",
    "# LV might also be tricky.\n",
    "from collections import defaultdict\n",
    "\n",
    "type_of_word = 'lemma'\n",
    "\n",
    "countries = defaultdict(int)\n",
    "for country in tqdm(list(canonical_forms.keys())):\n",
    "    fix_rates = []\n",
    "    for i, item in enumerate(famous_surnames):\n",
    "        entity_forms = get_entities_with_lemma('%s.*' % item, country)\n",
    "        ranking = entity_forms[type_of_word].value_counts().to_dict()\n",
    "        ranking = {key.lower(): val for key, val in ranking.items()}\n",
    "        forms = canonical_forms[country][i]\n",
    "        if sum(ranking.values()):\n",
    "            num_canonical = sum([ranking.get(form.lower().strip(), 0) for form in forms]) / sum(ranking.values())\n",
    "            fix_rates.append(num_canonical)\n",
    "        else:\n",
    "            pass\n",
    "        \n",
    "    countries[country] = np.array(fix_rates).mean()\n",
    "\n",
    "# Do bg seperately\n",
    "\n"
   ]
  },
  {
   "cell_type": "code",
   "execution_count": 945,
   "id": "167679de",
   "metadata": {},
   "outputs": [
    {
     "data": {
      "text/plain": [
       "LV    0.414224\n",
       "PL    0.587702\n",
       "HR    0.765910\n",
       "CZ    0.800803\n",
       "IS    0.801563\n",
       "NL    0.935480\n",
       "BG         NaN\n",
       "dtype: float64"
      ]
     },
     "execution_count": 945,
     "metadata": {},
     "output_type": "execute_result"
    }
   ],
   "source": [
    "pd.Series(countries).sort_values()"
   ]
  },
  {
   "cell_type": "code",
   "execution_count": 883,
   "id": "08f53d84",
   "metadata": {},
   "outputs": [
    {
     "name": "stderr",
     "output_type": "stream",
     "text": [
      "100%|██████████| 36/36 [00:40<00:00,  1.14s/it]\n",
      "100%|██████████| 36/36 [00:14<00:00,  2.43it/s]\n",
      "100%|██████████| 36/36 [00:11<00:00,  3.26it/s]\n",
      "100%|██████████| 36/36 [00:14<00:00,  2.47it/s]\n",
      "100%|██████████| 36/36 [00:07<00:00,  4.87it/s]\n",
      "100%|██████████| 36/36 [00:12<00:00,  2.88it/s]\n",
      "100%|██████████| 36/36 [00:14<00:00,  2.49it/s]\n",
      "100%|██████████| 36/36 [00:16<00:00,  2.15it/s]\n",
      "100%|██████████| 36/36 [00:24<00:00,  1.44it/s]\n",
      "100%|██████████| 36/36 [00:12<00:00,  2.85it/s]\n",
      "100%|██████████| 36/36 [00:14<00:00,  2.52it/s]\n",
      "100%|██████████| 36/36 [00:09<00:00,  3.93it/s]\n",
      "100%|██████████| 36/36 [00:09<00:00,  3.64it/s]\n",
      "100%|██████████| 36/36 [00:17<00:00,  2.07it/s]\n",
      "100%|██████████| 36/36 [00:12<00:00,  2.77it/s]\n",
      "100%|██████████| 36/36 [00:11<00:00,  3.26it/s]\n",
      "100%|██████████| 36/36 [00:10<00:00,  3.48it/s]\n"
     ]
    }
   ],
   "source": [
    "type_of_word = 'lemma'\n",
    "\n",
    "countries = defaultdict(int)\n",
    "for country in list(person_df['lang'].unique()):\n",
    "    fix_rates = []\n",
    "    for item in tqdm(famous_surnames):\n",
    "        entity_forms = get_entities_with_lemma('%s.*' % item, country)\n",
    "        ranking = entity_forms[type_of_word].value_counts()\n",
    "        try:\n",
    "            num_fixed = ranking[item] / ranking.values.sum()\n",
    "        except:\n",
    "            num_fixed = 0\n",
    "        fix_rates.append(num_fixed)\n",
    "    countries[country] = np.array(fix_rates).mean()"
   ]
  },
  {
   "cell_type": "code",
   "execution_count": null,
   "id": "18985cad",
   "metadata": {},
   "outputs": [],
   "source": [
    "# We can see that NL has the highest number, together with IT spanish and GB"
   ]
  },
  {
   "cell_type": "code",
   "execution_count": 884,
   "id": "352eb632",
   "metadata": {},
   "outputs": [
    {
     "data": {
      "text/plain": [
       "BG    0.000000\n",
       "LT    0.023148\n",
       "LV    0.039591\n",
       "HU    0.112476\n",
       "IS    0.210442\n",
       "DK    0.240616\n",
       "FR    0.350173\n",
       "CZ    0.420965\n",
       "TR    0.468135\n",
       "PL    0.470569\n",
       "BE    0.489864\n",
       "SI    0.531261\n",
       "HR    0.546398\n",
       "GB    0.570864\n",
       "ES    0.631473\n",
       "IT    0.745406\n",
       "NL    0.755018\n",
       "dtype: float64"
      ]
     },
     "execution_count": 884,
     "metadata": {},
     "output_type": "execute_result"
    }
   ],
   "source": [
    "pd.Series(countries).sort_values()"
   ]
  },
  {
   "cell_type": "code",
   "execution_count": 891,
   "id": "e8101ef6",
   "metadata": {},
   "outputs": [
    {
     "data": {
      "text/plain": [
       "array(['Туск', 'Доналд Туск'], dtype=object)"
      ]
     },
     "execution_count": 891,
     "metadata": {},
     "output_type": "execute_result"
    }
   ],
   "source": [
    "t = person_df['string'][person_df['lang'] == 'BG']\n",
    "t[t.str.contains('Туск')].unique()"
   ]
  },
  {
   "cell_type": "markdown",
   "id": "887c82af",
   "metadata": {},
   "source": [
    "The next step in this part is to see how this changes after lemmatization. This is relatively easy, we now use the lemmatized version of the words, and compare the ratio's"
   ]
  },
  {
   "cell_type": "markdown",
   "id": "67d3acb9",
   "metadata": {},
   "source": [
    "## How do we solve name aliasing?\n"
   ]
  },
  {
   "cell_type": "markdown",
   "id": "19c713fa",
   "metadata": {},
   "source": [
    "We kunnen hier natuurlijk een vrij simpele aanpak volgen. Als we wikidata gebruiken kunnen we detecteren wanneer we een 'family' link te pakken hebben. Hier kunnen we dan alle subkandidaten pakken en deze ofwel reranken met context, of gewoon zoeken naar een politicus. (dat laatste is een beetje valsspelen, dus dat reranking lijkt mij het leukst en het meest 'generieke' idee)"
   ]
  },
  {
   "cell_type": "markdown",
   "id": "69f8b9f5",
   "metadata": {},
   "source": [
    "We kunnen ook per entiteit kijken of we de 'rijkste' entiteit kunnen vinden, zodat we deze kunnen gebruiken in de entity linker."
   ]
  },
  {
   "cell_type": "code",
   "execution_count": 132,
   "id": "2badfd84",
   "metadata": {},
   "outputs": [
    {
     "name": "stdout",
     "output_type": "stream",
     "text": [
      "['Timmermans']\n",
      "['Timmermans']\n",
      "['Timmermans']\n",
      "['Timmermans', 'Fransa Timmermansa', 'Timmermansa']\n",
      "['Timmermans']\n",
      "['Timmermansa', 'Timmermans']\n",
      "['Timmermans']\n",
      "['Timmermansa', 'Fransa Timmermansa', 'komisja europejski Fransa Timmermansa', 'Timmermans', 'frans Timmermans']\n",
      "['Timmermansem', 'komisja europejski Fransa Timmermansa', 'Timmermans', 'Timmermansa']\n",
      "['Timmermans']\n",
      "['Timmermans']\n",
      "['Timmermans']\n",
      "['Timmermansem', 'Timmermans']\n",
      "['Timmermans']\n",
      "['Frans Timmermans', 'Timmermans.De', 'Timmermans']\n",
      "['Timmermans']\n",
      "['Timmermans', 'Frans Timmermans']\n",
      "['Timmermans']\n",
      "['Timmermans']\n",
      "['Timmermans', 'Mr Timmermans']\n",
      "['Frans Timmermans', 'Timmermans']\n",
      "['Frans Timmermans', 'Timmermans']\n",
      "['Vice-President Timmermans', 'Timmermans']\n",
      "['Timmermans']\n",
      "['Timmermans']\n",
      "['Timmermans']\n",
      "['Timmermans']\n",
      "['Timmermans']\n",
      "['Timmermans', 'Frans Timmermans']\n",
      "['Timmermans']\n",
      "['Timmermans']\n",
      "['Timmermans']\n",
      "['Timmermans', 'commissaris Timmermans', 'Frans Timmermans', 'frans timmermans']\n",
      "['Timmermans']\n",
      "['Timmermans']\n",
      "['Timmermans']\n",
      "['Timmermans']\n",
      "['Timmermans']\n",
      "['Frans Timmermans', 'Timmermans']\n",
      "['Timmermans']\n",
      "['Timmermans']\n",
      "['Timmermans', 'frans timmermans']\n",
      "['Frans Timmermans', 'frans timmermans', 'Timmermans']\n",
      "['Timmermans']\n",
      "['Timmermans']\n",
      "['Frans Timmermans', 'Timmermans']\n",
      "['Timmermans']\n",
      "['Timmermans']\n",
      "['Timmermans']\n",
      "['Timmermans']\n"
     ]
    }
   ],
   "source": [
    "# klein testje\n",
    "entiteit = 'timmermans'\n",
    "occurring_debates = combined_df[combined_df['lemma'].str.lower() == entiteit]['file'].unique()\n",
    "for debate in occurring_debates[:50]:\n",
    "    strings_in_file = combined_df[combined_df['file'] == debate]['lemma']\n",
    "    selected_entities = list(strings_in_file[strings_in_file.str.lower().str.contains(entiteit)].unique())\n",
    "    print(selected_entities)\n"
   ]
  },
  {
   "cell_type": "code",
   "execution_count": 1148,
   "id": "56f943ca",
   "metadata": {},
   "outputs": [
    {
     "name": "stderr",
     "output_type": "stream",
     "text": [
      "<ipython-input-1148-5e3ee2afff51>:1: SettingWithCopyWarning: \n",
      "A value is trying to be set on a copy of a slice from a DataFrame.\n",
      "Try using .loc[row_indexer,col_indexer] = value instead\n",
      "\n",
      "See the caveats in the documentation: https://pandas.pydata.org/pandas-docs/stable/user_guide/indexing.html#returning-a-view-versus-a-copy\n",
      "  person_df['string'] = person_df['string'].str.lower()\n",
      "<ipython-input-1148-5e3ee2afff51>:2: SettingWithCopyWarning: \n",
      "A value is trying to be set on a copy of a slice from a DataFrame.\n",
      "Try using .loc[row_indexer,col_indexer] = value instead\n",
      "\n",
      "See the caveats in the documentation: https://pandas.pydata.org/pandas-docs/stable/user_guide/indexing.html#returning-a-view-versus-a-copy\n",
      "  person_df['lemma'] = person_df['lemma'].str.lower()\n"
     ]
    }
   ],
   "source": [
    "person_df['string'] = person_df['string'].str.lower()\n",
    "person_df['lemma'] = person_df['lemma'].str.lower()"
   ]
  },
  {
   "cell_type": "code",
   "execution_count": 1282,
   "id": "5e3eb92b",
   "metadata": {},
   "outputs": [],
   "source": [
    "# Let's first implement the aliasing technique\n",
    "# current heuristic, look at the most often occuring of all the entities minus our short form\n",
    "# or work in exact string match maybe?\n",
    "# timespan is in weeks\n",
    "from datetime import timedelta, datetime\n",
    "\n",
    "def get_more_entity_forms(entity_form, timespan, country, exact_match=False):\n",
    "    forms = []\n",
    "    \n",
    "    entity_form = entity_form.lower()\n",
    "    occurring_entries = person_df[(person_df['lemma'].str.lower() == entity_form) & (person_df['lang'] == country)]\n",
    "    occurring_debates = occurring_entries['file'].unique()\n",
    "    occurring_dates = occurring_entries['date'].unique()\n",
    "    \n",
    "    if country == 'GB':\n",
    "            occurring_dates = pd.to_datetime(occurring_entries['file'].str.slice(13, 23).unique())\n",
    "    \n",
    "    # For now I would say just pick one randomly\n",
    "    if not len(occurring_dates):\n",
    "        return entity_form\n",
    "    \n",
    "    start_debate = random.choice(occurring_debates)\n",
    "    start_date = datetime.strptime(start_debate[13:23], '%Y-%m-%d')\n",
    "    \n",
    "    span_delta = timedelta(weeks=timespan)\n",
    "    \n",
    "    close_debates = [occurring_debates[i] for i, item in enumerate(occurring_dates) if ((start_date - span_delta) < item < (start_date + span_delta))]\n",
    "    \n",
    "    for debate in close_debates:\n",
    "        strings_in_file = person_df[person_df['file'] == debate]['lemma']\n",
    "        if exact_match:\n",
    "            selected_entities = list(strings_in_file[strings_in_file.str.lower().str.contains('%s$' % entity_form, regex=True)])\n",
    "        else:\n",
    "            selected_entities = list(strings_in_file[strings_in_file.str.lower().str.contains(entity_form)])\n",
    "        forms.extend(selected_entities)\n",
    "    \n",
    "    # now the algorithm comes into play, get the counts of these people\n",
    "\n",
    "    forms_ranking = dict(Counter(forms).most_common())\n",
    "    forms_ranking[entity_form] = 0\n",
    "    best_other_entity = Counter(forms_ranking).most_common()[0][0]\n",
    "    return best_other_entity\n",
    "\n",
    "\n",
    "\n"
   ]
  },
  {
   "cell_type": "code",
   "execution_count": 1263,
   "id": "41c32945",
   "metadata": {},
   "outputs": [
    {
     "ename": "KeyboardInterrupt",
     "evalue": "",
     "output_type": "error",
     "traceback": [
      "\u001b[0;31m---------------------------------------------------------------------------\u001b[0m",
      "\u001b[0;31mKeyboardInterrupt\u001b[0m                         Traceback (most recent call last)",
      "\u001b[0;32m<ipython-input-1263-9988e862b608>\u001b[0m in \u001b[0;36m<module>\u001b[0;34m\u001b[0m\n\u001b[1;32m      1\u001b[0m \u001b[0;31m# Timespan is in weeks\u001b[0m\u001b[0;34m\u001b[0m\u001b[0;34m\u001b[0m\u001b[0;34m\u001b[0m\u001b[0m\n\u001b[0;32m----> 2\u001b[0;31m \u001b[0mget_more_entity_forms\u001b[0m\u001b[0;34m(\u001b[0m\u001b[0;34m'rutte'\u001b[0m\u001b[0;34m,\u001b[0m \u001b[0mtimespan\u001b[0m\u001b[0;34m=\u001b[0m\u001b[0;36m50\u001b[0m\u001b[0;34m,\u001b[0m \u001b[0mcountry\u001b[0m\u001b[0;34m=\u001b[0m\u001b[0;34m'NL'\u001b[0m\u001b[0;34m,\u001b[0m \u001b[0mexact_match\u001b[0m\u001b[0;34m=\u001b[0m\u001b[0;32mTrue\u001b[0m\u001b[0;34m)\u001b[0m\u001b[0;34m\u001b[0m\u001b[0;34m\u001b[0m\u001b[0m\n\u001b[0m",
      "\u001b[0;32m<ipython-input-1262-06c85a2d2123>\u001b[0m in \u001b[0;36mget_more_entity_forms\u001b[0;34m(entity_form, timespan, country, exact_match)\u001b[0m\n\u001b[1;32m     30\u001b[0m \u001b[0;34m\u001b[0m\u001b[0m\n\u001b[1;32m     31\u001b[0m     \u001b[0;32mfor\u001b[0m \u001b[0mdebate\u001b[0m \u001b[0;32min\u001b[0m \u001b[0mclose_debates\u001b[0m\u001b[0;34m:\u001b[0m\u001b[0;34m\u001b[0m\u001b[0;34m\u001b[0m\u001b[0m\n\u001b[0;32m---> 32\u001b[0;31m         \u001b[0mstrings_in_file\u001b[0m \u001b[0;34m=\u001b[0m \u001b[0mperson_df\u001b[0m\u001b[0;34m[\u001b[0m\u001b[0mperson_df\u001b[0m\u001b[0;34m[\u001b[0m\u001b[0;34m'file'\u001b[0m\u001b[0;34m]\u001b[0m \u001b[0;34m==\u001b[0m \u001b[0mdebate\u001b[0m\u001b[0;34m]\u001b[0m\u001b[0;34m[\u001b[0m\u001b[0;34m'lemma'\u001b[0m\u001b[0;34m]\u001b[0m\u001b[0;34m\u001b[0m\u001b[0;34m\u001b[0m\u001b[0m\n\u001b[0m\u001b[1;32m     33\u001b[0m         \u001b[0;32mif\u001b[0m \u001b[0mexact_match\u001b[0m\u001b[0;34m:\u001b[0m\u001b[0;34m\u001b[0m\u001b[0;34m\u001b[0m\u001b[0m\n\u001b[1;32m     34\u001b[0m             \u001b[0mselected_entities\u001b[0m \u001b[0;34m=\u001b[0m \u001b[0mlist\u001b[0m\u001b[0;34m(\u001b[0m\u001b[0mstrings_in_file\u001b[0m\u001b[0;34m[\u001b[0m\u001b[0mstrings_in_file\u001b[0m\u001b[0;34m.\u001b[0m\u001b[0mstr\u001b[0m\u001b[0;34m.\u001b[0m\u001b[0mlower\u001b[0m\u001b[0;34m(\u001b[0m\u001b[0;34m)\u001b[0m\u001b[0;34m.\u001b[0m\u001b[0mstr\u001b[0m\u001b[0;34m.\u001b[0m\u001b[0mcontains\u001b[0m\u001b[0;34m(\u001b[0m\u001b[0;34m'%s$'\u001b[0m \u001b[0;34m%\u001b[0m \u001b[0mentity_form\u001b[0m\u001b[0;34m,\u001b[0m \u001b[0mregex\u001b[0m\u001b[0;34m=\u001b[0m\u001b[0;32mTrue\u001b[0m\u001b[0;34m)\u001b[0m\u001b[0;34m]\u001b[0m\u001b[0;34m)\u001b[0m\u001b[0;34m\u001b[0m\u001b[0;34m\u001b[0m\u001b[0m\n",
      "\u001b[0;32m~/anaconda3/envs/DutchRoberta/lib/python3.9/site-packages/pandas/core/ops/common.py\u001b[0m in \u001b[0;36mnew_method\u001b[0;34m(self, other)\u001b[0m\n\u001b[1;32m     63\u001b[0m         \u001b[0mother\u001b[0m \u001b[0;34m=\u001b[0m \u001b[0mitem_from_zerodim\u001b[0m\u001b[0;34m(\u001b[0m\u001b[0mother\u001b[0m\u001b[0;34m)\u001b[0m\u001b[0;34m\u001b[0m\u001b[0;34m\u001b[0m\u001b[0m\n\u001b[1;32m     64\u001b[0m \u001b[0;34m\u001b[0m\u001b[0m\n\u001b[0;32m---> 65\u001b[0;31m         \u001b[0;32mreturn\u001b[0m \u001b[0mmethod\u001b[0m\u001b[0;34m(\u001b[0m\u001b[0mself\u001b[0m\u001b[0;34m,\u001b[0m \u001b[0mother\u001b[0m\u001b[0;34m)\u001b[0m\u001b[0;34m\u001b[0m\u001b[0;34m\u001b[0m\u001b[0m\n\u001b[0m\u001b[1;32m     66\u001b[0m \u001b[0;34m\u001b[0m\u001b[0m\n\u001b[1;32m     67\u001b[0m     \u001b[0;32mreturn\u001b[0m \u001b[0mnew_method\u001b[0m\u001b[0;34m\u001b[0m\u001b[0;34m\u001b[0m\u001b[0m\n",
      "\u001b[0;32m~/anaconda3/envs/DutchRoberta/lib/python3.9/site-packages/pandas/core/arraylike.py\u001b[0m in \u001b[0;36m__eq__\u001b[0;34m(self, other)\u001b[0m\n\u001b[1;32m     27\u001b[0m     \u001b[0;34m@\u001b[0m\u001b[0munpack_zerodim_and_defer\u001b[0m\u001b[0;34m(\u001b[0m\u001b[0;34m\"__eq__\"\u001b[0m\u001b[0;34m)\u001b[0m\u001b[0;34m\u001b[0m\u001b[0;34m\u001b[0m\u001b[0m\n\u001b[1;32m     28\u001b[0m     \u001b[0;32mdef\u001b[0m \u001b[0m__eq__\u001b[0m\u001b[0;34m(\u001b[0m\u001b[0mself\u001b[0m\u001b[0;34m,\u001b[0m \u001b[0mother\u001b[0m\u001b[0;34m)\u001b[0m\u001b[0;34m:\u001b[0m\u001b[0;34m\u001b[0m\u001b[0;34m\u001b[0m\u001b[0m\n\u001b[0;32m---> 29\u001b[0;31m         \u001b[0;32mreturn\u001b[0m \u001b[0mself\u001b[0m\u001b[0;34m.\u001b[0m\u001b[0m_cmp_method\u001b[0m\u001b[0;34m(\u001b[0m\u001b[0mother\u001b[0m\u001b[0;34m,\u001b[0m \u001b[0moperator\u001b[0m\u001b[0;34m.\u001b[0m\u001b[0meq\u001b[0m\u001b[0;34m)\u001b[0m\u001b[0;34m\u001b[0m\u001b[0;34m\u001b[0m\u001b[0m\n\u001b[0m\u001b[1;32m     30\u001b[0m \u001b[0;34m\u001b[0m\u001b[0m\n\u001b[1;32m     31\u001b[0m     \u001b[0;34m@\u001b[0m\u001b[0munpack_zerodim_and_defer\u001b[0m\u001b[0;34m(\u001b[0m\u001b[0;34m\"__ne__\"\u001b[0m\u001b[0;34m)\u001b[0m\u001b[0;34m\u001b[0m\u001b[0;34m\u001b[0m\u001b[0m\n",
      "\u001b[0;32m~/anaconda3/envs/DutchRoberta/lib/python3.9/site-packages/pandas/core/series.py\u001b[0m in \u001b[0;36m_cmp_method\u001b[0;34m(self, other, op)\u001b[0m\n\u001b[1;32m   4976\u001b[0m         \u001b[0mrvalues\u001b[0m \u001b[0;34m=\u001b[0m \u001b[0mextract_array\u001b[0m\u001b[0;34m(\u001b[0m\u001b[0mother\u001b[0m\u001b[0;34m,\u001b[0m \u001b[0mextract_numpy\u001b[0m\u001b[0;34m=\u001b[0m\u001b[0;32mTrue\u001b[0m\u001b[0;34m)\u001b[0m\u001b[0;34m\u001b[0m\u001b[0;34m\u001b[0m\u001b[0m\n\u001b[1;32m   4977\u001b[0m \u001b[0;34m\u001b[0m\u001b[0m\n\u001b[0;32m-> 4978\u001b[0;31m         \u001b[0mres_values\u001b[0m \u001b[0;34m=\u001b[0m \u001b[0mops\u001b[0m\u001b[0;34m.\u001b[0m\u001b[0mcomparison_op\u001b[0m\u001b[0;34m(\u001b[0m\u001b[0mlvalues\u001b[0m\u001b[0;34m,\u001b[0m \u001b[0mrvalues\u001b[0m\u001b[0;34m,\u001b[0m \u001b[0mop\u001b[0m\u001b[0;34m)\u001b[0m\u001b[0;34m\u001b[0m\u001b[0;34m\u001b[0m\u001b[0m\n\u001b[0m\u001b[1;32m   4979\u001b[0m \u001b[0;34m\u001b[0m\u001b[0m\n\u001b[1;32m   4980\u001b[0m         \u001b[0;32mreturn\u001b[0m \u001b[0mself\u001b[0m\u001b[0;34m.\u001b[0m\u001b[0m_construct_result\u001b[0m\u001b[0;34m(\u001b[0m\u001b[0mres_values\u001b[0m\u001b[0;34m,\u001b[0m \u001b[0mname\u001b[0m\u001b[0;34m=\u001b[0m\u001b[0mres_name\u001b[0m\u001b[0;34m)\u001b[0m\u001b[0;34m\u001b[0m\u001b[0;34m\u001b[0m\u001b[0m\n",
      "\u001b[0;32m~/anaconda3/envs/DutchRoberta/lib/python3.9/site-packages/pandas/core/ops/array_ops.py\u001b[0m in \u001b[0;36mcomparison_op\u001b[0;34m(left, right, op)\u001b[0m\n\u001b[1;32m    241\u001b[0m \u001b[0;34m\u001b[0m\u001b[0m\n\u001b[1;32m    242\u001b[0m     \u001b[0;32melif\u001b[0m \u001b[0mis_object_dtype\u001b[0m\u001b[0;34m(\u001b[0m\u001b[0mlvalues\u001b[0m\u001b[0;34m.\u001b[0m\u001b[0mdtype\u001b[0m\u001b[0;34m)\u001b[0m\u001b[0;34m:\u001b[0m\u001b[0;34m\u001b[0m\u001b[0;34m\u001b[0m\u001b[0m\n\u001b[0;32m--> 243\u001b[0;31m         \u001b[0mres_values\u001b[0m \u001b[0;34m=\u001b[0m \u001b[0mcomp_method_OBJECT_ARRAY\u001b[0m\u001b[0;34m(\u001b[0m\u001b[0mop\u001b[0m\u001b[0;34m,\u001b[0m \u001b[0mlvalues\u001b[0m\u001b[0;34m,\u001b[0m \u001b[0mrvalues\u001b[0m\u001b[0;34m)\u001b[0m\u001b[0;34m\u001b[0m\u001b[0;34m\u001b[0m\u001b[0m\n\u001b[0m\u001b[1;32m    244\u001b[0m \u001b[0;34m\u001b[0m\u001b[0m\n\u001b[1;32m    245\u001b[0m     \u001b[0;32melse\u001b[0m\u001b[0;34m:\u001b[0m\u001b[0;34m\u001b[0m\u001b[0;34m\u001b[0m\u001b[0m\n",
      "\u001b[0;32m~/anaconda3/envs/DutchRoberta/lib/python3.9/site-packages/pandas/core/ops/array_ops.py\u001b[0m in \u001b[0;36mcomp_method_OBJECT_ARRAY\u001b[0;34m(op, x, y)\u001b[0m\n\u001b[1;32m     53\u001b[0m         \u001b[0mresult\u001b[0m \u001b[0;34m=\u001b[0m \u001b[0mlibops\u001b[0m\u001b[0;34m.\u001b[0m\u001b[0mvec_compare\u001b[0m\u001b[0;34m(\u001b[0m\u001b[0mx\u001b[0m\u001b[0;34m.\u001b[0m\u001b[0mravel\u001b[0m\u001b[0;34m(\u001b[0m\u001b[0;34m)\u001b[0m\u001b[0;34m,\u001b[0m \u001b[0my\u001b[0m\u001b[0;34m.\u001b[0m\u001b[0mravel\u001b[0m\u001b[0;34m(\u001b[0m\u001b[0;34m)\u001b[0m\u001b[0;34m,\u001b[0m \u001b[0mop\u001b[0m\u001b[0;34m)\u001b[0m\u001b[0;34m\u001b[0m\u001b[0;34m\u001b[0m\u001b[0m\n\u001b[1;32m     54\u001b[0m     \u001b[0;32melse\u001b[0m\u001b[0;34m:\u001b[0m\u001b[0;34m\u001b[0m\u001b[0;34m\u001b[0m\u001b[0m\n\u001b[0;32m---> 55\u001b[0;31m         \u001b[0mresult\u001b[0m \u001b[0;34m=\u001b[0m \u001b[0mlibops\u001b[0m\u001b[0;34m.\u001b[0m\u001b[0mscalar_compare\u001b[0m\u001b[0;34m(\u001b[0m\u001b[0mx\u001b[0m\u001b[0;34m.\u001b[0m\u001b[0mravel\u001b[0m\u001b[0;34m(\u001b[0m\u001b[0;34m)\u001b[0m\u001b[0;34m,\u001b[0m \u001b[0my\u001b[0m\u001b[0;34m,\u001b[0m \u001b[0mop\u001b[0m\u001b[0;34m)\u001b[0m\u001b[0;34m\u001b[0m\u001b[0;34m\u001b[0m\u001b[0m\n\u001b[0m\u001b[1;32m     56\u001b[0m     \u001b[0;32mreturn\u001b[0m \u001b[0mresult\u001b[0m\u001b[0;34m.\u001b[0m\u001b[0mreshape\u001b[0m\u001b[0;34m(\u001b[0m\u001b[0mx\u001b[0m\u001b[0;34m.\u001b[0m\u001b[0mshape\u001b[0m\u001b[0;34m)\u001b[0m\u001b[0;34m\u001b[0m\u001b[0;34m\u001b[0m\u001b[0m\n\u001b[1;32m     57\u001b[0m \u001b[0;34m\u001b[0m\u001b[0m\n",
      "\u001b[0;31mKeyboardInterrupt\u001b[0m: "
     ]
    }
   ],
   "source": [
    "# Timespan is in weeks\n",
    "get_more_entity_forms('rutte', timespan=50, country='NL', exact_match=True)"
   ]
  },
  {
   "cell_type": "code",
   "execution_count": 1315,
   "id": "2e3147e4",
   "metadata": {},
   "outputs": [],
   "source": [
    "# have to make sure our entities actually occur in the parlamint dataset\n",
    "def get_suitable_aliases(list_of_aliases, country, num_ents=10):\n",
    "    \n",
    "    output = []\n",
    "    \n",
    "    possible_ents = pd.Series(person_df['string'][person_df['lang'] == country].unique())\n",
    "    for i, item in enumerate(list_of_aliases):\n",
    "        present = possible_ents.str.lower().str.strip().str.contains(item.lower().strip()).sum()\n",
    "        if present:\n",
    "            output.append(i)\n",
    "    return output[:num_ents]\n",
    "        "
   ]
  },
  {
   "cell_type": "code",
   "execution_count": 1353,
   "id": "85975beb",
   "metadata": {},
   "outputs": [
    {
     "name": "stderr",
     "output_type": "stream",
     "text": [
      "\n",
      "\n",
      "\n",
      "  0%|          | 0/10 [00:00<?, ?it/s]\u001b[A\u001b[A\u001b[A\n",
      "\n",
      "\n",
      " 10%|█         | 1/10 [00:03<00:30,  3.36s/it]\u001b[A\u001b[A\u001b[A\n",
      "\n",
      "\n",
      " 20%|██        | 2/10 [00:05<00:23,  2.92s/it]\u001b[A\u001b[A\u001b[A\n",
      "\n",
      "\n",
      " 30%|███       | 3/10 [00:07<00:19,  2.71s/it]\u001b[A\u001b[A\u001b[A\n",
      "\n",
      "\n",
      " 40%|████      | 4/10 [00:09<00:14,  2.38s/it]\u001b[A\u001b[A\u001b[A\n",
      "\n",
      "\n",
      " 50%|█████     | 5/10 [00:10<00:10,  2.13s/it]\u001b[A\u001b[A\u001b[A\n",
      "\n",
      "\n",
      " 60%|██████    | 6/10 [00:12<00:08,  2.03s/it]\u001b[A\u001b[A\u001b[A\n",
      "\n",
      "\n",
      " 70%|███████   | 7/10 [00:13<00:05,  1.88s/it]\u001b[A\u001b[A\u001b[A\n",
      "\n",
      "\n",
      " 80%|████████  | 8/10 [00:15<00:03,  1.77s/it]\u001b[A\u001b[A\u001b[A\n",
      "\n",
      "\n",
      " 90%|█████████ | 9/10 [00:17<00:01,  1.76s/it]\u001b[A\u001b[A\u001b[A\n",
      "\n",
      "\n",
      "100%|██████████| 10/10 [00:18<00:00,  1.89s/it]\u001b[A\u001b[A\u001b[A\n",
      "\n",
      "\n",
      "\n",
      "  0%|          | 0/10 [00:00<?, ?it/s]\u001b[A\u001b[A\u001b[A\n",
      "\n",
      "\n",
      " 10%|█         | 1/10 [00:01<00:15,  1.69s/it]\u001b[A\u001b[A\u001b[A\n",
      "\n",
      "\n",
      " 20%|██        | 2/10 [00:03<00:13,  1.73s/it]\u001b[A\u001b[A\u001b[A\n",
      "\n",
      "\n",
      " 30%|███       | 3/10 [00:05<00:12,  1.72s/it]\u001b[A\u001b[A\u001b[A\n",
      "\n",
      "\n",
      " 40%|████      | 4/10 [00:06<00:09,  1.65s/it]\u001b[A\u001b[A\u001b[A\n",
      "\n",
      "\n",
      " 50%|█████     | 5/10 [00:08<00:08,  1.60s/it]\u001b[A\u001b[A\u001b[A\n",
      "\n",
      "\n",
      " 60%|██████    | 6/10 [00:11<00:08,  2.12s/it]\u001b[A\u001b[A\u001b[A\n",
      "\n",
      "\n",
      " 70%|███████   | 7/10 [00:13<00:06,  2.15s/it]\u001b[A\u001b[A\u001b[A\n",
      "\n",
      "\n",
      " 80%|████████  | 8/10 [00:15<00:04,  2.12s/it]\u001b[A\u001b[A\u001b[A\n",
      "\n",
      "\n",
      " 90%|█████████ | 9/10 [00:17<00:01,  1.99s/it]\u001b[A\u001b[A\u001b[A\n",
      "\n",
      "\n",
      "100%|██████████| 10/10 [00:18<00:00,  1.90s/it]\u001b[A\u001b[A\u001b[A\n",
      "\n",
      "\n",
      "\n",
      "  0%|          | 0/10 [00:00<?, ?it/s]\u001b[A\u001b[A\u001b[A\n",
      "\n",
      "\n",
      " 10%|█         | 1/10 [00:01<00:13,  1.48s/it]\u001b[A\u001b[A\u001b[A\n",
      "\n",
      "\n",
      " 20%|██        | 2/10 [00:03<00:13,  1.64s/it]\u001b[A\u001b[A\u001b[A\n",
      "\n",
      "\n",
      " 30%|███       | 3/10 [00:05<00:11,  1.70s/it]\u001b[A\u001b[A\u001b[A\n",
      "\n",
      "\n",
      " 40%|████      | 4/10 [00:07<00:10,  1.74s/it]\u001b[A\u001b[A\u001b[A\n",
      "\n",
      "\n",
      " 50%|█████     | 5/10 [00:08<00:08,  1.67s/it]\u001b[A\u001b[A\u001b[A\n",
      "\n",
      "\n",
      " 60%|██████    | 6/10 [00:13<00:11,  2.75s/it]\u001b[A\u001b[A\u001b[A\n",
      "\n",
      "\n",
      " 70%|███████   | 7/10 [00:17<00:08,  2.85s/it]\u001b[A\u001b[A\u001b[A\n",
      "\n",
      "\n",
      " 80%|████████  | 8/10 [00:18<00:04,  2.44s/it]\u001b[A\u001b[A\u001b[A\n",
      "\n",
      "\n",
      " 90%|█████████ | 9/10 [00:22<00:02,  2.98s/it]\u001b[A\u001b[A\u001b[A\n",
      "\n",
      "\n",
      "100%|██████████| 10/10 [00:24<00:00,  2.50s/it]\u001b[A\u001b[A\u001b[A\n",
      "\n",
      "\n",
      "\n",
      "  0%|          | 0/10 [00:00<?, ?it/s]\u001b[A\u001b[A\u001b[A\n",
      "\n",
      "\n",
      " 10%|█         | 1/10 [00:01<00:15,  1.67s/it]\u001b[A\u001b[A\u001b[A\n",
      "\n",
      "\n",
      " 20%|██        | 2/10 [00:06<00:20,  2.62s/it]\u001b[A\u001b[A\u001b[A\n",
      "\n",
      "\n",
      " 30%|███       | 3/10 [00:09<00:18,  2.59s/it]\u001b[A\u001b[A\u001b[A\n",
      "\n",
      "\n",
      " 40%|████      | 4/10 [00:11<00:14,  2.46s/it]\u001b[A\u001b[A\u001b[A\n",
      "\n",
      "\n",
      " 50%|█████     | 5/10 [00:12<00:11,  2.23s/it]\u001b[A\u001b[A\u001b[A\n",
      "\n",
      "\n",
      " 60%|██████    | 6/10 [00:21<00:16,  4.22s/it]\u001b[A\u001b[A\u001b[A\n",
      "\n",
      "\n",
      " 70%|███████   | 7/10 [00:27<00:14,  4.74s/it]\u001b[A\u001b[A\u001b[A\n",
      "\n",
      "\n",
      " 80%|████████  | 8/10 [00:29<00:07,  3.97s/it]\u001b[A\u001b[A\u001b[A\n",
      "\n",
      "\n",
      " 90%|█████████ | 9/10 [00:35<00:04,  4.36s/it]\u001b[A\u001b[A\u001b[A\n",
      "\n",
      "\n",
      "100%|██████████| 10/10 [00:37<00:00,  3.77s/it]\u001b[A\u001b[A\u001b[A\n",
      "\n",
      "\n",
      "\n",
      "  0%|          | 0/10 [00:00<?, ?it/s]\u001b[A\u001b[A\u001b[A\n",
      "\n",
      "\n",
      " 10%|█         | 1/10 [00:04<00:39,  4.43s/it]\u001b[A\u001b[A\u001b[A\n",
      "\n",
      "\n",
      " 20%|██        | 2/10 [00:12<00:43,  5.49s/it]\u001b[A\u001b[A\u001b[A\n",
      "\n",
      "\n",
      " 30%|███       | 3/10 [00:15<00:33,  4.81s/it]\u001b[A\u001b[A\u001b[A\n",
      "\n",
      "\n",
      " 40%|████      | 4/10 [00:18<00:24,  4.16s/it]\u001b[A\u001b[A\u001b[A\n",
      "\n",
      "\n",
      " 50%|█████     | 5/10 [00:20<00:17,  3.45s/it]\u001b[A\u001b[A\u001b[A\n",
      "\n",
      "\n",
      " 60%|██████    | 6/10 [00:31<00:23,  5.81s/it]\u001b[A\u001b[A\u001b[A\n",
      "\n",
      "\n",
      " 70%|███████   | 7/10 [00:40<00:20,  6.80s/it]\u001b[A\u001b[A\u001b[A\n",
      "\n",
      "\n",
      " 80%|████████  | 8/10 [00:44<00:11,  5.97s/it]\u001b[A\u001b[A\u001b[A\n",
      "\n",
      "\n",
      " 90%|█████████ | 9/10 [00:49<00:05,  5.66s/it]\u001b[A\u001b[A\u001b[A\n",
      "\n",
      "\n",
      "100%|██████████| 10/10 [00:52<00:00,  5.26s/it]\u001b[A\u001b[A\u001b[A\n",
      "\n",
      "\n",
      "\n",
      "  0%|          | 0/10 [00:00<?, ?it/s]\u001b[A\u001b[A\u001b[A\n",
      "\n",
      "\n",
      " 10%|█         | 1/10 [00:05<00:45,  5.09s/it]\u001b[A\u001b[A\u001b[A\n",
      "\n",
      "\n",
      " 20%|██        | 2/10 [00:20<01:06,  8.27s/it]\u001b[A\u001b[A\u001b[A\n",
      "\n",
      "\n",
      " 30%|███       | 3/10 [00:26<00:53,  7.59s/it]\u001b[A\u001b[A\u001b[A\n",
      "\n",
      "\n",
      " 40%|████      | 4/10 [00:29<00:36,  6.15s/it]\u001b[A\u001b[A\u001b[A\n",
      "\n",
      "\n",
      " 50%|█████     | 5/10 [00:31<00:24,  4.88s/it]\u001b[A\u001b[A\u001b[A\n",
      "\n",
      "\n",
      " 60%|██████    | 6/10 [00:51<00:37,  9.42s/it]\u001b[A\u001b[A\u001b[A\n",
      "\n",
      "\n",
      " 70%|███████   | 7/10 [01:03<00:30, 10.12s/it]\u001b[A\u001b[A\u001b[A\n",
      "\n",
      "\n",
      " 80%|████████  | 8/10 [01:08<00:17,  8.79s/it]\u001b[A\u001b[A\u001b[A\n",
      "\n",
      "\n",
      " 90%|█████████ | 9/10 [01:16<00:08,  8.41s/it]\u001b[A\u001b[A\u001b[A\n",
      "\n",
      "\n",
      "100%|██████████| 10/10 [01:19<00:00,  7.99s/it]\u001b[A\u001b[A\u001b[A\n"
     ]
    }
   ],
   "source": [
    "# now we set up a bigger experiment for the aliasing\n",
    "number_of_test_ents = 10\n",
    "country_code = 'GB'\n",
    "nl_test_orig_ents = [item[0] for item in politicians_gold_standard['en']]\n",
    "nl_test_alias_ents = [\" \".join(item.split()[1:]) for item in nl_test_orig_ents]\n",
    "aliases_in_parlamint = get_suitable_aliases(nl_test_alias_ents, country_code, num_ents=number_of_test_ents)\n",
    "nl_test_alias_ents = [nl_test_alias_ents[i] for i in aliases_in_parlamint]\n",
    "nl_test_orig_ents = [nl_test_orig_ents[i] for i in aliases_in_parlamint]\n",
    "\n",
    "one_week_resolved = [get_more_entity_forms(item, timespan=1, country=country_code, exact_match=True) for item in tqdm(nl_test_alias_ents)]\n",
    "one_month_resolved = [get_more_entity_forms(item, timespan=4, country=country_code, exact_match=True) for item in tqdm(nl_test_alias_ents)]\n",
    "three_month_resolved = [get_more_entity_forms(item, timespan=8, country=country_code, exact_match=True) for item in tqdm(nl_test_alias_ents)]\n",
    "half_year_resolved = [get_more_entity_forms(item, timespan=26, country=country_code, exact_match=True) for item in tqdm(nl_test_alias_ents)]\n",
    "year_resolved = [get_more_entity_forms(item, timespan=52, country=country_code, exact_match=True) for item in tqdm(nl_test_alias_ents)]\n",
    "two_year_resolved = [get_more_entity_forms(item, timespan=104, country=country_code, exact_match=True) for item in tqdm(nl_test_alias_ents)]\n",
    "\n"
   ]
  },
  {
   "cell_type": "code",
   "execution_count": 1354,
   "id": "f608eba5",
   "metadata": {},
   "outputs": [
    {
     "name": "stdout",
     "output_type": "stream",
     "text": [
      "('karen bradley', 'bradley')\n",
      "('ben bradshaw', 'bradshaw')\n",
      "('kevin brennan', 'brennan')\n",
      "('andrew bridgen', 'bridgen')\n",
      "('lyn brown', 'molton brown')\n",
      "('greg clark', 'clark')\n",
      "('edward timpson', 'timpson')\n",
      "('rosie cooper', 'yvette cooper')\n",
      "0.2\n",
      "('karen bradley', 'bradley')\n",
      "('ben bradshaw', 'bradshaw')\n",
      "('john whittingdale', 'whittingdale')\n",
      "('kevin brennan', 'brennan')\n",
      "('andrew bridgen', 'bridgen')\n",
      "('lyn brown', 'gordon brown')\n",
      "('christopher chope', 'chope')\n",
      "('edward timpson', 'james timpson')\n",
      "('rosie cooper', 'cooper')\n",
      "0.1\n",
      "('karen bradley', 'bradley')\n",
      "('ben bradshaw', 'bradshaw')\n",
      "('john whittingdale', 'whittingdale')\n",
      "('kevin brennan', 'brennan')\n",
      "('lyn brown', 'lady brown')\n",
      "('christopher chope', 'chope')\n",
      "('greg clark', 'clark')\n",
      "('rosie cooper', 'cooper')\n",
      "0.2\n",
      "('karen bradley', 'bradley')\n",
      "('john whittingdale', 'whittingdale')\n",
      "('andrew bridgen', 'bridgen')\n",
      "('lyn brown', 'gordon brown')\n",
      "('rosie cooper', 'cooper')\n",
      "0.5\n",
      "('karen bradley', 'denise bradley')\n",
      "('ben bradshaw', 'john bradshaw')\n",
      "('john whittingdale', 'whittingdale')\n",
      "('kevin brennan', 'brennan')\n",
      "('lyn brown', 'gordon brown')\n",
      "('rosie cooper', 'yvette cooper')\n",
      "0.4\n",
      "('kevin brennan', 'brennan')\n",
      "('lyn brown', 'gordon brown')\n",
      "('greg clark', 'lady clark')\n",
      "('rosie cooper', 'yvette cooper')\n",
      "0.6\n"
     ]
    }
   ],
   "source": [
    "for setting in [one_week_resolved, one_month_resolved, three_month_resolved, half_year_resolved, year_resolved, two_year_resolved]:\n",
    "    score = 0\n",
    "    for i in range(len(setting)):\n",
    "        if nl_test_orig_ents[i].lower().strip() == setting[i].lower().replace('m. ', '').strip():\n",
    "            score+=1\n",
    "        else:\n",
    "            print((nl_test_orig_ents[i].lower().strip(), setting[i].lower().strip()))\n",
    "    print(score / number_of_test_ents)\n",
    "\n"
   ]
  },
  {
   "cell_type": "code",
   "execution_count": null,
   "id": "39690475",
   "metadata": {},
   "outputs": [],
   "source": [
    "# NL: [0, 0.1, 0.2, 0.1, 0.4, 0.5]\n",
    "# FR: [0.4, 0.6, 0.5, 0.7, 0.7, 0.7]\n",
    "# PL: [0.7, 0.7, 0.7, 0.7, 0.7, 0.7]\n",
    "# BE: [0.4, 0.5, 0.8, 0.9, 1.0, 1.0]\n",
    "# GB: [0.2, 0.6, 0.3, 0.2, 0.5, 0.7]\n",
    "# CZ: [0.6, 0.6, 0.8, 0.8, 0.8, 0.9]\n"
   ]
  },
  {
   "cell_type": "code",
   "execution_count": 1361,
   "id": "3a2ad3c3",
   "metadata": {},
   "outputs": [
    {
     "name": "stderr",
     "output_type": "stream",
     "text": [
      "<ipython-input-1361-fd0b77562786>:7: UserWarning: FixedFormatter should only be used together with FixedLocator\n",
      "  ax.set_xticklabels(labels = [\"0\", \"1 week\", \"1 month\", \"3 months\", \"6 months\", \"1 year\", \"2 years\"])\n"
     ]
    },
    {
     "data": {
      "image/png": "[encoded data removed]",
      "text/plain": [
       "<Figure size 432x288 with 1 Axes>"
      ]
     },
     "metadata": {
      "needs_background": "light"
     },
     "output_type": "display_data"
    }
   ],
   "source": [
    "aliasing_dict = pd.DataFrame({'NL': [0, 0.1, 0.2, 0.1, 0.4, 0.5], 'FR': [0.4, 0.6, 0.5, 0.7, 0.7, 0.7],\n",
    "                'PL': [0.7, 0.7, 0.7, 0.7, 0.7, 0.7], 'BE': [0.4, 0.5, 0.8, 0.9, 1.0, 1.0],\n",
    "                'GB': [0.2, 0.6, 0.3, 0.2, 0.5, 0.7], 'CZ': [0.6, 0.6, 0.8, 0.8, 0.8, 0.9]})\n",
    "aliasing_dict = aliasing_dict*10\n",
    "\n",
    "ax = aliasing_dict.plot()\n",
    "ax.set_xticklabels(labels = [\"0\", \"1 week\", \"1 month\", \"3 months\", \"6 months\", \"1 year\", \"2 years\"])\n",
    "plt.xticks(rotation = 45)\n",
    "plt.xlabel('time span')\n",
    "plt.ylabel('Number of retrieved canonical forms')\n",
    "plt.tight_layout()\n",
    "plt.savefig('aliasing_algo_plot.png')\n",
    "plt.show()"
   ]
  },
  {
   "cell_type": "code",
   "execution_count": 1254,
   "id": "449c9578",
   "metadata": {},
   "outputs": [
    {
     "name": "stderr",
     "output_type": "stream",
     "text": [
      "<ipython-input-1254-4762183ce0eb>:3: SettingWithCopyWarning: \n",
      "A value is trying to be set on a copy of a slice from a DataFrame.\n",
      "Try using .loc[row_indexer,col_indexer] = value instead\n",
      "\n",
      "See the caveats in the documentation: https://pandas.pydata.org/pandas-docs/stable/user_guide/indexing.html#returning-a-view-versus-a-copy\n",
      "  person_df[person_df['lang'] == 'GB']['date'] = gb_dates\n"
     ]
    },
    {
     "name": "stdout",
     "output_type": "stream",
     "text": [
      "35         NaN\n",
      "37         NaN\n",
      "40         NaN\n",
      "65         NaN\n",
      "67         NaN\n",
      "          ... \n",
      "2161539    NaN\n",
      "2161544    NaN\n",
      "2161552    NaN\n",
      "2161576    NaN\n",
      "2161577    NaN\n",
      "Name: date, Length: 669817, dtype: object\n"
     ]
    }
   ],
   "source": [
    "import datetime\n",
    "gb_dates = person_df[person_df['lang'] == 'GB']['file'].str.slice(13, 23)\n",
    "person_df[person_df['lang'] == 'GB']['date'] = gb_dates"
   ]
  },
  {
   "cell_type": "code",
   "execution_count": 1360,
   "id": "fa5b94b2",
   "metadata": {},
   "outputs": [
    {
     "name": "stderr",
     "output_type": "stream",
     "text": [
      "\n",
      "\n",
      "\n",
      "  0%|          | 0/25 [00:00<?, ?it/s]\u001b[A\u001b[A\u001b[A\n",
      "\n",
      "\n",
      "  4%|▍         | 1/25 [00:01<00:37,  1.58s/it]\u001b[A\u001b[A\u001b[A\n",
      "\n",
      "\n",
      "  8%|▊         | 2/25 [00:03<00:36,  1.60s/it]\u001b[A\u001b[A\u001b[A\n",
      "\n",
      "\n",
      " 12%|█▏        | 3/25 [00:05<00:38,  1.74s/it]\u001b[A\u001b[A\u001b[A\n",
      "\n",
      "\n",
      " 16%|█▌        | 4/25 [00:07<00:40,  1.95s/it]\u001b[A\u001b[A\u001b[A\n",
      "\n",
      "\n",
      " 20%|██        | 5/25 [00:09<00:39,  1.97s/it]\u001b[A\u001b[A\u001b[A\n",
      "\n",
      "\n",
      " 24%|██▍       | 6/25 [00:11<00:38,  2.02s/it]\u001b[A\u001b[A\u001b[A\n",
      "\n",
      "\n",
      " 28%|██▊       | 7/25 [00:13<00:36,  2.03s/it]\u001b[A\u001b[A\u001b[A\n",
      "\n",
      "\n",
      " 32%|███▏      | 8/25 [00:15<00:33,  1.99s/it]\u001b[A\u001b[A\u001b[A\n",
      "\n",
      "\n",
      " 36%|███▌      | 9/25 [00:17<00:29,  1.84s/it]\u001b[A\u001b[A\u001b[A\n",
      "\n",
      "\n",
      " 40%|████      | 10/25 [00:19<00:28,  1.91s/it]\u001b[A\u001b[A\u001b[A\n",
      "\n",
      "\n",
      " 44%|████▍     | 11/25 [00:21<00:27,  1.93s/it]\u001b[A\u001b[A\u001b[A\n",
      "\n",
      "\n",
      " 48%|████▊     | 12/25 [00:23<00:25,  1.93s/it]\u001b[A\u001b[A\u001b[A\n",
      "\n",
      "\n",
      " 52%|█████▏    | 13/25 [00:25<00:22,  1.90s/it]\u001b[A\u001b[A\u001b[A\n",
      "\n",
      "\n",
      " 56%|█████▌    | 14/25 [00:27<00:21,  1.92s/it]\u001b[A\u001b[A\u001b[A\n",
      "\n",
      "\n",
      " 60%|██████    | 15/25 [00:28<00:17,  1.78s/it]\u001b[A\u001b[A\u001b[A\n",
      "\n",
      "\n",
      " 64%|██████▍   | 16/25 [00:29<00:14,  1.61s/it]\u001b[A\u001b[A\u001b[A\n",
      "\n",
      "\n",
      " 68%|██████▊   | 17/25 [00:31<00:13,  1.68s/it]\u001b[A\u001b[A\u001b[A\n",
      "\n",
      "\n",
      " 72%|███████▏  | 18/25 [00:33<00:12,  1.72s/it]\u001b[A\u001b[A\u001b[A\n",
      "\n",
      "\n",
      " 76%|███████▌  | 19/25 [00:35<00:10,  1.76s/it]\u001b[A\u001b[A\u001b[A\n",
      "\n",
      "\n",
      " 80%|████████  | 20/25 [00:36<00:08,  1.69s/it]\u001b[A\u001b[A\u001b[A\n",
      "\n",
      "\n",
      " 84%|████████▍ | 21/25 [00:38<00:06,  1.73s/it]\u001b[A\u001b[A\u001b[A\n",
      "\n",
      "\n",
      " 88%|████████▊ | 22/25 [00:40<00:05,  1.72s/it]\u001b[A\u001b[A\u001b[A\n",
      "\n",
      "\n",
      " 92%|█████████▏| 23/25 [00:42<00:03,  1.75s/it]\u001b[A\u001b[A\u001b[A\n",
      "\n",
      "\n",
      " 96%|█████████▌| 24/25 [00:43<00:01,  1.78s/it]\u001b[A\u001b[A\u001b[A\n",
      "\n",
      "\n",
      "100%|██████████| 25/25 [00:45<00:00,  1.84s/it]\u001b[A\u001b[A\u001b[A\n",
      "\n",
      "\n",
      "\n",
      "  0%|          | 0/25 [00:00<?, ?it/s]\u001b[A\u001b[A\u001b[A\n",
      "\n",
      "\n",
      "  4%|▍         | 1/25 [00:01<00:43,  1.81s/it]\u001b[A\u001b[A\u001b[A\n",
      "\n",
      "\n",
      "  8%|▊         | 2/25 [00:03<00:40,  1.76s/it]\u001b[A\u001b[A\u001b[A\n",
      "\n",
      "\n",
      " 12%|█▏        | 3/25 [00:05<00:38,  1.75s/it]\u001b[A\u001b[A\u001b[A\n",
      "\n",
      "\n",
      " 16%|█▌        | 4/25 [00:07<00:38,  1.84s/it]\u001b[A\u001b[A\u001b[A\n",
      "\n",
      "\n",
      " 20%|██        | 5/25 [00:08<00:35,  1.78s/it]\u001b[A\u001b[A\u001b[A\n",
      "\n",
      "\n",
      " 24%|██▍       | 6/25 [00:10<00:35,  1.86s/it]\u001b[A\u001b[A\u001b[A\n",
      "\n",
      "\n",
      " 28%|██▊       | 7/25 [00:12<00:32,  1.79s/it]\u001b[A\u001b[A\u001b[A\n",
      "\n",
      "\n",
      " 32%|███▏      | 8/25 [00:14<00:31,  1.85s/it]\u001b[A\u001b[A\u001b[A\n",
      "\n",
      "\n",
      " 36%|███▌      | 9/25 [00:16<00:30,  1.90s/it]\u001b[A\u001b[A\u001b[A\n",
      "\n",
      "\n",
      " 40%|████      | 10/25 [00:18<00:27,  1.85s/it]\u001b[A\u001b[A\u001b[A\n",
      "\n",
      "\n",
      " 44%|████▍     | 11/25 [00:19<00:25,  1.79s/it]\u001b[A\u001b[A\u001b[A\n",
      "\n",
      "\n",
      " 48%|████▊     | 12/25 [00:21<00:20,  1.57s/it]\u001b[A\u001b[A\u001b[A\n",
      "\n",
      "\n",
      " 52%|█████▏    | 13/25 [00:22<00:19,  1.64s/it]\u001b[A\u001b[A\u001b[A\n",
      "\n",
      "\n",
      " 56%|█████▌    | 14/25 [00:24<00:17,  1.63s/it]\u001b[A\u001b[A\u001b[A\n",
      "\n",
      "\n",
      " 60%|██████    | 15/25 [00:25<00:16,  1.60s/it]\u001b[A\u001b[A\u001b[A\n",
      "\n",
      "\n",
      " 64%|██████▍   | 16/25 [00:27<00:14,  1.58s/it]\u001b[A\u001b[A\u001b[A\n",
      "\n",
      "\n",
      " 68%|██████▊   | 17/25 [00:29<00:12,  1.59s/it]\u001b[A\u001b[A\u001b[A\n",
      "\n",
      "\n",
      " 72%|███████▏  | 18/25 [00:30<00:11,  1.66s/it]\u001b[A\u001b[A\u001b[A\n",
      "\n",
      "\n",
      " 76%|███████▌  | 19/25 [00:32<00:10,  1.70s/it]\u001b[A\u001b[A\u001b[A\n",
      "\n",
      "\n",
      " 80%|████████  | 20/25 [00:34<00:08,  1.67s/it]\u001b[A\u001b[A\u001b[A\n",
      "\n",
      "\n",
      " 84%|████████▍ | 21/25 [00:36<00:06,  1.68s/it]\u001b[A\u001b[A\u001b[A\n",
      "\n",
      "\n",
      " 88%|████████▊ | 22/25 [00:37<00:05,  1.70s/it]\u001b[A\u001b[A\u001b[A\n",
      "\n",
      "\n",
      " 92%|█████████▏| 23/25 [00:39<00:03,  1.67s/it]\u001b[A\u001b[A\u001b[A\n",
      "\n",
      "\n",
      " 96%|█████████▌| 24/25 [00:40<00:01,  1.63s/it]\u001b[A\u001b[A\u001b[A\n",
      "\n",
      "\n",
      "100%|██████████| 25/25 [00:41<00:00,  1.68s/it]\u001b[A\u001b[A\u001b[A\n",
      "\n",
      "\n",
      "\n",
      "  0%|          | 0/25 [00:00<?, ?it/s]\u001b[A\u001b[A\u001b[A\n",
      "\n",
      "\n",
      "  4%|▍         | 1/25 [00:00<00:18,  1.31it/s]\u001b[A\u001b[A\u001b[A\n",
      "\n",
      "\n",
      "  8%|▊         | 2/25 [00:01<00:17,  1.33it/s]\u001b[A\u001b[A\u001b[A\n",
      "\n",
      "\n",
      " 12%|█▏        | 3/25 [00:02<00:16,  1.33it/s]\u001b[A\u001b[A\u001b[A\n",
      "\n",
      "\n",
      " 16%|█▌        | 4/25 [00:02<00:15,  1.33it/s]\u001b[A\u001b[A\u001b[A\n",
      "\n",
      "\n",
      " 20%|██        | 5/25 [00:03<00:15,  1.33it/s]\u001b[A\u001b[A\u001b[A\n",
      "\n",
      "\n",
      " 24%|██▍       | 6/25 [00:04<00:14,  1.34it/s]\u001b[A\u001b[A\u001b[A\n",
      "\n",
      "\n",
      " 28%|██▊       | 7/25 [00:05<00:13,  1.34it/s]\u001b[A\u001b[A\u001b[A\n",
      "\n",
      "\n",
      " 32%|███▏      | 8/25 [00:05<00:12,  1.33it/s]\u001b[A\u001b[A\u001b[A\n",
      "\n",
      "\n",
      " 36%|███▌      | 9/25 [00:06<00:12,  1.33it/s]\u001b[A\u001b[A\u001b[A\n",
      "\n",
      "\n",
      " 40%|████      | 10/25 [00:07<00:11,  1.33it/s]\u001b[A\u001b[A\u001b[A\n",
      "\n",
      "\n",
      " 44%|████▍     | 11/25 [00:08<00:10,  1.33it/s]\u001b[A\u001b[A\u001b[A\n",
      "\n",
      "\n",
      " 48%|████▊     | 12/25 [00:08<00:09,  1.33it/s]\u001b[A\u001b[A\u001b[A\n",
      "\n",
      "\n",
      " 52%|█████▏    | 13/25 [00:09<00:08,  1.34it/s]\u001b[A\u001b[A\u001b[A\n",
      "\n",
      "\n",
      " 56%|█████▌    | 14/25 [00:10<00:08,  1.34it/s]\u001b[A\u001b[A\u001b[A\n",
      "\n",
      "\n",
      " 60%|██████    | 15/25 [00:11<00:07,  1.34it/s]\u001b[A\u001b[A\u001b[A\n",
      "\n",
      "\n",
      " 64%|██████▍   | 16/25 [00:11<00:06,  1.35it/s]\u001b[A\u001b[A\u001b[A\n",
      "\n",
      "\n",
      " 68%|██████▊   | 17/25 [00:12<00:05,  1.34it/s]\u001b[A\u001b[A\u001b[A\n",
      "\n",
      "\n",
      " 72%|███████▏  | 18/25 [00:13<00:05,  1.35it/s]\u001b[A\u001b[A\u001b[A\n",
      "\n",
      "\n",
      " 76%|███████▌  | 19/25 [00:14<00:04,  1.33it/s]\u001b[A\u001b[A\u001b[A\n",
      "\n",
      "\n",
      " 80%|████████  | 20/25 [00:14<00:03,  1.34it/s]\u001b[A\u001b[A\u001b[A\n",
      "\n",
      "\n",
      " 84%|████████▍ | 21/25 [00:15<00:02,  1.34it/s]\u001b[A\u001b[A\u001b[A\n",
      "\n",
      "\n",
      " 88%|████████▊ | 22/25 [00:16<00:02,  1.33it/s]\u001b[A\u001b[A\u001b[A\n",
      "\n",
      "\n",
      " 92%|█████████▏| 23/25 [00:17<00:01,  1.33it/s]\u001b[A\u001b[A\u001b[A\n",
      "\n",
      "\n",
      " 96%|█████████▌| 24/25 [00:17<00:00,  1.34it/s]\u001b[A\u001b[A\u001b[A\n",
      "\n",
      "\n",
      "100%|██████████| 25/25 [00:18<00:00,  1.34it/s]\u001b[A\u001b[A\u001b[A\n"
     ]
    },
    {
     "data": {
      "text/plain": [
       "{'DBPEDIA': 0.0, 'WIKIDATA': 0.0, 'YAGO': 0.0}"
      ]
     },
     "execution_count": 1360,
     "metadata": {},
     "output_type": "execute_result"
    }
   ],
   "source": [
    "test_country = 'cz'\n",
    "number_of_test_ents = 25\n",
    "gold_standard_nl = [\" \".join(item[0].split()[1:]) for item in random.sample(politicians_gold_standard[test_country], k=number_of_test_ents)]   \n",
    "\n",
    "nl_results = run_systems_for_country(gold_standard_nl, systems=['DBPEDIA', 'WIKIDATA', 'YAGO'], limit=100, language='cs', sleeptime=0.5)\n",
    "\n",
    "# for system in ['DBPEDIA', 'WIKIDATA', 'YAGO']:\n",
    "#     mistakes = []\n",
    "#     for i, (a, b) in enumerate(zip(gold_standard_nl, nl_results[system])):\n",
    "#         if a[1] != b:\n",
    "#             mistakes.append(i)\n",
    "#     system_mistakes[system] = mistakes\n",
    "            \n",
    "# print(system_mistakes)\n",
    "# # get the mistakes for all systems\n",
    "# venn_diagram_systems(system_mistakes)\n",
    "calculate_country_accuracy(gold_standard_nl, nl_results, eval_type='acc', limit=100)"
   ]
  },
  {
   "cell_type": "markdown",
   "id": "f1427ae3",
   "metadata": {},
   "source": [
    "## Some Examples of Lemmatization"
   ]
  },
  {
   "cell_type": "code",
   "execution_count": 154,
   "id": "d8c5c160",
   "metadata": {},
   "outputs": [],
   "source": [
    "persons = combined_df[combined_df['type'] == 'PER']"
   ]
  },
  {
   "cell_type": "code",
   "execution_count": 166,
   "id": "8245c453",
   "metadata": {},
   "outputs": [
    {
     "name": "stdout",
     "output_type": "stream",
     "text": [
      "                              string lang\n",
      "81                 Donaldowi Tuskowi   PL\n",
      "826                    Donalda Tuska   PL\n",
      "852                            Tuska   PL\n",
      "931                      Donald Tusk   PL\n",
      "3435                    Donald Tuska   PL\n",
      "3436                           Tusku   PL\n",
      "3440                            Tusk   PL\n",
      "21902               Donaldem Tuskiem   PL\n",
      "51558                Donaldzie Tusku   PL\n",
      "125738                       Tuskiem   PL\n",
      "224585                 Michała Tuska   PL\n",
      "224801                   Michał Tusk   PL\n",
      "230769                       Tuskowi   PL\n",
      "307565                    wice-Tuska   PL\n",
      "311580                    Wina Tuska   PL\n",
      "407409                         Tuski   PL\n",
      "544581                 Riposta Tuska   PL\n",
      "583357               Berezą Kartuską   PL\n",
      "638325               Berezę Kartuską   PL\n",
      "22681                           Tusk   ES\n",
      "116030                   Donald Tusk   ES\n",
      "224823                    señor Tusk   ES\n",
      "84170                    Donald Tusk   FR\n",
      "14894                    Donald Tusk   HU\n",
      "4797                            Tusk   HR\n",
      "4849                           Tusku   HR\n",
      "9844                           Tuska   HR\n",
      "13938                         Tuskom   HR\n",
      "106083               Donaldom Tuskom   HR\n",
      "427152                 Donalda Tuska   HR\n",
      "428865                   Donald Tusk   HR\n",
      "456090                 Donaldu Tusku   HR\n",
      "150485                   Donald Tusk   CZ\n",
      "185544                         Tuska   CZ\n",
      "201546                 Donalda Tuska   CZ\n",
      "231711                          Tusk   CZ\n",
      "431102               Donaldem Tuskem   CZ\n",
      "581469                        Tuskem   CZ\n",
      "956                      Donald Tusk   GB\n",
      "958                             Tusk   GB\n",
      "57945                 Tusk yesterday   GB\n",
      "132418                      Tusk two   GB\n",
      "383006                       Mr Tusk   GB\n",
      "619087            Tusk last December   GB\n",
      "619118                    Tusk today   GB\n",
      "1144719        Donald Tusk last week   GB\n",
      "1519035                Donald Tusk …   GB\n",
      "1685568               Tusk last week   GB\n",
      "1801141       Tusk earlier this year   GB\n",
      "1857647             Tusk about today   GB\n",
      "1858762            Donald Tusk today   GB\n",
      "1901297         Donald Tusk recently   GB\n",
      "1919071       Donald Tusk last night   GB\n",
      "1992238  Donald Tusk about last week   GB\n",
      "2135931                  Messrs Tusk   GB\n",
      "3608                       D . Tusku   LT\n",
      "56813                     D . Tuskas   LT\n",
      "169656                  M . Tuskienę   LT\n",
      "197714                     D . Tuską   LT\n",
      "250201                  M . Tuskienė   LT\n",
      "418998                     D . Tusko   LT\n",
      "74092                           Tusk   IT\n",
      "126144                   Donald Tusk   IT\n",
      "248353                 Donalds Tusks   IS\n",
      "252833                          Tusk   IS\n",
      "4091                            Tusk   NL\n",
      "20157                    Donald Tusk   NL\n",
      "706277                     Elon Tusk   NL\n",
      "47685                    Donald Tusk   BE\n",
      "101519                          Tusk   BE\n",
      "136349                       M. Tusk   BE\n",
      "122082                        Tuskom   SI\n",
      "158085                   Donald Tusk   SI\n",
      "158710                          Tusk   SI\n",
      "160049                         Tuska   SI\n",
      "160059               Donaldom Tuskom   SI\n"
     ]
    }
   ],
   "source": [
    "with pd.option_context('display.max_rows', None, 'display.max_columns', None):  # more options can be specified also\n",
    "    print(persons[persons['string'].str.lower().str.contains('tusk')][['string', 'lang']].drop_duplicates())"
   ]
  },
  {
   "cell_type": "markdown",
   "id": "bf973028",
   "metadata": {},
   "source": [
    "Below is a simple count of how often entities are lemmatized, by simple counting how many times the original string is equal to the lemmatization string (no lemmatization) and taking the inverse of that proportion."
   ]
  },
  {
   "cell_type": "code",
   "execution_count": 187,
   "id": "6770458e",
   "metadata": {},
   "outputs": [
    {
     "data": {
      "text/html": [
       "<div>\n",
       "<style scoped>\n",
       "    .dataframe tbody tr th:only-of-type {\n",
       "        vertical-align: middle;\n",
       "    }\n",
       "\n",
       "    .dataframe tbody tr th {\n",
       "        vertical-align: top;\n",
       "    }\n",
       "\n",
       "    .dataframe thead th {\n",
       "        text-align: right;\n",
       "    }\n",
       "</style>\n",
       "<table border=\"1\" class=\"dataframe\">\n",
       "  <thead>\n",
       "    <tr style=\"text-align: right;\">\n",
       "      <th></th>\n",
       "      <th>string</th>\n",
       "      <th>lemma</th>\n",
       "      <th>lang</th>\n",
       "    </tr>\n",
       "  </thead>\n",
       "  <tbody>\n",
       "    <tr>\n",
       "      <th>826</th>\n",
       "      <td>Donalda Tuska</td>\n",
       "      <td>Donald Tusk</td>\n",
       "      <td>PL</td>\n",
       "    </tr>\n",
       "    <tr>\n",
       "      <th>887</th>\n",
       "      <td>Donalda Tuska</td>\n",
       "      <td>Donald Tusk</td>\n",
       "      <td>PL</td>\n",
       "    </tr>\n",
       "    <tr>\n",
       "      <th>3548</th>\n",
       "      <td>Donalda Tuska</td>\n",
       "      <td>Donald Tusk</td>\n",
       "      <td>PL</td>\n",
       "    </tr>\n",
       "    <tr>\n",
       "      <th>3596</th>\n",
       "      <td>Donalda Tuska</td>\n",
       "      <td>Donald Tusk</td>\n",
       "      <td>PL</td>\n",
       "    </tr>\n",
       "    <tr>\n",
       "      <th>4479</th>\n",
       "      <td>Donalda Tuska</td>\n",
       "      <td>Donald Tusk</td>\n",
       "      <td>PL</td>\n",
       "    </tr>\n",
       "    <tr>\n",
       "      <th>...</th>\n",
       "      <td>...</td>\n",
       "      <td>...</td>\n",
       "      <td>...</td>\n",
       "    </tr>\n",
       "    <tr>\n",
       "      <th>488712</th>\n",
       "      <td>Donalda Tuska</td>\n",
       "      <td>Donald Tusk</td>\n",
       "      <td>HR</td>\n",
       "    </tr>\n",
       "    <tr>\n",
       "      <th>602699</th>\n",
       "      <td>Donalda Tuska</td>\n",
       "      <td>Donald Tusak</td>\n",
       "      <td>HR</td>\n",
       "    </tr>\n",
       "    <tr>\n",
       "      <th>201546</th>\n",
       "      <td>Donalda Tuska</td>\n",
       "      <td>Donaldo Tusek</td>\n",
       "      <td>CZ</td>\n",
       "    </tr>\n",
       "    <tr>\n",
       "      <th>311422</th>\n",
       "      <td>Donalda Tuska</td>\n",
       "      <td>Donaldo Tusek</td>\n",
       "      <td>CZ</td>\n",
       "    </tr>\n",
       "    <tr>\n",
       "      <th>520862</th>\n",
       "      <td>Donalda Tuska</td>\n",
       "      <td>Donald Tusek</td>\n",
       "      <td>CZ</td>\n",
       "    </tr>\n",
       "  </tbody>\n",
       "</table>\n",
       "<p>419 rows × 3 columns</p>\n",
       "</div>"
      ],
      "text/plain": [
       "               string          lemma lang\n",
       "826     Donalda Tuska    Donald Tusk   PL\n",
       "887     Donalda Tuska    Donald Tusk   PL\n",
       "3548    Donalda Tuska    Donald Tusk   PL\n",
       "3596    Donalda Tuska    Donald Tusk   PL\n",
       "4479    Donalda Tuska    Donald Tusk   PL\n",
       "...               ...            ...  ...\n",
       "488712  Donalda Tuska    Donald Tusk   HR\n",
       "602699  Donalda Tuska   Donald Tusak   HR\n",
       "201546  Donalda Tuska  Donaldo Tusek   CZ\n",
       "311422  Donalda Tuska  Donaldo Tusek   CZ\n",
       "520862  Donalda Tuska   Donald Tusek   CZ\n",
       "\n",
       "[419 rows x 3 columns]"
      ]
     },
     "execution_count": 187,
     "metadata": {},
     "output_type": "execute_result"
    }
   ],
   "source": [
    "persons[['string', 'lemma', 'lang']][persons['string'] == 'Donalda Tuska']"
   ]
  },
  {
   "cell_type": "code",
   "execution_count": 4,
   "id": "52dae486",
   "metadata": {},
   "outputs": [],
   "source": [
    "lemmatization_percentage = combined_df.groupby(['lang', 'type']).apply(lambda x: (x['string'].str.lower() != x['lemma'].str.lower()).sum() / x.shape[0])"
   ]
  },
  {
   "cell_type": "code",
   "execution_count": 12,
   "id": "abd431c0",
   "metadata": {},
   "outputs": [],
   "source": [
    "lemma_usage = lemmatization_percentage.unstack().sort_values(by='PER', ascending=False).round(2)"
   ]
  },
  {
   "cell_type": "code",
   "execution_count": 13,
   "id": "851b7ea8",
   "metadata": {},
   "outputs": [
    {
     "name": "stdout",
     "output_type": "stream",
     "text": [
      "\\begin{tabular}{lrrrr}\n",
      "\\toprule\n",
      "type &   LOC &  MISC &   ORG &   PER \\\\\n",
      "lang &       &       &       &       \\\\\n",
      "\\midrule\n",
      "LV   &   NaN &   NaN &  0.87 &  0.60 \\\\\n",
      "TR   &  0.52 &   NaN &  0.72 &  0.45 \\\\\n",
      "IS   &  0.67 &  0.80 &  0.64 &  0.41 \\\\\n",
      "CZ   &  0.77 &  0.38 &  0.65 &  0.41 \\\\\n",
      "PL   &  0.87 &   NaN &  0.76 &  0.36 \\\\\n",
      "HR   &  0.62 &  0.91 &  0.69 &  0.36 \\\\\n",
      "SI   &  0.76 &  0.91 &  0.75 &  0.34 \\\\\n",
      "IT   &  0.06 &   NaN &  0.13 &  0.26 \\\\\n",
      "FR   &  0.40 &  0.18 &  0.35 &  0.24 \\\\\n",
      "BE   &  0.09 &  0.42 &  0.26 &  0.15 \\\\\n",
      "HU   &   NaN &  0.26 &  0.18 &  0.15 \\\\\n",
      "LT   &  0.24 &  0.50 &  0.88 &  0.05 \\\\\n",
      "DK   &  0.12 &  0.61 &  0.41 &  0.04 \\\\\n",
      "NL   &  0.04 &  0.41 &  0.10 &  0.03 \\\\\n",
      "ES   &  0.01 &  0.08 &  0.04 &  0.02 \\\\\n",
      "BG   &  0.09 &  0.73 &  0.68 &  0.01 \\\\\n",
      "GB   &  0.00 &  0.06 &  0.01 &  0.00 \\\\\n",
      "\\bottomrule\n",
      "\\end{tabular}\n",
      "\n"
     ]
    }
   ],
   "source": [
    "print(lemma_usage.to_latex())"
   ]
  },
  {
   "cell_type": "code",
   "execution_count": 214,
   "id": "07d4d78c",
   "metadata": {},
   "outputs": [],
   "source": [
    "# Tellingen maar nu uniek\n",
    "# pak even de top 10 namen als proxy\n",
    "\n",
    "lemmatization_percentage_unique = persons.groupby('lang').apply(lambda x: ( x[x['string'].str.lower() != x['lemma'].str.lower()]['string'].nunique() ) / x['string'].nunique())\n"
   ]
  },
  {
   "cell_type": "code",
   "execution_count": 216,
   "id": "fc42cff4",
   "metadata": {},
   "outputs": [
    {
     "data": {
      "text/plain": [
       "lang\n",
       "TR    0.721067\n",
       "LV    0.654971\n",
       "CZ    0.596284\n",
       "SI    0.552700\n",
       "PL    0.523609\n",
       "HR    0.521090\n",
       "IS    0.504552\n",
       "HU    0.320928\n",
       "BE    0.174571\n",
       "DK    0.169928\n",
       "FR    0.114642\n",
       "LT    0.094808\n",
       "BG    0.082099\n",
       "IT    0.050418\n",
       "NL    0.046147\n",
       "ES    0.032980\n",
       "GB    0.009015\n",
       "dtype: float64"
      ]
     },
     "execution_count": 216,
     "metadata": {},
     "output_type": "execute_result"
    }
   ],
   "source": [
    "lemmatization_percentage_unique.sort_values(ascending=False)"
   ]
  },
  {
   "cell_type": "markdown",
   "id": "ae3d93f8",
   "metadata": {},
   "source": [
    "# Extension 1: Matching Entities with Parliament Members"
   ]
  },
  {
   "cell_type": "markdown",
   "id": "e4e63e40",
   "metadata": {},
   "source": [
    "In this extension, we investigate how the usage of the metdata present in the parlamint corpus can help with the disambiguation / de-aliasing of names. For this we will use the XML files containing the parliament members for the various countries. We will then select semi-randomly several entities from the csv files with entities from 6 countries. We hand label them, and then perform the evaluation of the parliament member scoping approach."
   ]
  },
  {
   "cell_type": "code",
   "execution_count": 86,
   "id": "42dfe45a",
   "metadata": {},
   "outputs": [],
   "source": [
    "# First we read in all metadata files and convert them to a 'python-friendly' format.\n",
    "metadata_folders = [os.path.join('ParlaMintDatabases', file) for file in os.listdir('ParlaMintDatabases')]\n",
    "import lxml.etree as ET\n",
    "from collections import defaultdict\n",
    "def read_xml_file(file_path):\n",
    "    xml_file = ET.parse(file_path)\n",
    "    namespaces = {'ns': 'http://www.tei-c.org/ns/1.0', 'xml': 'http://www.w3.org/XML/1998/namespace'}\n",
    "    persons = xml_file.xpath('.//ns:person', namespaces=namespaces)\n",
    "    persons_dict = defaultdict(dict)\n",
    "    for person in persons:\n",
    "        forename = person.xpath('.//ns:forename', namespaces=namespaces)\n",
    "        surname = person.xpath('.//ns:surname', namespaces=namespaces)\n",
    "        person_id = person.attrib['{http://www.w3.org/XML/1998/namespace}id']\n",
    "        \n",
    "        if forename:\n",
    "            persons_dict[person_id]['forename'] = forename[0].text\n",
    "        else:\n",
    "            persons_dict[person_id]['forename'] = ''\n",
    "\n",
    "        if surname:\n",
    "            persons_dict[person_id]['surname'] = surname[0].text\n",
    "        else:\n",
    "            persons_dict[person_id]['surname'] = ''\n",
    "            \n",
    "    return persons_dict"
   ]
  },
  {
   "cell_type": "code",
   "execution_count": 87,
   "id": "e2e2aab2",
   "metadata": {},
   "outputs": [],
   "source": [
    "# Now we construct the final dictionary, which contains all languages as key in the dict and the output of `read_xml_file` as the values.\n",
    "all_parliament_members = {}\n",
    "all_members = []\n",
    "for parliament in metadata_folders:\n",
    "    country = parliament[-6:-4]\n",
    "    all_parliament_members[country] = read_xml_file(parliament)"
   ]
  },
  {
   "cell_type": "code",
   "execution_count": 69,
   "id": "51a25bb3",
   "metadata": {},
   "outputs": [],
   "source": [
    "nl_entities = combined_df[(combined_df.lang == 'NL') & (combined_df.type == 'PER')]['string'].unique()\n",
    "gb_entities = combined_df[(combined_df.lang == 'GB') & (combined_df.type == 'PER')]['string'].unique()\n",
    "pl_entities = combined_df[(combined_df.lang == 'PL') & (combined_df.type == 'PER')]['string'].unique()\n",
    "cz_entities = combined_df[(combined_df.lang == 'CZ') & (combined_df.type == 'PER')]['string'].unique()\n",
    "fr_entities = combined_df[(combined_df.lang == 'FR') & (combined_df.type == 'PER')]['string'].unique()\n",
    "be_entities = combined_df[(combined_df.lang == 'BE') & (combined_df.type == 'PER')]['string'].unique()"
   ]
  },
  {
   "cell_type": "code",
   "execution_count": 70,
   "id": "6f2b22d7-eb85-4ab8-9842-cd1fbc7ef48a",
   "metadata": {},
   "outputs": [],
   "source": [
    "sample_entities_nl = nl_entities[:20]\n",
    "sample_entities_gb = gb_entities[:20]\n",
    "sample_entities_pl = pl_entities[:20]\n",
    "sample_entities_cz = cz_entities[:20]\n",
    "sample_entities_fr = fr_entities[:40]\n",
    "sample_entities_be = be_entities[:20]"
   ]
  },
  {
   "cell_type": "code",
   "execution_count": 71,
   "id": "4dcbe0a1-3249-45f7-a6a6-07dbd515dece",
   "metadata": {},
   "outputs": [
    {
     "name": "stdout",
     "output_type": "stream",
     "text": [
      "['De Vries' 'Oettinger' 'Roemer' 'Klein' 'Pechtold' 'Van Tongeren'\n",
      " 'Schippers' 'Buma' 'Karabulut' 'Monasch' 'Van Helvert' 'De Rouwe' 'Knops'\n",
      " 'Timmermans' 'Commissaris Timmermans' 'Juncker' 'Opstelten' 'Erdogan'\n",
      " 'Mogherini' 'Segers']\n",
      "['St George' 'Mr Speaker' 'Chester' 'Tim Draycott' 'Charlotte Leslie'\n",
      " 'Jess' 'Halton' 'Graham Jones' 'Julie Cooper' 'Helen Jones'\n",
      " 'Nicola Blackwood' 'John Pugh' 'Pauline Cafferkey' 'Frist' 'Hull'\n",
      " 'Duncan Bew' 'Corby' 'Tom Pursglove' 'Mrs Bone' 'Harriet North']\n",
      "['Piotra Łukasza Babiarza' 'Piotra Olszówkę' 'Piotr Olszówka'\n",
      " 'Beatę Szydło' 'Grzegorza Schetyny' 'Grzegorza Schetynę' 'Rysiek'\n",
      " 'Beata Szydło' 'Kaleta' 'Grzegorz Schetyna' 'Misiewiczów'\n",
      " 'Donaldowi Tuskowi' 'Antoniemu Macierewiczowi' 'Kaczyński' 'Kaczyńskiego'\n",
      " 'Jarosław Kaczyński' 'Szydło' 'Waszczykowskim' 'Macierewiczem'\n",
      " 'Andrzejem Dudą']\n",
      "['Jaroslava Faltýnka' 'Pavla Kováčika' 'Michala Kučeru' 'Petra Kudelu'\n",
      " 'Pavel Kováčik' 'Jaroslav Faltýnek' 'Petr Kudela' 'Rámcová'\n",
      " 'Robina Böhnische' 'Roman Procházka' 'Miroslava Němcová'\n",
      " 'Bohuslava Sobotku' 'Zbyněk Stanjura' 'Stanjurovi' 'Stanjurou' 'Stanjura'\n",
      " 'Stanjury' 'Antonín Prachař' 'Prachařovi' 'Šidlo']\n",
      "['Mme Gisèle Biémouret' 'Mme' 'Madame la ministre' 'Madame' 'Cessez'\n",
      " 'M. Christian Jacob.' 'Premier ministre' 'J' 'M. le Premier ministre'\n",
      " 'Jacob' 'M. Nicolas Démoulin' 'Monsieur le ministre' 'M.' 'Démoulin'\n",
      " 'M. Paul Christophe' 'M. Paul-André Colombani'\n",
      " 'Monsieur le Premier ministre' 'M. Alexis Corbière' 'Buzyn' 'Corbière'\n",
      " 'Mme Stéphanie Rist' 'Macron' 'François Hollande' 'Thomas Mesnier'\n",
      " 'Marisol Touraine' 'M. Bernard Perrut' 'Jean-Pierre Door'\n",
      " 'Jean-Carles Grelier' 'Gilles Lurton' 'M. Griveaux' 'Perrut'\n",
      " 'M. Laurent Garcia' 'Carole Grandjean' 'M. Jean-Paul Lecoq.'\n",
      " 'Emmanuel Macron' 'Idriss Déby' 'Mélenchon' 'M. Frédéric Barbier'\n",
      " 'Tavares' 'Ford']\n",
      "['Charles-Ferdinand Nothomb' 'Mark Eyskens' 'Guy Verhofstadt' 'Calvo'\n",
      " 'M. Bonnafé' 'Monsieur le président' 'M.' 'Monsieur' 'Gilkinet' 'Geens'\n",
      " 'Van Biesen' 'M. Albert Frère' 'Bonnafé' 'Tilmant' 'M' 'Van Broekhoven'\n",
      " 'Dedecker' 'Crombez' 'Collega Temmerman' 'Hedebouw']\n"
     ]
    }
   ],
   "source": [
    "print(sample_entities_nl)\n",
    "print(sample_entities_gb)\n",
    "print(sample_entities_pl)\n",
    "print(sample_entities_cz)\n",
    "print(sample_entities_fr)\n",
    "print(sample_entities_be)"
   ]
  },
  {
   "cell_type": "markdown",
   "id": "1a585ef7-2844-4a7d-b237-798110950451",
   "metadata": {},
   "source": [
    "We manually select 10 entities from each country, making sure that they are non ambigious, and that they are not noise in the dataset."
   ]
  },
  {
   "cell_type": "code",
   "execution_count": 79,
   "id": "f27a7674-5ae7-4406-9824-b781d0d1d66c",
   "metadata": {},
   "outputs": [],
   "source": [
    "nl_entities = {'Oettinger': [], 'Roemer': [], 'Pechtold': [],\n",
    "              'Van Tongeren': [], 'Schippers': [], 'Buma': [], 'Karabulut': [],\n",
    "              'Monasch': [], 'Van Helvert': [], 'De Rouwe': []}"
   ]
  },
  {
   "cell_type": "code",
   "execution_count": 112,
   "id": "3a8df065-2958-4bd0-a080-ec29b89ee673",
   "metadata": {},
   "outputs": [],
   "source": [
    "# gb_entities = {'Tim Draycott': [], 'Charlotte Leslie': [], 'Graham Jones': [], 'Julie Cooper': [],\n",
    "#                'Helen Jones': [], 'Nicola Blackwood': [], 'John Pugh': [],\n",
    "#                'Pauline Cafferkey': [], 'Duncan Bew': [], 'Tom Pursglove': []}\n",
    "gb_entities = {'Draycott': [], 'Leslie': [], 'Jones': [], 'Cooper': [],\n",
    "               'Jones': [], 'Blackwood': [], 'Pugh': [],\n",
    "               'Cafferkey': [], 'Bew': [], 'Pursglove': []}\n"
   ]
  },
  {
   "cell_type": "code",
   "execution_count": 81,
   "id": "3e8c85f6-a513-4129-b48a-539d20333ffa",
   "metadata": {},
   "outputs": [],
   "source": [
    "be_entities = {'Charles-Ferdinand Nothomb': [], 'Mark Eyskens': [],\n",
    "               'Guy Verhofstadt': [], 'M. Bonnafé': [],\n",
    "               'Gilkinet': [], 'Geens': [],\n",
    "               'Van Biesen': [],  'M. Albert Frère': [], 'Tilmant': [],\n",
    "               'Collega Temmerman': []}"
   ]
  },
  {
   "cell_type": "code",
   "execution_count": 82,
   "id": "803ebf5f-3177-42d8-aa38-cfe931ccfac9",
   "metadata": {},
   "outputs": [],
   "source": [
    "fr_entities = {'Mme Gisèle Biémouret': [], 'Cessez': [],\n",
    " 'M. Christian Jacob.': [], 'M. Nicolas Démoulin': [],\n",
    " 'M. Paul Christophe': [], 'M. Paul-André Colombani': [],\n",
    " 'M. Alexis Corbière': [], 'Buzyn': [], 'Idriss Déby': [],\n",
    "              'M. Frédéric Barbier': []}"
   ]
  },
  {
   "cell_type": "code",
   "execution_count": 113,
   "id": "dd1833b6-91f7-41aa-a8bd-8e1d01bde274",
   "metadata": {},
   "outputs": [],
   "source": [
    "# Matching\n",
    "# We do matching by cosine similarity matching between a name and all the members in the parliament.\n",
    "def best_match_entity(entity_name, country):\n",
    "    candidates = [item['surname'] for item in all_parliament_members[country].values()]\n",
    "    vectorizer = TfidfVectorizer(analyzer='char', ngram_range=(2, 4))\n",
    "    vectorized_candidates = vectorizer.fit_transform(candidates)\n",
    "    \n",
    "    vectorized_entity = vectorizer.transform([entity_name])\n",
    "    similarities = vectorized_entity @ vectorized_candidates.T\n",
    "    \n",
    "    best_match = candidates[similarities.argmax()]\n",
    "    print(\"For %s, %s is the best match\" % (entity_name, best_match))"
   ]
  },
  {
   "cell_type": "code",
   "execution_count": 114,
   "id": "2aceaae9-6f72-4b92-be74-a79afd837843",
   "metadata": {},
   "outputs": [
    {
     "name": "stdout",
     "output_type": "stream",
     "text": [
      "For Draycott, Boycott is the best match\n",
      "For Leslie, Leslie is the best match\n",
      "For Jones, Jones is the best match\n",
      "For Cooper, Cooper is the best match\n",
      "For Blackwood, Blackwood is the best match\n",
      "For Pugh, Pugh is the best match\n",
      "For Cafferkey, Sharkey is the best match\n",
      "For Bew, Bew is the best match\n",
      "For Pursglove, Pursglove is the best match\n"
     ]
    }
   ],
   "source": [
    "for item in gb_entities.keys():\n",
    "    best_match_entity(item, 'GB')"
   ]
  },
  {
   "cell_type": "code",
   "execution_count": 143,
   "id": "7c6add4f-fe29-404f-ae9c-f78ceb1cd678",
   "metadata": {},
   "outputs": [
    {
     "name": "stderr",
     "output_type": "stream",
     "text": [
      "<ipython-input-44-ae4ab4ec3f94>:12: SettingWithCopyWarning: \n",
      "A value is trying to be set on a copy of a slice from a DataFrame.\n",
      "Try using .loc[row_indexer,col_indexer] = value instead\n",
      "\n",
      "See the caveats in the documentation: https://pandas.pydata.org/pandas-docs/stable/user_guide/indexing.html#returning-a-view-versus-a-copy\n",
      "  popularity_df['lang_count'] = popularity_df['string'].map(popular_ents)\n"
     ]
    }
   ],
   "source": [
    "nl_local = get_entities_from_parlamint('international', country='CZ', exclude_types=['MISC', 'LOC', 'ORG'])"
   ]
  },
  {
   "cell_type": "code",
   "execution_count": 145,
   "id": "1590e946-3b15-4fde-9fa6-addad6fc2bd9",
   "metadata": {},
   "outputs": [
    {
     "data": {
      "text/html": [
       "<div>\n",
       "<style scoped>\n",
       "    .dataframe tbody tr th:only-of-type {\n",
       "        vertical-align: middle;\n",
       "    }\n",
       "\n",
       "    .dataframe tbody tr th {\n",
       "        vertical-align: top;\n",
       "    }\n",
       "\n",
       "    .dataframe thead th {\n",
       "        text-align: right;\n",
       "    }\n",
       "</style>\n",
       "<table border=\"1\" class=\"dataframe\">\n",
       "  <thead>\n",
       "    <tr style=\"text-align: right;\">\n",
       "      <th></th>\n",
       "      <th>string</th>\n",
       "      <th>lang</th>\n",
       "      <th>lemma</th>\n",
       "      <th>lang_count</th>\n",
       "    </tr>\n",
       "  </thead>\n",
       "  <tbody>\n",
       "    <tr>\n",
       "      <th>1653</th>\n",
       "      <td>Gabriel</td>\n",
       "      <td>CZ</td>\n",
       "      <td>Gabriel</td>\n",
       "      <td>9</td>\n",
       "    </tr>\n",
       "    <tr>\n",
       "      <th>1962</th>\n",
       "      <td>Adam</td>\n",
       "      <td>CZ</td>\n",
       "      <td>Adam</td>\n",
       "      <td>9</td>\n",
       "    </tr>\n",
       "    <tr>\n",
       "      <th>3761</th>\n",
       "      <td>Obama</td>\n",
       "      <td>CZ</td>\n",
       "      <td>Obama</td>\n",
       "      <td>12</td>\n",
       "    </tr>\n",
       "    <tr>\n",
       "      <th>5120</th>\n",
       "      <td>Reagan</td>\n",
       "      <td>CZ</td>\n",
       "      <td>Reagan</td>\n",
       "      <td>12</td>\n",
       "    </tr>\n",
       "    <tr>\n",
       "      <th>6394</th>\n",
       "      <td>David</td>\n",
       "      <td>CZ</td>\n",
       "      <td>David</td>\n",
       "      <td>11</td>\n",
       "    </tr>\n",
       "    <tr>\n",
       "      <th>6890</th>\n",
       "      <td>Putin</td>\n",
       "      <td>CZ</td>\n",
       "      <td>Putin</td>\n",
       "      <td>10</td>\n",
       "    </tr>\n",
       "    <tr>\n",
       "      <th>7832</th>\n",
       "      <td>James Bond</td>\n",
       "      <td>CZ</td>\n",
       "      <td>James Bond</td>\n",
       "      <td>10</td>\n",
       "    </tr>\n",
       "    <tr>\n",
       "      <th>10042</th>\n",
       "      <td>Robespierre</td>\n",
       "      <td>CZ</td>\n",
       "      <td>Robespierre</td>\n",
       "      <td>10</td>\n",
       "    </tr>\n",
       "    <tr>\n",
       "      <th>10121</th>\n",
       "      <td>Stalin</td>\n",
       "      <td>CZ</td>\n",
       "      <td>Stalin</td>\n",
       "      <td>9</td>\n",
       "    </tr>\n",
       "    <tr>\n",
       "      <th>10798</th>\n",
       "      <td>Bertolt Brecht</td>\n",
       "      <td>CZ</td>\n",
       "      <td>Bertolt Brecht</td>\n",
       "      <td>10</td>\n",
       "    </tr>\n",
       "  </tbody>\n",
       "</table>\n",
       "</div>"
      ],
      "text/plain": [
       "               string lang           lemma  lang_count\n",
       "1653          Gabriel   CZ         Gabriel           9\n",
       "1962             Adam   CZ            Adam           9\n",
       "3761            Obama   CZ           Obama          12\n",
       "5120           Reagan   CZ          Reagan          12\n",
       "6394            David   CZ           David          11\n",
       "6890            Putin   CZ           Putin          10\n",
       "7832       James Bond   CZ      James Bond          10\n",
       "10042     Robespierre   CZ     Robespierre          10\n",
       "10121          Stalin   CZ          Stalin           9\n",
       "10798  Bertolt Brecht   CZ  Bertolt Brecht          10"
      ]
     },
     "execution_count": 145,
     "metadata": {},
     "output_type": "execute_result"
    }
   ],
   "source": [
    "nl_local[:10]"
   ]
  },
  {
   "cell_type": "code",
   "execution_count": null,
   "id": "ee81ee6f-afc4-4f0e-8f5a-94eb27ca3762",
   "metadata": {},
   "outputs": [],
   "source": []
  },
  {
   "cell_type": "code",
   "execution_count": 124,
   "id": "6cf99d09-800d-4a4a-894d-bc210f6e0c7d",
   "metadata": {},
   "outputs": [],
   "source": [
    "\n",
    "#all_parliament_members['FR']"
   ]
  },
  {
   "cell_type": "code",
   "execution_count": null,
   "id": "1c1a32b9-f973-48a0-b6cd-4f0615a01192",
   "metadata": {},
   "outputs": [],
   "source": []
  }
 ],
 "metadata": {
  "kernelspec": {
   "display_name": "DutchRoberta",
   "language": "python",
   "name": "dutchroberta"
  },
  "language_info": {
   "codemirror_mode": {
    "name": "ipython",
    "version": 3
   },
   "file_extension": ".py",
   "mimetype": "text/x-python",
   "name": "python",
   "nbconvert_exporter": "python",
   "pygments_lexer": "ipython3",
   "version": "3.9.12"
  }
 },
 "nbformat": 4,
 "nbformat_minor": 5
}
